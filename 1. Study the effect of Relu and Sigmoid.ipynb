{
 "cells": [
  {
   "cell_type": "markdown",
   "metadata": {},
   "source": [
    "# Study of Multilayer Preceptron"
   ]
  },
  {
   "cell_type": "markdown",
   "metadata": {},
   "source": [
    "## Summary"
   ]
  },
  {
   "cell_type": "markdown",
   "metadata": {},
   "source": [
    "This notebook is created to study the effect of using different activation functions: Sigmoid and Relu. In this notebook, I have started with very simple model and seeing how the performance changes on making the model more deep.\n",
    "In this model, I started with an accuracy of **92.30%** and end with **97.30%** on MNIST Test Dataset by using simple Multilayer Preceptron model."
   ]
  },
  {
   "cell_type": "code",
   "execution_count": 1,
   "metadata": {},
   "outputs": [
    {
     "name": "stderr",
     "output_type": "stream",
     "text": [
      "Using TensorFlow backend.\n"
     ]
    }
   ],
   "source": [
    "import keras"
   ]
  },
  {
   "cell_type": "code",
   "execution_count": 24,
   "metadata": {
    "collapsed": true
   },
   "outputs": [],
   "source": [
    "import numpy as np\n",
    "import matplotlib.pyplot as plt"
   ]
  },
  {
   "cell_type": "code",
   "execution_count": 25,
   "metadata": {
    "collapsed": true
   },
   "outputs": [],
   "source": [
    "from keras.datasets import mnist\n",
    "from keras.models import Sequential\n",
    "from keras.layers.core import Dense, Activation\n",
    "from keras.optimizers import SGD\n",
    "from keras.utils import np_utils\n",
    "np.random.seed(1671) # for reproducibility"
   ]
  },
  {
   "cell_type": "code",
   "execution_count": 26,
   "metadata": {},
   "outputs": [
    {
     "name": "stdout",
     "output_type": "stream",
     "text": [
      "60000 train samples\n",
      "10000 test samples\n"
     ]
    }
   ],
   "source": [
    "(X_train, y_train), (X_test, y_test) = mnist.load_data()\n",
    "\n",
    "X_train = X_train.reshape(60000, 784)\n",
    "X_test = X_test.reshape(10000, 784)\n",
    "X_train = X_train.astype('float32')\n",
    "X_test = X_test.astype('float32')\n",
    "# normalize\n",
    "X_train /= 255\n",
    "X_test /= 255\n",
    "print(X_train.shape[0], 'train samples')\n",
    "print(X_test.shape[0], 'test samples')"
   ]
  },
  {
   "cell_type": "code",
   "execution_count": 27,
   "metadata": {},
   "outputs": [
    {
     "data": {
      "text/plain": [
       "array([5, 0, 4, ..., 5, 6, 8], dtype=uint8)"
      ]
     },
     "execution_count": 27,
     "metadata": {},
     "output_type": "execute_result"
    }
   ],
   "source": [
    "y_train"
   ]
  },
  {
   "cell_type": "code",
   "execution_count": 28,
   "metadata": {
    "collapsed": true
   },
   "outputs": [],
   "source": [
    "# convert class vectors to binary class matrices\n",
    "Y_train = np_utils.to_categorical(y_train, 10)\n",
    "Y_test = np_utils.to_categorical(y_test, 10)"
   ]
  },
  {
   "cell_type": "markdown",
   "metadata": {},
   "source": [
    "#### Creating very simple model without any hidden layer"
   ]
  },
  {
   "cell_type": "code",
   "execution_count": 29,
   "metadata": {},
   "outputs": [
    {
     "name": "stdout",
     "output_type": "stream",
     "text": [
      "_________________________________________________________________\n",
      "Layer (type)                 Output Shape              Param #   \n",
      "=================================================================\n",
      "dense_13 (Dense)             (None, 10)                7850      \n",
      "_________________________________________________________________\n",
      "activation_13 (Activation)   (None, 10)                0         \n",
      "=================================================================\n",
      "Total params: 7,850.0\n",
      "Trainable params: 7,850.0\n",
      "Non-trainable params: 0.0\n",
      "_________________________________________________________________\n"
     ]
    }
   ],
   "source": [
    "# 10 outputs\n",
    "# final stage is softmax\n",
    "model = Sequential()\n",
    "model.add(Dense(10, input_shape=(784,)))\n",
    "model.add(Activation('softmax'))\n",
    "model.summary()"
   ]
  },
  {
   "cell_type": "code",
   "execution_count": 31,
   "metadata": {
    "collapsed": true
   },
   "outputs": [],
   "source": [
    "model.compile(loss='categorical_crossentropy', optimizer='sgd', metrics=['accuracy'])"
   ]
  },
  {
   "cell_type": "code",
   "execution_count": 32,
   "metadata": {},
   "outputs": [
    {
     "name": "stdout",
     "output_type": "stream",
     "text": [
      "Train on 48000 samples, validate on 12000 samples\n",
      "Epoch 1/150\n",
      "48000/48000 [==============================] - 1s - loss: 1.0784 - acc: 0.7514 - val_loss: 0.6576 - val_acc: 0.8536\n",
      "Epoch 2/150\n",
      "48000/48000 [==============================] - 1s - loss: 0.6082 - acc: 0.8553 - val_loss: 0.5100 - val_acc: 0.8768\n",
      "Epoch 3/150\n",
      "48000/48000 [==============================] - 1s - loss: 0.5129 - acc: 0.8703 - val_loss: 0.4517 - val_acc: 0.8855\n",
      "Epoch 4/150\n",
      "48000/48000 [==============================] - 1s - loss: 0.4665 - acc: 0.8783 - val_loss: 0.4191 - val_acc: 0.8922\n",
      "Epoch 5/150\n",
      "48000/48000 [==============================] - 1s - loss: 0.4379 - acc: 0.8837 - val_loss: 0.3980 - val_acc: 0.8952\n",
      "Epoch 6/150\n",
      "48000/48000 [==============================] - 1s - loss: 0.4180 - acc: 0.8877 - val_loss: 0.3827 - val_acc: 0.9000\n",
      "Epoch 7/150\n",
      "48000/48000 [==============================] - 2s - loss: 0.4031 - acc: 0.8910 - val_loss: 0.3713 - val_acc: 0.9003\n",
      "Epoch 8/150\n",
      "48000/48000 [==============================] - 1s - loss: 0.3914 - acc: 0.8929 - val_loss: 0.3619 - val_acc: 0.9030\n",
      "Epoch 9/150\n",
      "48000/48000 [==============================] - 1s - loss: 0.3819 - acc: 0.8958 - val_loss: 0.3548 - val_acc: 0.9038\n",
      "Epoch 10/150\n",
      "48000/48000 [==============================] - 1s - loss: 0.3741 - acc: 0.8973 - val_loss: 0.3483 - val_acc: 0.9049\n",
      "Epoch 11/150\n",
      "48000/48000 [==============================] - 1s - loss: 0.3672 - acc: 0.8990 - val_loss: 0.3431 - val_acc: 0.9062\n",
      "Epoch 12/150\n",
      "48000/48000 [==============================] - 1s - loss: 0.3615 - acc: 0.9000 - val_loss: 0.3386 - val_acc: 0.9075\n",
      "Epoch 13/150\n",
      "48000/48000 [==============================] - 1s - loss: 0.3564 - acc: 0.9011 - val_loss: 0.3346 - val_acc: 0.9083\n",
      "Epoch 14/150\n",
      "48000/48000 [==============================] - 1s - loss: 0.3518 - acc: 0.9025 - val_loss: 0.3310 - val_acc: 0.9095\n",
      "Epoch 15/150\n",
      "48000/48000 [==============================] - 1s - loss: 0.3478 - acc: 0.9034 - val_loss: 0.3278 - val_acc: 0.9096\n",
      "Epoch 16/150\n",
      "48000/48000 [==============================] - 2s - loss: 0.3441 - acc: 0.9046 - val_loss: 0.3249 - val_acc: 0.9103\n",
      "Epoch 17/150\n",
      "48000/48000 [==============================] - 1s - loss: 0.3408 - acc: 0.9048 - val_loss: 0.3224 - val_acc: 0.9102\n",
      "Epoch 18/150\n",
      "48000/48000 [==============================] - 1s - loss: 0.3378 - acc: 0.9063 - val_loss: 0.3200 - val_acc: 0.9113\n",
      "Epoch 19/150\n",
      "48000/48000 [==============================] - 2s - loss: 0.3350 - acc: 0.9063 - val_loss: 0.3177 - val_acc: 0.9118\n",
      "Epoch 20/150\n",
      "48000/48000 [==============================] - 1s - loss: 0.3324 - acc: 0.9073 - val_loss: 0.3160 - val_acc: 0.9121\n",
      "Epoch 21/150\n",
      "48000/48000 [==============================] - 1s - loss: 0.3300 - acc: 0.9081 - val_loss: 0.3140 - val_acc: 0.9130\n",
      "Epoch 22/150\n",
      "48000/48000 [==============================] - 1s - loss: 0.3278 - acc: 0.9089 - val_loss: 0.3122 - val_acc: 0.9135\n",
      "Epoch 23/150\n",
      "48000/48000 [==============================] - 1s - loss: 0.3257 - acc: 0.9093 - val_loss: 0.3105 - val_acc: 0.9136\n",
      "Epoch 24/150\n",
      "48000/48000 [==============================] - 1s - loss: 0.3239 - acc: 0.9098 - val_loss: 0.3090 - val_acc: 0.9146\n",
      "Epoch 25/150\n",
      "48000/48000 [==============================] - 1s - loss: 0.3219 - acc: 0.9105 - val_loss: 0.3077 - val_acc: 0.9153\n",
      "Epoch 26/150\n",
      "48000/48000 [==============================] - 1s - loss: 0.3203 - acc: 0.9111 - val_loss: 0.3063 - val_acc: 0.9155\n",
      "Epoch 27/150\n",
      "48000/48000 [==============================] - 1s - loss: 0.3185 - acc: 0.9115 - val_loss: 0.3050 - val_acc: 0.9153\n",
      "Epoch 28/150\n",
      "48000/48000 [==============================] - 1s - loss: 0.3171 - acc: 0.9124 - val_loss: 0.3042 - val_acc: 0.9152\n",
      "Epoch 29/150\n",
      "48000/48000 [==============================] - 1s - loss: 0.3157 - acc: 0.9124 - val_loss: 0.3028 - val_acc: 0.9153\n",
      "Epoch 30/150\n",
      "48000/48000 [==============================] - 1s - loss: 0.3142 - acc: 0.9129 - val_loss: 0.3017 - val_acc: 0.9162\n",
      "Epoch 31/150\n",
      "48000/48000 [==============================] - 1s - loss: 0.3129 - acc: 0.9134 - val_loss: 0.3008 - val_acc: 0.9159\n",
      "Epoch 32/150\n",
      "48000/48000 [==============================] - 1s - loss: 0.3118 - acc: 0.9135 - val_loss: 0.2998 - val_acc: 0.9157\n",
      "Epoch 33/150\n",
      "48000/48000 [==============================] - 1s - loss: 0.3104 - acc: 0.9136 - val_loss: 0.2989 - val_acc: 0.9164\n",
      "Epoch 34/150\n",
      "48000/48000 [==============================] - 1s - loss: 0.3094 - acc: 0.9139 - val_loss: 0.2980 - val_acc: 0.9167\n",
      "Epoch 35/150\n",
      "48000/48000 [==============================] - 1s - loss: 0.3082 - acc: 0.9141 - val_loss: 0.2973 - val_acc: 0.9158\n",
      "Epoch 36/150\n",
      "48000/48000 [==============================] - 1s - loss: 0.3072 - acc: 0.9145 - val_loss: 0.2963 - val_acc: 0.9176\n",
      "Epoch 37/150\n",
      "48000/48000 [==============================] - 1s - loss: 0.3061 - acc: 0.9142 - val_loss: 0.2956 - val_acc: 0.9170\n",
      "Epoch 38/150\n",
      "48000/48000 [==============================] - 1s - loss: 0.3051 - acc: 0.9151 - val_loss: 0.2950 - val_acc: 0.9177\n",
      "Epoch 39/150\n",
      "48000/48000 [==============================] - 1s - loss: 0.3043 - acc: 0.9152 - val_loss: 0.2942 - val_acc: 0.9173\n",
      "Epoch 40/150\n",
      "48000/48000 [==============================] - 1s - loss: 0.3033 - acc: 0.9156 - val_loss: 0.2940 - val_acc: 0.9177\n",
      "Epoch 41/150\n",
      "48000/48000 [==============================] - 1s - loss: 0.3025 - acc: 0.9156 - val_loss: 0.2930 - val_acc: 0.9179\n",
      "Epoch 42/150\n",
      "48000/48000 [==============================] - 1s - loss: 0.3016 - acc: 0.9160 - val_loss: 0.2923 - val_acc: 0.9192\n",
      "Epoch 43/150\n",
      "48000/48000 [==============================] - 1s - loss: 0.3008 - acc: 0.9164 - val_loss: 0.2919 - val_acc: 0.9181\n",
      "Epoch 44/150\n",
      "48000/48000 [==============================] - 1s - loss: 0.3001 - acc: 0.9160 - val_loss: 0.2913 - val_acc: 0.9188\n",
      "Epoch 45/150\n",
      "48000/48000 [==============================] - 1s - loss: 0.2993 - acc: 0.9165 - val_loss: 0.2907 - val_acc: 0.9194\n",
      "Epoch 46/150\n",
      "48000/48000 [==============================] - 1s - loss: 0.2985 - acc: 0.9170 - val_loss: 0.2902 - val_acc: 0.9190\n",
      "Epoch 47/150\n",
      "48000/48000 [==============================] - 1s - loss: 0.2978 - acc: 0.9172 - val_loss: 0.2898 - val_acc: 0.9197\n",
      "Epoch 48/150\n",
      "48000/48000 [==============================] - 1s - loss: 0.2971 - acc: 0.9175 - val_loss: 0.2891 - val_acc: 0.9200\n",
      "Epoch 49/150\n",
      "48000/48000 [==============================] - 1s - loss: 0.2965 - acc: 0.9175 - val_loss: 0.2887 - val_acc: 0.9197\n",
      "Epoch 50/150\n",
      "48000/48000 [==============================] - 1s - loss: 0.2959 - acc: 0.9176 - val_loss: 0.2881 - val_acc: 0.9203\n",
      "Epoch 51/150\n",
      "48000/48000 [==============================] - 1s - loss: 0.2952 - acc: 0.9173 - val_loss: 0.2878 - val_acc: 0.9203\n",
      "Epoch 52/150\n",
      "48000/48000 [==============================] - 1s - loss: 0.2945 - acc: 0.9179 - val_loss: 0.2874 - val_acc: 0.9199\n",
      "Epoch 53/150\n",
      "48000/48000 [==============================] - 1s - loss: 0.2940 - acc: 0.9182 - val_loss: 0.2870 - val_acc: 0.9204\n",
      "Epoch 54/150\n",
      "48000/48000 [==============================] - 1s - loss: 0.2934 - acc: 0.9185 - val_loss: 0.2864 - val_acc: 0.9211\n",
      "Epoch 55/150\n",
      "48000/48000 [==============================] - 1s - loss: 0.2928 - acc: 0.9183 - val_loss: 0.2861 - val_acc: 0.9207\n",
      "Epoch 56/150\n",
      "48000/48000 [==============================] - 1s - loss: 0.2923 - acc: 0.9184 - val_loss: 0.2855 - val_acc: 0.9211\n",
      "Epoch 57/150\n",
      "48000/48000 [==============================] - 1s - loss: 0.2917 - acc: 0.9189 - val_loss: 0.2856 - val_acc: 0.9207\n",
      "Epoch 58/150\n",
      "48000/48000 [==============================] - 1s - loss: 0.2911 - acc: 0.9191 - val_loss: 0.2852 - val_acc: 0.9212\n",
      "Epoch 59/150\n",
      "48000/48000 [==============================] - 2s - loss: 0.2907 - acc: 0.9189 - val_loss: 0.2847 - val_acc: 0.9209\n",
      "Epoch 60/150\n",
      "48000/48000 [==============================] - 1s - loss: 0.2902 - acc: 0.9190 - val_loss: 0.2842 - val_acc: 0.9216\n",
      "Epoch 61/150\n",
      "48000/48000 [==============================] - 1s - loss: 0.2897 - acc: 0.9188 - val_loss: 0.2839 - val_acc: 0.9214\n",
      "Epoch 62/150\n",
      "48000/48000 [==============================] - 1s - loss: 0.2892 - acc: 0.9190 - val_loss: 0.2838 - val_acc: 0.9212\n",
      "Epoch 63/150\n",
      "48000/48000 [==============================] - 1s - loss: 0.2887 - acc: 0.9191 - val_loss: 0.2834 - val_acc: 0.9213\n",
      "Epoch 64/150\n",
      "48000/48000 [==============================] - 2s - loss: 0.2883 - acc: 0.9196 - val_loss: 0.2829 - val_acc: 0.9217\n",
      "Epoch 65/150\n",
      "48000/48000 [==============================] - 1s - loss: 0.2879 - acc: 0.9196 - val_loss: 0.2826 - val_acc: 0.9217\n",
      "Epoch 66/150\n",
      "48000/48000 [==============================] - 1s - loss: 0.2873 - acc: 0.9199 - val_loss: 0.2824 - val_acc: 0.92210.9\n",
      "Epoch 67/150\n",
      "48000/48000 [==============================] - 1s - loss: 0.2870 - acc: 0.9197 - val_loss: 0.2820 - val_acc: 0.9213\n",
      "Epoch 68/150\n",
      "48000/48000 [==============================] - 1s - loss: 0.2866 - acc: 0.9197 - val_loss: 0.2817 - val_acc: 0.9217\n",
      "Epoch 69/150\n",
      "48000/48000 [==============================] - 1s - loss: 0.2861 - acc: 0.9199 - val_loss: 0.2817 - val_acc: 0.9216\n",
      "Epoch 70/150\n",
      "48000/48000 [==============================] - 1s - loss: 0.2857 - acc: 0.9201 - val_loss: 0.2813 - val_acc: 0.9216\n",
      "Epoch 71/150\n",
      "48000/48000 [==============================] - 1s - loss: 0.2853 - acc: 0.9200 - val_loss: 0.2810 - val_acc: 0.9217\n",
      "Epoch 72/150\n",
      "48000/48000 [==============================] - 1s - loss: 0.2850 - acc: 0.9203 - val_loss: 0.2808 - val_acc: 0.9219\n",
      "Epoch 73/150\n",
      "48000/48000 [==============================] - 1s - loss: 0.2845 - acc: 0.9208 - val_loss: 0.2808 - val_acc: 0.9220\n",
      "Epoch 74/150\n",
      "48000/48000 [==============================] - 1s - loss: 0.2842 - acc: 0.9203 - val_loss: 0.2804 - val_acc: 0.9220\n",
      "Epoch 75/150\n",
      "48000/48000 [==============================] - 1s - loss: 0.2838 - acc: 0.9205 - val_loss: 0.2802 - val_acc: 0.9222\n",
      "Epoch 76/150\n",
      "48000/48000 [==============================] - 1s - loss: 0.2835 - acc: 0.9210 - val_loss: 0.2801 - val_acc: 0.9224\n",
      "Epoch 77/150\n",
      "48000/48000 [==============================] - 1s - loss: 0.2831 - acc: 0.9207 - val_loss: 0.2797 - val_acc: 0.9223\n",
      "Epoch 78/150\n",
      "48000/48000 [==============================] - 2s - loss: 0.2828 - acc: 0.9210 - val_loss: 0.2794 - val_acc: 0.9223\n",
      "Epoch 79/150\n",
      "48000/48000 [==============================] - 1s - loss: 0.2824 - acc: 0.9213 - val_loss: 0.2793 - val_acc: 0.9225\n",
      "Epoch 80/150\n",
      "48000/48000 [==============================] - 2s - loss: 0.2821 - acc: 0.9213 - val_loss: 0.2790 - val_acc: 0.9227\n",
      "Epoch 81/150\n",
      "48000/48000 [==============================] - 1s - loss: 0.2818 - acc: 0.9213 - val_loss: 0.2791 - val_acc: 0.9227\n",
      "Epoch 82/150\n",
      "48000/48000 [==============================] - 1s - loss: 0.2815 - acc: 0.9215 - val_loss: 0.2787 - val_acc: 0.9226\n",
      "Epoch 83/150\n",
      "48000/48000 [==============================] - 1s - loss: 0.2811 - acc: 0.9219 - val_loss: 0.2785 - val_acc: 0.9227\n",
      "Epoch 84/150\n",
      "48000/48000 [==============================] - 2s - loss: 0.2808 - acc: 0.9215 - val_loss: 0.2783 - val_acc: 0.9232\n",
      "Epoch 85/150\n",
      "48000/48000 [==============================] - 1s - loss: 0.2805 - acc: 0.9218 - val_loss: 0.2781 - val_acc: 0.9224\n",
      "Epoch 86/150\n",
      "48000/48000 [==============================] - 1s - loss: 0.2802 - acc: 0.9220 - val_loss: 0.2781 - val_acc: 0.9231\n",
      "Epoch 87/150\n",
      "48000/48000 [==============================] - 1s - loss: 0.2799 - acc: 0.9216 - val_loss: 0.2777 - val_acc: 0.9228\n",
      "Epoch 88/150\n",
      "48000/48000 [==============================] - 1s - loss: 0.2796 - acc: 0.9220 - val_loss: 0.2775 - val_acc: 0.9228\n",
      "Epoch 89/150\n",
      "48000/48000 [==============================] - 1s - loss: 0.2793 - acc: 0.9223 - val_loss: 0.2773 - val_acc: 0.9233\n",
      "Epoch 90/150\n",
      "48000/48000 [==============================] - 2s - loss: 0.2790 - acc: 0.9222 - val_loss: 0.2772 - val_acc: 0.9227\n",
      "Epoch 91/150\n",
      "48000/48000 [==============================] - 1s - loss: 0.2788 - acc: 0.9222 - val_loss: 0.2770 - val_acc: 0.9233\n",
      "Epoch 92/150\n",
      "48000/48000 [==============================] - 1s - loss: 0.2785 - acc: 0.9223 - val_loss: 0.2768 - val_acc: 0.9233\n",
      "Epoch 93/150\n",
      "48000/48000 [==============================] - 1s - loss: 0.2783 - acc: 0.9223 - val_loss: 0.2766 - val_acc: 0.9237\n",
      "Epoch 94/150\n",
      "48000/48000 [==============================] - 1s - loss: 0.2780 - acc: 0.9227 - val_loss: 0.2765 - val_acc: 0.9236\n",
      "Epoch 95/150\n",
      "48000/48000 [==============================] - 2s - loss: 0.2777 - acc: 0.9229 - val_loss: 0.2766 - val_acc: 0.9226\n",
      "Epoch 96/150\n",
      "48000/48000 [==============================] - 1s - loss: 0.2775 - acc: 0.9225 - val_loss: 0.2763 - val_acc: 0.9234\n",
      "Epoch 97/150\n",
      "48000/48000 [==============================] - 1s - loss: 0.2772 - acc: 0.9229 - val_loss: 0.2761 - val_acc: 0.92350.9\n",
      "Epoch 98/150\n",
      "48000/48000 [==============================] - 1s - loss: 0.2769 - acc: 0.9227 - val_loss: 0.2759 - val_acc: 0.9240\n",
      "Epoch 99/150\n",
      "48000/48000 [==============================] - 1s - loss: 0.2767 - acc: 0.9227 - val_loss: 0.2757 - val_acc: 0.9239\n",
      "Epoch 100/150\n",
      "48000/48000 [==============================] - 1s - loss: 0.2765 - acc: 0.9229 - val_loss: 0.2758 - val_acc: 0.9238\n",
      "Epoch 101/150\n",
      "48000/48000 [==============================] - 1s - loss: 0.2762 - acc: 0.9230 - val_loss: 0.2755 - val_acc: 0.9241\n",
      "Epoch 102/150\n",
      "48000/48000 [==============================] - 1s - loss: 0.2760 - acc: 0.9230 - val_loss: 0.2754 - val_acc: 0.9242\n",
      "Epoch 103/150\n",
      "48000/48000 [==============================] - 1s - loss: 0.2757 - acc: 0.9229 - val_loss: 0.2753 - val_acc: 0.9236\n",
      "Epoch 104/150\n",
      "48000/48000 [==============================] - 1s - loss: 0.2755 - acc: 0.9232 - val_loss: 0.2752 - val_acc: 0.9241\n",
      "Epoch 105/150\n",
      "48000/48000 [==============================] - 1s - loss: 0.2753 - acc: 0.9232 - val_loss: 0.2750 - val_acc: 0.9245\n",
      "Epoch 106/150\n",
      "48000/48000 [==============================] - 1s - loss: 0.2751 - acc: 0.9233 - val_loss: 0.2748 - val_acc: 0.9242\n",
      "Epoch 107/150\n",
      "48000/48000 [==============================] - 1s - loss: 0.2748 - acc: 0.9232 - val_loss: 0.2748 - val_acc: 0.9238\n",
      "Epoch 108/150\n",
      "48000/48000 [==============================] - 1s - loss: 0.2746 - acc: 0.9232 - val_loss: 0.2746 - val_acc: 0.9243\n",
      "Epoch 109/150\n",
      "48000/48000 [==============================] - 1s - loss: 0.2744 - acc: 0.9235 - val_loss: 0.2747 - val_acc: 0.9237\n",
      "Epoch 110/150\n",
      "48000/48000 [==============================] - 1s - loss: 0.2741 - acc: 0.9235 - val_loss: 0.2744 - val_acc: 0.9239\n",
      "Epoch 111/150\n",
      "48000/48000 [==============================] - 1s - loss: 0.2740 - acc: 0.9235 - val_loss: 0.2742 - val_acc: 0.9245\n",
      "Epoch 112/150\n",
      "48000/48000 [==============================] - 1s - loss: 0.2737 - acc: 0.9237 - val_loss: 0.2743 - val_acc: 0.9233\n",
      "Epoch 113/150\n",
      "48000/48000 [==============================] - 1s - loss: 0.2735 - acc: 0.9236 - val_loss: 0.2739 - val_acc: 0.9243\n",
      "Epoch 114/150\n",
      "48000/48000 [==============================] - 1s - loss: 0.2733 - acc: 0.9237 - val_loss: 0.2739 - val_acc: 0.9241\n",
      "Epoch 115/150\n",
      "48000/48000 [==============================] - 1s - loss: 0.2731 - acc: 0.9238 - val_loss: 0.2741 - val_acc: 0.92440.\n",
      "Epoch 116/150\n",
      "48000/48000 [==============================] - 1s - loss: 0.2730 - acc: 0.9236 - val_loss: 0.2736 - val_acc: 0.9249\n",
      "Epoch 117/150\n",
      "48000/48000 [==============================] - 1s - loss: 0.2727 - acc: 0.9238 - val_loss: 0.2735 - val_acc: 0.9247\n",
      "Epoch 118/150\n",
      "48000/48000 [==============================] - 1s - loss: 0.2725 - acc: 0.9241 - val_loss: 0.2735 - val_acc: 0.9249\n",
      "Epoch 119/150\n",
      "48000/48000 [==============================] - 1s - loss: 0.2724 - acc: 0.9238 - val_loss: 0.2733 - val_acc: 0.9247\n",
      "Epoch 120/150\n",
      "48000/48000 [==============================] - 2s - loss: 0.2722 - acc: 0.9242 - val_loss: 0.2733 - val_acc: 0.9247\n",
      "Epoch 121/150\n",
      "48000/48000 [==============================] - 1s - loss: 0.2720 - acc: 0.9242 - val_loss: 0.2732 - val_acc: 0.92510.92\n",
      "Epoch 122/150\n",
      "48000/48000 [==============================] - 1s - loss: 0.2717 - acc: 0.9243 - val_loss: 0.2732 - val_acc: 0.9250\n",
      "Epoch 123/150\n",
      "48000/48000 [==============================] - 1s - loss: 0.2716 - acc: 0.9243 - val_loss: 0.2731 - val_acc: 0.9244\n",
      "Epoch 124/150\n",
      "48000/48000 [==============================] - 1s - loss: 0.2714 - acc: 0.9244 - val_loss: 0.2731 - val_acc: 0.9248\n",
      "Epoch 125/150\n",
      "48000/48000 [==============================] - 1s - loss: 0.2712 - acc: 0.9243 - val_loss: 0.2729 - val_acc: 0.9243\n",
      "Epoch 126/150\n",
      "48000/48000 [==============================] - 1s - loss: 0.2710 - acc: 0.9247 - val_loss: 0.2728 - val_acc: 0.9253\n",
      "Epoch 127/150\n"
     ]
    },
    {
     "name": "stdout",
     "output_type": "stream",
     "text": [
      "48000/48000 [==============================] - 1s - loss: 0.2709 - acc: 0.9243 - val_loss: 0.2728 - val_acc: 0.9248\n",
      "Epoch 128/150\n",
      "48000/48000 [==============================] - 1s - loss: 0.2707 - acc: 0.9242 - val_loss: 0.2725 - val_acc: 0.9252\n",
      "Epoch 129/150\n",
      "48000/48000 [==============================] - 1s - loss: 0.2705 - acc: 0.9247 - val_loss: 0.2724 - val_acc: 0.9245\n",
      "Epoch 130/150\n",
      "48000/48000 [==============================] - 1s - loss: 0.2704 - acc: 0.9249 - val_loss: 0.2721 - val_acc: 0.9249\n",
      "Epoch 131/150\n",
      "48000/48000 [==============================] - 2s - loss: 0.2701 - acc: 0.9248 - val_loss: 0.2726 - val_acc: 0.9243\n",
      "Epoch 132/150\n",
      "48000/48000 [==============================] - 1s - loss: 0.2700 - acc: 0.9247 - val_loss: 0.2723 - val_acc: 0.9242\n",
      "Epoch 133/150\n",
      "48000/48000 [==============================] - 1s - loss: 0.2698 - acc: 0.9249 - val_loss: 0.2721 - val_acc: 0.9250\n",
      "Epoch 134/150\n",
      "48000/48000 [==============================] - 1s - loss: 0.2697 - acc: 0.9248 - val_loss: 0.2722 - val_acc: 0.9247\n",
      "Epoch 135/150\n",
      "48000/48000 [==============================] - 1s - loss: 0.2695 - acc: 0.9247 - val_loss: 0.2720 - val_acc: 0.9243\n",
      "Epoch 136/150\n",
      "48000/48000 [==============================] - 1s - loss: 0.2693 - acc: 0.9248 - val_loss: 0.2719 - val_acc: 0.9247\n",
      "Epoch 137/150\n",
      "48000/48000 [==============================] - 1s - loss: 0.2692 - acc: 0.9249 - val_loss: 0.2719 - val_acc: 0.9253\n",
      "Epoch 138/150\n",
      "48000/48000 [==============================] - 1s - loss: 0.2690 - acc: 0.9247 - val_loss: 0.2717 - val_acc: 0.9252\n",
      "Epoch 139/150\n",
      "48000/48000 [==============================] - 1s - loss: 0.2689 - acc: 0.9250 - val_loss: 0.2716 - val_acc: 0.9249\n",
      "Epoch 140/150\n",
      "48000/48000 [==============================] - 1s - loss: 0.2687 - acc: 0.9250 - val_loss: 0.2714 - val_acc: 0.9247\n",
      "Epoch 141/150\n",
      "48000/48000 [==============================] - 2s - loss: 0.2686 - acc: 0.9254 - val_loss: 0.2714 - val_acc: 0.9247\n",
      "Epoch 142/150\n",
      "48000/48000 [==============================] - 1s - loss: 0.2684 - acc: 0.9254 - val_loss: 0.2714 - val_acc: 0.9248\n",
      "Epoch 143/150\n",
      "48000/48000 [==============================] - 1s - loss: 0.2683 - acc: 0.9249 - val_loss: 0.2712 - val_acc: 0.9252\n",
      "Epoch 144/150\n",
      "48000/48000 [==============================] - 1s - loss: 0.2681 - acc: 0.9253 - val_loss: 0.2713 - val_acc: 0.9247\n",
      "Epoch 145/150\n",
      "48000/48000 [==============================] - 1s - loss: 0.2680 - acc: 0.9253 - val_loss: 0.2711 - val_acc: 0.9249\n",
      "Epoch 146/150\n",
      "48000/48000 [==============================] - 1s - loss: 0.2677 - acc: 0.9254 - val_loss: 0.2712 - val_acc: 0.9247\n",
      "Epoch 147/150\n",
      "48000/48000 [==============================] - 1s - loss: 0.2676 - acc: 0.9254 - val_loss: 0.2710 - val_acc: 0.9246\n",
      "Epoch 148/150\n",
      "48000/48000 [==============================] - 2s - loss: 0.2675 - acc: 0.9256 - val_loss: 0.2711 - val_acc: 0.9247\n",
      "Epoch 149/150\n",
      "48000/48000 [==============================] - 1s - loss: 0.2674 - acc: 0.9255 - val_loss: 0.2709 - val_acc: 0.9249\n",
      "Epoch 150/150\n",
      "48000/48000 [==============================] - 1s - loss: 0.2673 - acc: 0.9256 - val_loss: 0.2706 - val_acc: 0.9252\n"
     ]
    }
   ],
   "source": [
    "history = model.fit(X_train, Y_train,batch_size=64, epochs=150,verbose=1, validation_split=0.2)"
   ]
  },
  {
   "cell_type": "code",
   "execution_count": 34,
   "metadata": {},
   "outputs": [
    {
     "data": {
      "text/plain": [
       "dict_keys(['val_loss', 'loss', 'acc', 'val_acc'])"
      ]
     },
     "execution_count": 34,
     "metadata": {},
     "output_type": "execute_result"
    }
   ],
   "source": [
    "history.history.keys()"
   ]
  },
  {
   "cell_type": "code",
   "execution_count": 35,
   "metadata": {},
   "outputs": [
    {
     "data": {
      "image/png": "[encoded data removed]",
      "text/plain": [
       "<matplotlib.figure.Figure at 0x1b95ee98d0>"
      ]
     },
     "metadata": {},
     "output_type": "display_data"
    },
    {
     "data": {
      "image/png": "[encoded data removed]",
      "text/plain": [
       "<matplotlib.figure.Figure at 0x1b95ed9518>"
      ]
     },
     "metadata": {},
     "output_type": "display_data"
    }
   ],
   "source": [
    "# summarize history for accuracy\n",
    "plt.plot(history.history['acc'])\n",
    "plt.plot(history.history['val_acc'])\n",
    "plt.title('model accuracy')\n",
    "plt.ylabel('accuracy')\n",
    "plt.xlabel('epoch')\n",
    "plt.legend(['train', 'test'], loc='upper left')\n",
    "plt.show()\n",
    "\n",
    "# summarize history for loss\n",
    "plt.plot(history.history['loss'])\n",
    "plt.plot(history.history['val_loss'])\n",
    "plt.title('model loss')\n",
    "plt.ylabel('loss')\n",
    "plt.xlabel('epoch')\n",
    "plt.legend(['train', 'test'], loc='upper left')\n",
    "plt.show()"
   ]
  },
  {
   "cell_type": "code",
   "execution_count": 36,
   "metadata": {},
   "outputs": [
    {
     "name": "stdout",
     "output_type": "stream",
     "text": [
      " 9792/10000 [============================>.] - ETA: 0s\n",
      "Loss: 0.27, Accuracy: 92.30%\n"
     ]
    }
   ],
   "source": [
    "# evaluate the network\n",
    "loss, accuracy = model.evaluate(X_test, Y_test)\n",
    "print(\"\\nLoss: %.2f, Accuracy: %.2f%%\" % (loss, accuracy*100))"
   ]
  },
  {
   "cell_type": "markdown",
   "metadata": {},
   "source": [
    "-----------------------------------"
   ]
  },
  {
   "cell_type": "markdown",
   "metadata": {},
   "source": [
    "#### Creating model with only one hidden layer and using Sigmoid as an activation funtion."
   ]
  },
  {
   "cell_type": "code",
   "execution_count": 49,
   "metadata": {},
   "outputs": [
    {
     "name": "stdout",
     "output_type": "stream",
     "text": [
      "_________________________________________________________________\n",
      "Layer (type)                 Output Shape              Param #   \n",
      "=================================================================\n",
      "dense_18 (Dense)             (None, 128)               100480    \n",
      "_________________________________________________________________\n",
      "activation_18 (Activation)   (None, 128)               0         \n",
      "_________________________________________________________________\n",
      "dense_19 (Dense)             (None, 10)                1290      \n",
      "_________________________________________________________________\n",
      "activation_19 (Activation)   (None, 10)                0         \n",
      "=================================================================\n",
      "Total params: 101,770.0\n",
      "Trainable params: 101,770.0\n",
      "Non-trainable params: 0.0\n",
      "_________________________________________________________________\n"
     ]
    }
   ],
   "source": [
    "model2 = Sequential()\n",
    "model2.add(Dense(128, input_shape=(784,)))\n",
    "model2.add(Activation('sigmoid'))\n",
    "model2.add(Dense(10))\n",
    "model2.add(Activation('softmax'))\n",
    "model2.summary()"
   ]
  },
  {
   "cell_type": "code",
   "execution_count": 50,
   "metadata": {
    "collapsed": true
   },
   "outputs": [],
   "source": [
    "model2.compile(loss='categorical_crossentropy', optimizer='sgd', metrics=['accuracy'])"
   ]
  },
  {
   "cell_type": "code",
   "execution_count": 51,
   "metadata": {},
   "outputs": [
    {
     "name": "stdout",
     "output_type": "stream",
     "text": [
      "Train on 48000 samples, validate on 12000 samples\n",
      "Epoch 1/150\n",
      "48000/48000 [==============================] - 3s - loss: 1.8761 - acc: 0.5929 - val_loss: 1.4687 - val_acc: 0.7692\n",
      "Epoch 2/150\n",
      "48000/48000 [==============================] - 3s - loss: 1.2223 - acc: 0.7846 - val_loss: 0.9836 - val_acc: 0.8268\n",
      "Epoch 3/150\n",
      "48000/48000 [==============================] - 3s - loss: 0.8881 - acc: 0.8246 - val_loss: 0.7523 - val_acc: 0.8530\n",
      "Epoch 4/150\n",
      "48000/48000 [==============================] - 3s - loss: 0.7199 - acc: 0.8442 - val_loss: 0.6284 - val_acc: 0.8669\n",
      "Epoch 5/150\n",
      "48000/48000 [==============================] - 3s - loss: 0.6225 - acc: 0.8564 - val_loss: 0.5523 - val_acc: 0.8741\n",
      "Epoch 6/150\n",
      "48000/48000 [==============================] - 3s - loss: 0.5594 - acc: 0.8655 - val_loss: 0.5019 - val_acc: 0.8801\n",
      "Epoch 7/150\n",
      "48000/48000 [==============================] - 3s - loss: 0.5151 - acc: 0.8725 - val_loss: 0.4653 - val_acc: 0.8862\n",
      "Epoch 8/150\n",
      "48000/48000 [==============================] - 3s - loss: 0.4822 - acc: 0.8778 - val_loss: 0.4381 - val_acc: 0.8916\n",
      "Epoch 9/150\n",
      "48000/48000 [==============================] - 3s - loss: 0.4567 - acc: 0.8815 - val_loss: 0.4171 - val_acc: 0.8941\n",
      "Epoch 10/150\n",
      "48000/48000 [==============================] - 3s - loss: 0.4365 - acc: 0.8850 - val_loss: 0.4002 - val_acc: 0.8969\n",
      "Epoch 11/150\n",
      "48000/48000 [==============================] - 3s - loss: 0.4201 - acc: 0.8875 - val_loss: 0.3865 - val_acc: 0.8986\n",
      "Epoch 12/150\n",
      "48000/48000 [==============================] - 3s - loss: 0.4064 - acc: 0.8905 - val_loss: 0.3748 - val_acc: 0.9002\n",
      "Epoch 13/150\n",
      "48000/48000 [==============================] - 3s - loss: 0.3947 - acc: 0.8925 - val_loss: 0.3648 - val_acc: 0.9012\n",
      "Epoch 14/150\n",
      "48000/48000 [==============================] - 3s - loss: 0.3848 - acc: 0.8946 - val_loss: 0.3563 - val_acc: 0.9026\n",
      "Epoch 15/150\n",
      "48000/48000 [==============================] - 3s - loss: 0.3760 - acc: 0.8960 - val_loss: 0.3490 - val_acc: 0.9037\n",
      "Epoch 16/150\n",
      "48000/48000 [==============================] - 3s - loss: 0.3682 - acc: 0.8973 - val_loss: 0.3426 - val_acc: 0.9053\n",
      "Epoch 17/150\n",
      "48000/48000 [==============================] - 3s - loss: 0.3613 - acc: 0.8989 - val_loss: 0.3368 - val_acc: 0.9073\n",
      "Epoch 18/150\n",
      "48000/48000 [==============================] - 3s - loss: 0.3551 - acc: 0.9003 - val_loss: 0.3312 - val_acc: 0.9078\n",
      "Epoch 19/150\n",
      "48000/48000 [==============================] - 3s - loss: 0.3495 - acc: 0.9017 - val_loss: 0.3264 - val_acc: 0.9090\n",
      "Epoch 20/150\n",
      "48000/48000 [==============================] - 3s - loss: 0.3441 - acc: 0.9022 - val_loss: 0.3223 - val_acc: 0.9087\n",
      "Epoch 21/150\n",
      "48000/48000 [==============================] - 3s - loss: 0.3395 - acc: 0.9037 - val_loss: 0.3180 - val_acc: 0.9093\n",
      "Epoch 22/150\n",
      "48000/48000 [==============================] - 3s - loss: 0.3350 - acc: 0.9044 - val_loss: 0.3142 - val_acc: 0.9115\n",
      "Epoch 23/150\n",
      "48000/48000 [==============================] - 3s - loss: 0.3310 - acc: 0.9063 - val_loss: 0.3105 - val_acc: 0.9110\n",
      "Epoch 24/150\n",
      "48000/48000 [==============================] - 3s - loss: 0.3272 - acc: 0.9069 - val_loss: 0.3073 - val_acc: 0.9128\n",
      "Epoch 25/150\n",
      "48000/48000 [==============================] - 3s - loss: 0.3235 - acc: 0.9081 - val_loss: 0.3044 - val_acc: 0.9143\n",
      "Epoch 26/150\n",
      "48000/48000 [==============================] - 3s - loss: 0.3202 - acc: 0.9090 - val_loss: 0.3016 - val_acc: 0.9152\n",
      "Epoch 27/150\n",
      "48000/48000 [==============================] - 3s - loss: 0.3169 - acc: 0.9097 - val_loss: 0.2988 - val_acc: 0.9163\n",
      "Epoch 28/150\n",
      "48000/48000 [==============================] - 3s - loss: 0.3139 - acc: 0.9101 - val_loss: 0.2962 - val_acc: 0.9161\n",
      "Epoch 29/150\n",
      "48000/48000 [==============================] - 3s - loss: 0.3109 - acc: 0.9114 - val_loss: 0.2939 - val_acc: 0.9167\n",
      "Epoch 30/150\n",
      "48000/48000 [==============================] - 3s - loss: 0.3082 - acc: 0.9124 - val_loss: 0.2915 - val_acc: 0.9177\n",
      "Epoch 31/150\n",
      "48000/48000 [==============================] - 3s - loss: 0.3055 - acc: 0.9126 - val_loss: 0.2890 - val_acc: 0.9190\n",
      "Epoch 32/150\n",
      "48000/48000 [==============================] - 3s - loss: 0.3029 - acc: 0.9135 - val_loss: 0.2868 - val_acc: 0.9185\n",
      "Epoch 33/150\n",
      "48000/48000 [==============================] - 3s - loss: 0.3004 - acc: 0.9140 - val_loss: 0.2848 - val_acc: 0.9193\n",
      "Epoch 34/150\n",
      "48000/48000 [==============================] - 3s - loss: 0.2980 - acc: 0.9144 - val_loss: 0.2828 - val_acc: 0.9200\n",
      "Epoch 35/150\n",
      "48000/48000 [==============================] - 3s - loss: 0.2957 - acc: 0.9155 - val_loss: 0.2809 - val_acc: 0.9204\n",
      "Epoch 36/150\n",
      "48000/48000 [==============================] - 3s - loss: 0.2935 - acc: 0.9163 - val_loss: 0.2791 - val_acc: 0.9210\n",
      "Epoch 37/150\n",
      "48000/48000 [==============================] - 3s - loss: 0.2913 - acc: 0.9166 - val_loss: 0.2775 - val_acc: 0.9220\n",
      "Epoch 38/150\n",
      "48000/48000 [==============================] - 3s - loss: 0.2892 - acc: 0.9167 - val_loss: 0.2753 - val_acc: 0.9219\n",
      "Epoch 39/150\n",
      "48000/48000 [==============================] - 3s - loss: 0.2871 - acc: 0.9178 - val_loss: 0.2740 - val_acc: 0.9220\n",
      "Epoch 40/150\n",
      "48000/48000 [==============================] - 3s - loss: 0.2851 - acc: 0.9180 - val_loss: 0.2722 - val_acc: 0.9228\n",
      "Epoch 41/150\n",
      "48000/48000 [==============================] - 3s - loss: 0.2831 - acc: 0.9186 - val_loss: 0.2705 - val_acc: 0.9232\n",
      "Epoch 42/150\n",
      "48000/48000 [==============================] - 3s - loss: 0.2813 - acc: 0.9193 - val_loss: 0.2689 - val_acc: 0.9234\n",
      "Epoch 43/150\n",
      "48000/48000 [==============================] - 3s - loss: 0.2793 - acc: 0.9196 - val_loss: 0.2674 - val_acc: 0.9241\n",
      "Epoch 44/150\n",
      "48000/48000 [==============================] - 3s - loss: 0.2775 - acc: 0.9205 - val_loss: 0.2658 - val_acc: 0.9247\n",
      "Epoch 45/150\n",
      "48000/48000 [==============================] - 3s - loss: 0.2757 - acc: 0.9205 - val_loss: 0.2643 - val_acc: 0.9249\n",
      "Epoch 46/150\n",
      "48000/48000 [==============================] - 3s - loss: 0.2739 - acc: 0.9212 - val_loss: 0.2628 - val_acc: 0.9261\n",
      "Epoch 47/150\n",
      "48000/48000 [==============================] - 3s - loss: 0.2722 - acc: 0.9217 - val_loss: 0.2614 - val_acc: 0.9258\n",
      "Epoch 48/150\n",
      "48000/48000 [==============================] - 3s - loss: 0.2705 - acc: 0.9223 - val_loss: 0.2600 - val_acc: 0.9261\n",
      "Epoch 49/150\n",
      "48000/48000 [==============================] - 3s - loss: 0.2688 - acc: 0.9227 - val_loss: 0.2585 - val_acc: 0.9272\n",
      "Epoch 50/150\n",
      "48000/48000 [==============================] - 3s - loss: 0.2671 - acc: 0.9233 - val_loss: 0.2569 - val_acc: 0.9274\n",
      "Epoch 51/150\n",
      "48000/48000 [==============================] - 3s - loss: 0.2655 - acc: 0.9235 - val_loss: 0.2557 - val_acc: 0.9277\n",
      "Epoch 52/150\n",
      "48000/48000 [==============================] - 3s - loss: 0.2639 - acc: 0.9240 - val_loss: 0.2545 - val_acc: 0.9276\n",
      "Epoch 53/150\n",
      "48000/48000 [==============================] - 3s - loss: 0.2623 - acc: 0.9244 - val_loss: 0.2532 - val_acc: 0.9279\n",
      "Epoch 54/150\n",
      "48000/48000 [==============================] - 3s - loss: 0.2607 - acc: 0.9255 - val_loss: 0.2517 - val_acc: 0.9286\n",
      "Epoch 55/150\n",
      "48000/48000 [==============================] - 3s - loss: 0.2591 - acc: 0.9253 - val_loss: 0.2505 - val_acc: 0.9293\n",
      "Epoch 56/150\n",
      "48000/48000 [==============================] - 3s - loss: 0.2576 - acc: 0.9257 - val_loss: 0.2493 - val_acc: 0.9293\n",
      "Epoch 57/150\n",
      "48000/48000 [==============================] - 3s - loss: 0.2562 - acc: 0.9261 - val_loss: 0.2483 - val_acc: 0.9300\n",
      "Epoch 58/150\n",
      "48000/48000 [==============================] - 3s - loss: 0.2546 - acc: 0.9267 - val_loss: 0.2469 - val_acc: 0.9299\n",
      "Epoch 59/150\n",
      "48000/48000 [==============================] - 3s - loss: 0.2532 - acc: 0.9273 - val_loss: 0.2454 - val_acc: 0.9296\n",
      "Epoch 60/150\n",
      "48000/48000 [==============================] - 3s - loss: 0.2518 - acc: 0.9276 - val_loss: 0.2443 - val_acc: 0.9303\n",
      "Epoch 61/150\n",
      "48000/48000 [==============================] - 3s - loss: 0.2502 - acc: 0.9283 - val_loss: 0.2434 - val_acc: 0.9316\n",
      "Epoch 62/150\n",
      "48000/48000 [==============================] - 3s - loss: 0.2488 - acc: 0.9287 - val_loss: 0.2420 - val_acc: 0.9307\n",
      "Epoch 63/150\n",
      "48000/48000 [==============================] - 3s - loss: 0.2475 - acc: 0.9291 - val_loss: 0.2409 - val_acc: 0.9322\n",
      "Epoch 64/150\n",
      "48000/48000 [==============================] - 3s - loss: 0.2460 - acc: 0.9297 - val_loss: 0.2402 - val_acc: 0.9314\n",
      "Epoch 65/150\n",
      "48000/48000 [==============================] - 3s - loss: 0.2448 - acc: 0.9298 - val_loss: 0.2385 - val_acc: 0.9323\n",
      "Epoch 66/150\n",
      "48000/48000 [==============================] - 3s - loss: 0.2433 - acc: 0.9303 - val_loss: 0.2379 - val_acc: 0.9320\n",
      "Epoch 67/150\n",
      "48000/48000 [==============================] - 3s - loss: 0.2420 - acc: 0.9306 - val_loss: 0.2362 - val_acc: 0.9328\n",
      "Epoch 68/150\n",
      "48000/48000 [==============================] - 3s - loss: 0.2406 - acc: 0.9313 - val_loss: 0.2354 - val_acc: 0.9335\n",
      "Epoch 69/150\n",
      "48000/48000 [==============================] - 3s - loss: 0.2394 - acc: 0.9315 - val_loss: 0.2341 - val_acc: 0.9333\n",
      "Epoch 70/150\n",
      "48000/48000 [==============================] - 3s - loss: 0.2381 - acc: 0.9318 - val_loss: 0.2332 - val_acc: 0.9342\n",
      "Epoch 71/150\n",
      "48000/48000 [==============================] - 3s - loss: 0.2368 - acc: 0.9324 - val_loss: 0.2320 - val_acc: 0.9341\n",
      "Epoch 72/150\n",
      "48000/48000 [==============================] - 3s - loss: 0.2355 - acc: 0.9322 - val_loss: 0.2311 - val_acc: 0.9343\n",
      "Epoch 73/150\n",
      "48000/48000 [==============================] - 3s - loss: 0.2342 - acc: 0.9326 - val_loss: 0.2301 - val_acc: 0.9351\n",
      "Epoch 74/150\n",
      "48000/48000 [==============================] - 3s - loss: 0.2330 - acc: 0.9334 - val_loss: 0.2289 - val_acc: 0.9353\n",
      "Epoch 75/150\n",
      "48000/48000 [==============================] - 3s - loss: 0.2317 - acc: 0.9337 - val_loss: 0.2281 - val_acc: 0.9349\n",
      "Epoch 76/150\n",
      "48000/48000 [==============================] - 3s - loss: 0.2306 - acc: 0.9341 - val_loss: 0.2270 - val_acc: 0.9352\n",
      "Epoch 77/150\n",
      "48000/48000 [==============================] - 3s - loss: 0.2293 - acc: 0.9345 - val_loss: 0.2259 - val_acc: 0.9359\n",
      "Epoch 78/150\n",
      "48000/48000 [==============================] - 3s - loss: 0.2281 - acc: 0.9345 - val_loss: 0.2249 - val_acc: 0.9363\n",
      "Epoch 79/150\n",
      "48000/48000 [==============================] - 3s - loss: 0.2270 - acc: 0.9350 - val_loss: 0.2239 - val_acc: 0.9366\n",
      "Epoch 80/150\n",
      "48000/48000 [==============================] - 3s - loss: 0.2258 - acc: 0.9357 - val_loss: 0.2230 - val_acc: 0.9365\n",
      "Epoch 81/150\n",
      "48000/48000 [==============================] - 3s - loss: 0.2246 - acc: 0.9363 - val_loss: 0.2220 - val_acc: 0.9369\n",
      "Epoch 82/150\n",
      "48000/48000 [==============================] - 3s - loss: 0.2235 - acc: 0.9365 - val_loss: 0.2211 - val_acc: 0.9373\n",
      "Epoch 83/150\n",
      "48000/48000 [==============================] - 3s - loss: 0.2223 - acc: 0.9364 - val_loss: 0.2200 - val_acc: 0.9376\n",
      "Epoch 84/150\n",
      "48000/48000 [==============================] - 3s - loss: 0.2212 - acc: 0.9369 - val_loss: 0.2191 - val_acc: 0.9383\n",
      "Epoch 85/150\n",
      "48000/48000 [==============================] - 3s - loss: 0.2201 - acc: 0.9373 - val_loss: 0.2184 - val_acc: 0.9384\n",
      "Epoch 86/150\n",
      "48000/48000 [==============================] - 3s - loss: 0.2190 - acc: 0.9381 - val_loss: 0.2172 - val_acc: 0.9385\n",
      "Epoch 87/150\n",
      "48000/48000 [==============================] - 3s - loss: 0.2179 - acc: 0.9378 - val_loss: 0.2166 - val_acc: 0.9383\n",
      "Epoch 88/150\n",
      "48000/48000 [==============================] - 3s - loss: 0.2168 - acc: 0.9383 - val_loss: 0.2155 - val_acc: 0.9393\n",
      "Epoch 89/150\n",
      "48000/48000 [==============================] - 3s - loss: 0.2158 - acc: 0.9387 - val_loss: 0.2147 - val_acc: 0.9395\n",
      "Epoch 90/150\n",
      "48000/48000 [==============================] - 3s - loss: 0.2146 - acc: 0.9391 - val_loss: 0.2138 - val_acc: 0.9395\n",
      "Epoch 91/150\n",
      "48000/48000 [==============================] - 3s - loss: 0.2136 - acc: 0.9389 - val_loss: 0.2129 - val_acc: 0.9408\n",
      "Epoch 92/150\n",
      "48000/48000 [==============================] - 3s - loss: 0.2125 - acc: 0.9398 - val_loss: 0.2120 - val_acc: 0.9416\n",
      "Epoch 93/150\n",
      "48000/48000 [==============================] - 3s - loss: 0.2116 - acc: 0.9401 - val_loss: 0.2113 - val_acc: 0.9410\n",
      "Epoch 94/150\n",
      "48000/48000 [==============================] - 3s - loss: 0.2105 - acc: 0.9401 - val_loss: 0.2105 - val_acc: 0.9414\n",
      "Epoch 95/150\n",
      "48000/48000 [==============================] - 3s - loss: 0.2095 - acc: 0.9405 - val_loss: 0.2097 - val_acc: 0.9411\n",
      "Epoch 96/150\n",
      "48000/48000 [==============================] - 3s - loss: 0.2085 - acc: 0.9405 - val_loss: 0.2089 - val_acc: 0.9420\n",
      "Epoch 97/150\n",
      "48000/48000 [==============================] - 3s - loss: 0.2075 - acc: 0.9409 - val_loss: 0.2078 - val_acc: 0.9429\n",
      "Epoch 98/150\n",
      "48000/48000 [==============================] - 3s - loss: 0.2065 - acc: 0.9413 - val_loss: 0.2071 - val_acc: 0.9426\n",
      "Epoch 99/150\n",
      "48000/48000 [==============================] - 3s - loss: 0.2054 - acc: 0.9410 - val_loss: 0.2063 - val_acc: 0.9432\n",
      "Epoch 100/150\n",
      "48000/48000 [==============================] - 3s - loss: 0.2045 - acc: 0.9417 - val_loss: 0.2059 - val_acc: 0.9425\n",
      "Epoch 101/150\n",
      "48000/48000 [==============================] - 3s - loss: 0.2035 - acc: 0.9417 - val_loss: 0.2046 - val_acc: 0.9435\n",
      "Epoch 102/150\n",
      "48000/48000 [==============================] - 3s - loss: 0.2026 - acc: 0.9422 - val_loss: 0.2040 - val_acc: 0.9444\n",
      "Epoch 103/150\n",
      "48000/48000 [==============================] - 3s - loss: 0.2016 - acc: 0.9423 - val_loss: 0.2033 - val_acc: 0.9440\n",
      "Epoch 104/150\n",
      "48000/48000 [==============================] - 3s - loss: 0.2006 - acc: 0.9429 - val_loss: 0.2023 - val_acc: 0.9444\n",
      "Epoch 105/150\n",
      "48000/48000 [==============================] - 3s - loss: 0.1997 - acc: 0.9428 - val_loss: 0.2016 - val_acc: 0.9443\n",
      "Epoch 106/150\n",
      "48000/48000 [==============================] - 3s - loss: 0.1988 - acc: 0.9429 - val_loss: 0.2007 - val_acc: 0.9449\n",
      "Epoch 107/150\n",
      "48000/48000 [==============================] - 3s - loss: 0.1979 - acc: 0.9432 - val_loss: 0.2001 - val_acc: 0.9454\n",
      "Epoch 108/150\n",
      "48000/48000 [==============================] - 3s - loss: 0.1969 - acc: 0.9434 - val_loss: 0.1994 - val_acc: 0.9455\n",
      "Epoch 109/150\n",
      "48000/48000 [==============================] - 3s - loss: 0.1961 - acc: 0.9438 - val_loss: 0.1986 - val_acc: 0.9453\n",
      "Epoch 110/150\n",
      "48000/48000 [==============================] - 3s - loss: 0.1951 - acc: 0.9440 - val_loss: 0.1978 - val_acc: 0.9460\n",
      "Epoch 111/150\n",
      "48000/48000 [==============================] - 3s - loss: 0.1943 - acc: 0.9443 - val_loss: 0.1972 - val_acc: 0.9459\n",
      "Epoch 112/150\n",
      "48000/48000 [==============================] - 3s - loss: 0.1934 - acc: 0.9444 - val_loss: 0.1965 - val_acc: 0.9466\n",
      "Epoch 113/150\n",
      "48000/48000 [==============================] - 3s - loss: 0.1925 - acc: 0.9445 - val_loss: 0.1958 - val_acc: 0.9468\n",
      "Epoch 114/150\n",
      "48000/48000 [==============================] - 3s - loss: 0.1917 - acc: 0.9450 - val_loss: 0.1951 - val_acc: 0.9473\n",
      "Epoch 115/150\n",
      "48000/48000 [==============================] - 3s - loss: 0.1907 - acc: 0.9452 - val_loss: 0.1943 - val_acc: 0.9473\n",
      "Epoch 116/150\n",
      "48000/48000 [==============================] - 3s - loss: 0.1899 - acc: 0.9451 - val_loss: 0.1935 - val_acc: 0.9477\n",
      "Epoch 117/150\n",
      "48000/48000 [==============================] - 3s - loss: 0.1891 - acc: 0.9453 - val_loss: 0.1928 - val_acc: 0.9481\n",
      "Epoch 118/150\n",
      "48000/48000 [==============================] - 3s - loss: 0.1882 - acc: 0.9458 - val_loss: 0.1921 - val_acc: 0.9486\n",
      "Epoch 119/150\n",
      "48000/48000 [==============================] - 3s - loss: 0.1874 - acc: 0.9462 - val_loss: 0.1916 - val_acc: 0.9483\n",
      "Epoch 120/150\n",
      "48000/48000 [==============================] - 3s - loss: 0.1865 - acc: 0.9462 - val_loss: 0.1908 - val_acc: 0.9484\n",
      "Epoch 121/150\n",
      "48000/48000 [==============================] - 3s - loss: 0.1856 - acc: 0.9469 - val_loss: 0.1904 - val_acc: 0.9489\n",
      "Epoch 122/150\n",
      "48000/48000 [==============================] - 3s - loss: 0.1849 - acc: 0.9466 - val_loss: 0.1895 - val_acc: 0.9487\n",
      "Epoch 123/150\n",
      "48000/48000 [==============================] - 3s - loss: 0.1841 - acc: 0.9469 - val_loss: 0.1889 - val_acc: 0.9487\n",
      "Epoch 124/150\n",
      "48000/48000 [==============================] - 3s - loss: 0.1833 - acc: 0.9471 - val_loss: 0.1882 - val_acc: 0.9493\n",
      "Epoch 125/150\n",
      "48000/48000 [==============================] - 3s - loss: 0.1825 - acc: 0.9475 - val_loss: 0.1875 - val_acc: 0.9494\n",
      "Epoch 126/150\n",
      "48000/48000 [==============================] - 3s - loss: 0.1816 - acc: 0.9473 - val_loss: 0.1868 - val_acc: 0.9493\n",
      "Epoch 127/150\n"
     ]
    },
    {
     "name": "stdout",
     "output_type": "stream",
     "text": [
      "48000/48000 [==============================] - 3s - loss: 0.1809 - acc: 0.9479 - val_loss: 0.1864 - val_acc: 0.9493\n",
      "Epoch 128/150\n",
      "48000/48000 [==============================] - 3s - loss: 0.1801 - acc: 0.9481 - val_loss: 0.1856 - val_acc: 0.9496\n",
      "Epoch 129/150\n",
      "48000/48000 [==============================] - 3s - loss: 0.1793 - acc: 0.9482 - val_loss: 0.1850 - val_acc: 0.9496\n",
      "Epoch 130/150\n",
      "48000/48000 [==============================] - 3s - loss: 0.1786 - acc: 0.9486 - val_loss: 0.1844 - val_acc: 0.9502\n",
      "Epoch 131/150\n",
      "48000/48000 [==============================] - 3s - loss: 0.1778 - acc: 0.9488 - val_loss: 0.1837 - val_acc: 0.9500\n",
      "Epoch 132/150\n",
      "48000/48000 [==============================] - 3s - loss: 0.1770 - acc: 0.9489 - val_loss: 0.1833 - val_acc: 0.9501\n",
      "Epoch 133/150\n",
      "48000/48000 [==============================] - 3s - loss: 0.1763 - acc: 0.9493 - val_loss: 0.1826 - val_acc: 0.9507\n",
      "Epoch 134/150\n",
      "48000/48000 [==============================] - 3s - loss: 0.1754 - acc: 0.9496 - val_loss: 0.1822 - val_acc: 0.9507\n",
      "Epoch 135/150\n",
      "48000/48000 [==============================] - 3s - loss: 0.1747 - acc: 0.9497 - val_loss: 0.1814 - val_acc: 0.9509\n",
      "Epoch 136/150\n",
      "48000/48000 [==============================] - 3s - loss: 0.1740 - acc: 0.9503 - val_loss: 0.1806 - val_acc: 0.9510\n",
      "Epoch 137/150\n",
      "48000/48000 [==============================] - 3s - loss: 0.1733 - acc: 0.9507 - val_loss: 0.1803 - val_acc: 0.9507\n",
      "Epoch 138/150\n",
      "48000/48000 [==============================] - 3s - loss: 0.1725 - acc: 0.9506 - val_loss: 0.1796 - val_acc: 0.9513\n",
      "Epoch 139/150\n",
      "48000/48000 [==============================] - 3s - loss: 0.1719 - acc: 0.9509 - val_loss: 0.1789 - val_acc: 0.9513\n",
      "Epoch 140/150\n",
      "48000/48000 [==============================] - 3s - loss: 0.1711 - acc: 0.9513 - val_loss: 0.1785 - val_acc: 0.9515\n",
      "Epoch 141/150\n",
      "48000/48000 [==============================] - 3s - loss: 0.1704 - acc: 0.9514 - val_loss: 0.1779 - val_acc: 0.9513\n",
      "Epoch 142/150\n",
      "48000/48000 [==============================] - 3s - loss: 0.1697 - acc: 0.9515 - val_loss: 0.1773 - val_acc: 0.9515\n",
      "Epoch 143/150\n",
      "48000/48000 [==============================] - 3s - loss: 0.1690 - acc: 0.9519 - val_loss: 0.1769 - val_acc: 0.9517\n",
      "Epoch 144/150\n",
      "48000/48000 [==============================] - 3s - loss: 0.1683 - acc: 0.9520 - val_loss: 0.1762 - val_acc: 0.9517\n",
      "Epoch 145/150\n",
      "48000/48000 [==============================] - 3s - loss: 0.1676 - acc: 0.9520 - val_loss: 0.1757 - val_acc: 0.9519\n",
      "Epoch 146/150\n",
      "48000/48000 [==============================] - 3s - loss: 0.1669 - acc: 0.9526 - val_loss: 0.1752 - val_acc: 0.9521\n",
      "Epoch 147/150\n",
      "48000/48000 [==============================] - 3s - loss: 0.1662 - acc: 0.9527 - val_loss: 0.1746 - val_acc: 0.9520\n",
      "Epoch 148/150\n",
      "48000/48000 [==============================] - 3s - loss: 0.1655 - acc: 0.9528 - val_loss: 0.1741 - val_acc: 0.9525\n",
      "Epoch 149/150\n",
      "48000/48000 [==============================] - 3s - loss: 0.1648 - acc: 0.9528 - val_loss: 0.1735 - val_acc: 0.9526\n",
      "Epoch 150/150\n",
      "48000/48000 [==============================] - 3s - loss: 0.1642 - acc: 0.9535 - val_loss: 0.1730 - val_acc: 0.9523\n"
     ]
    }
   ],
   "source": [
    "history2 = model2.fit(X_train, Y_train,batch_size=64, epochs=150,verbose=1, validation_split=0.2)"
   ]
  },
  {
   "cell_type": "code",
   "execution_count": 52,
   "metadata": {},
   "outputs": [
    {
     "data": {
      "text/plain": [
       "dict_keys(['val_loss', 'loss', 'acc', 'val_acc'])"
      ]
     },
     "execution_count": 52,
     "metadata": {},
     "output_type": "execute_result"
    }
   ],
   "source": [
    "history2.history.keys()"
   ]
  },
  {
   "cell_type": "code",
   "execution_count": 53,
   "metadata": {},
   "outputs": [
    {
     "data": {
      "image/png": "[encoded data removed]",
      "text/plain": [
       "<matplotlib.figure.Figure at 0x1b861a2c50>"
      ]
     },
     "metadata": {},
     "output_type": "display_data"
    },
    {
     "data": {
      "image/png": "[encoded data removed]",
      "text/plain": [
       "<matplotlib.figure.Figure at 0x1b86180a58>"
      ]
     },
     "metadata": {},
     "output_type": "display_data"
    }
   ],
   "source": [
    "# summarize history for accuracy\n",
    "plt.plot(history2.history['acc'])\n",
    "plt.plot(history2.history['val_acc'])\n",
    "plt.title('model accuracy')\n",
    "plt.ylabel('accuracy')\n",
    "plt.xlabel('epoch')\n",
    "plt.legend(['train', 'test'], loc='upper left')\n",
    "plt.show()\n",
    "\n",
    "# summarize history for loss\n",
    "plt.plot(history2.history['loss'])\n",
    "plt.plot(history2.history['val_loss'])\n",
    "plt.title('model loss')\n",
    "plt.ylabel('loss')\n",
    "plt.xlabel('epoch')\n",
    "plt.legend(['train', 'test'], loc='upper left')\n",
    "plt.show()"
   ]
  },
  {
   "cell_type": "code",
   "execution_count": 54,
   "metadata": {},
   "outputs": [
    {
     "name": "stdout",
     "output_type": "stream",
     "text": [
      " 9664/10000 [===========================>..] - ETA: 0s\n",
      "Loss: 0.17, Accuracy: 95.02%\n"
     ]
    }
   ],
   "source": [
    "# evaluate the network\n",
    "loss, accuracy = model2.evaluate(X_test, Y_test)\n",
    "print(\"\\nLoss: %.2f, Accuracy: %.2f%%\" % (loss, accuracy*100))"
   ]
  },
  {
   "cell_type": "markdown",
   "metadata": {
    "collapsed": true
   },
   "source": [
    "#### Creating model with one hidden layer but using Relu as an activation function."
   ]
  },
  {
   "cell_type": "code",
   "execution_count": 60,
   "metadata": {},
   "outputs": [
    {
     "name": "stdout",
     "output_type": "stream",
     "text": [
      "_________________________________________________________________\n",
      "Layer (type)                 Output Shape              Param #   \n",
      "=================================================================\n",
      "dense_22 (Dense)             (None, 128)               100480    \n",
      "_________________________________________________________________\n",
      "activation_22 (Activation)   (None, 128)               0         \n",
      "_________________________________________________________________\n",
      "dense_23 (Dense)             (None, 10)                1290      \n",
      "_________________________________________________________________\n",
      "activation_23 (Activation)   (None, 10)                0         \n",
      "=================================================================\n",
      "Total params: 101,770.0\n",
      "Trainable params: 101,770.0\n",
      "Non-trainable params: 0.0\n",
      "_________________________________________________________________\n"
     ]
    }
   ],
   "source": [
    "model3 = Sequential()\n",
    "model3.add(Dense(128, input_shape=(784,)))\n",
    "model3.add(Activation('relu'))\n",
    "model3.add(Dense(10))\n",
    "model3.add(Activation('softmax'))\n",
    "model3.summary()"
   ]
  },
  {
   "cell_type": "code",
   "execution_count": 61,
   "metadata": {
    "collapsed": true
   },
   "outputs": [],
   "source": [
    "model3.compile(loss='categorical_crossentropy', optimizer='sgd', metrics=['accuracy'])"
   ]
  },
  {
   "cell_type": "code",
   "execution_count": 62,
   "metadata": {},
   "outputs": [
    {
     "name": "stdout",
     "output_type": "stream",
     "text": [
      "Train on 48000 samples, validate on 12000 samples\n",
      "Epoch 1/60\n",
      "48000/48000 [==============================] - 3s - loss: 1.0018 - acc: 0.7636 - val_loss: 0.5057 - val_acc: 0.8764\n",
      "Epoch 2/60\n",
      "48000/48000 [==============================] - 3s - loss: 0.4583 - acc: 0.8790 - val_loss: 0.3794 - val_acc: 0.8987\n",
      "Epoch 3/60\n",
      "48000/48000 [==============================] - 3s - loss: 0.3779 - acc: 0.8959 - val_loss: 0.3350 - val_acc: 0.9091\n",
      "Epoch 4/60\n",
      "48000/48000 [==============================] - 3s - loss: 0.3398 - acc: 0.9055 - val_loss: 0.3073 - val_acc: 0.9155\n",
      "Epoch 5/60\n",
      "48000/48000 [==============================] - 3s - loss: 0.3149 - acc: 0.9119 - val_loss: 0.2897 - val_acc: 0.9194\n",
      "Epoch 6/60\n",
      "48000/48000 [==============================] - 3s - loss: 0.2964 - acc: 0.9174 - val_loss: 0.2755 - val_acc: 0.9236\n",
      "Epoch 7/60\n",
      "48000/48000 [==============================] - 3s - loss: 0.2815 - acc: 0.9210 - val_loss: 0.2646 - val_acc: 0.9251\n",
      "Epoch 8/60\n",
      "48000/48000 [==============================] - 3s - loss: 0.2687 - acc: 0.9253 - val_loss: 0.2525 - val_acc: 0.9306\n",
      "Epoch 9/60\n",
      "48000/48000 [==============================] - 3s - loss: 0.2578 - acc: 0.9281 - val_loss: 0.2445 - val_acc: 0.9317\n",
      "Epoch 10/60\n",
      "48000/48000 [==============================] - 3s - loss: 0.2481 - acc: 0.9302 - val_loss: 0.2376 - val_acc: 0.9342\n",
      "Epoch 11/60\n",
      "48000/48000 [==============================] - 3s - loss: 0.2392 - acc: 0.9331 - val_loss: 0.2297 - val_acc: 0.9366\n",
      "Epoch 12/60\n",
      "48000/48000 [==============================] - 3s - loss: 0.2312 - acc: 0.9351 - val_loss: 0.2220 - val_acc: 0.9379\n",
      "Epoch 13/60\n",
      "48000/48000 [==============================] - 3s - loss: 0.2236 - acc: 0.9375 - val_loss: 0.2159 - val_acc: 0.9404\n",
      "Epoch 14/60\n",
      "48000/48000 [==============================] - 3s - loss: 0.2166 - acc: 0.9393 - val_loss: 0.2110 - val_acc: 0.9421\n",
      "Epoch 15/60\n",
      "48000/48000 [==============================] - 3s - loss: 0.2102 - acc: 0.9415 - val_loss: 0.2057 - val_acc: 0.9437\n",
      "Epoch 16/60\n",
      "48000/48000 [==============================] - 3s - loss: 0.2038 - acc: 0.9429 - val_loss: 0.2000 - val_acc: 0.9463\n",
      "Epoch 17/60\n",
      "48000/48000 [==============================] - 3s - loss: 0.1983 - acc: 0.9451 - val_loss: 0.1956 - val_acc: 0.9473\n",
      "Epoch 18/60\n",
      "48000/48000 [==============================] - 3s - loss: 0.1928 - acc: 0.9462 - val_loss: 0.1917 - val_acc: 0.9486\n",
      "Epoch 19/60\n",
      "48000/48000 [==============================] - 3s - loss: 0.1877 - acc: 0.9474 - val_loss: 0.1872 - val_acc: 0.9497\n",
      "Epoch 20/60\n",
      "48000/48000 [==============================] - 3s - loss: 0.1827 - acc: 0.9491 - val_loss: 0.1836 - val_acc: 0.9509\n",
      "Epoch 21/60\n",
      "48000/48000 [==============================] - 3s - loss: 0.1782 - acc: 0.9500 - val_loss: 0.1800 - val_acc: 0.9512\n",
      "Epoch 22/60\n",
      "48000/48000 [==============================] - 3s - loss: 0.1737 - acc: 0.9520 - val_loss: 0.1761 - val_acc: 0.9521\n",
      "Epoch 23/60\n",
      "48000/48000 [==============================] - 3s - loss: 0.1695 - acc: 0.9527 - val_loss: 0.1734 - val_acc: 0.9532\n",
      "Epoch 24/60\n",
      "48000/48000 [==============================] - 3s - loss: 0.1657 - acc: 0.9537 - val_loss: 0.1705 - val_acc: 0.9538\n",
      "Epoch 25/60\n",
      "48000/48000 [==============================] - 3s - loss: 0.1618 - acc: 0.9544 - val_loss: 0.1674 - val_acc: 0.9539\n",
      "Epoch 26/60\n",
      "48000/48000 [==============================] - 3s - loss: 0.1583 - acc: 0.9559 - val_loss: 0.1642 - val_acc: 0.9543\n",
      "Epoch 27/60\n",
      "48000/48000 [==============================] - 3s - loss: 0.1549 - acc: 0.9571 - val_loss: 0.1614 - val_acc: 0.9556\n",
      "Epoch 28/60\n",
      "48000/48000 [==============================] - 3s - loss: 0.1517 - acc: 0.9580 - val_loss: 0.1591 - val_acc: 0.9568\n",
      "Epoch 29/60\n",
      "48000/48000 [==============================] - 3s - loss: 0.1485 - acc: 0.9590 - val_loss: 0.1565 - val_acc: 0.9570\n",
      "Epoch 30/60\n",
      "48000/48000 [==============================] - 3s - loss: 0.1455 - acc: 0.9600 - val_loss: 0.1545 - val_acc: 0.9564\n",
      "Epoch 31/60\n",
      "48000/48000 [==============================] - 3s - loss: 0.1427 - acc: 0.9604 - val_loss: 0.1524 - val_acc: 0.9571\n",
      "Epoch 32/60\n",
      "48000/48000 [==============================] - 3s - loss: 0.1400 - acc: 0.9615 - val_loss: 0.1505 - val_acc: 0.9583\n",
      "Epoch 33/60\n",
      "48000/48000 [==============================] - 3s - loss: 0.1371 - acc: 0.9621 - val_loss: 0.1486 - val_acc: 0.9587\n",
      "Epoch 34/60\n",
      "48000/48000 [==============================] - 3s - loss: 0.1347 - acc: 0.9630 - val_loss: 0.1467 - val_acc: 0.9605\n",
      "Epoch 35/60\n",
      "48000/48000 [==============================] - 3s - loss: 0.1323 - acc: 0.9637 - val_loss: 0.1443 - val_acc: 0.9602\n",
      "Epoch 36/60\n",
      "48000/48000 [==============================] - 3s - loss: 0.1298 - acc: 0.9644 - val_loss: 0.1431 - val_acc: 0.9610\n",
      "Epoch 37/60\n",
      "48000/48000 [==============================] - 3s - loss: 0.1276 - acc: 0.9650 - val_loss: 0.1413 - val_acc: 0.9605\n",
      "Epoch 38/60\n",
      "48000/48000 [==============================] - 3s - loss: 0.1253 - acc: 0.9659 - val_loss: 0.1392 - val_acc: 0.9610\n",
      "Epoch 39/60\n",
      "48000/48000 [==============================] - 3s - loss: 0.1231 - acc: 0.9664 - val_loss: 0.1379 - val_acc: 0.9621\n",
      "Epoch 40/60\n",
      "48000/48000 [==============================] - 3s - loss: 0.1212 - acc: 0.9670 - val_loss: 0.1363 - val_acc: 0.9625\n",
      "Epoch 41/60\n",
      "48000/48000 [==============================] - 3s - loss: 0.1190 - acc: 0.9674 - val_loss: 0.1356 - val_acc: 0.9632\n",
      "Epoch 42/60\n",
      "48000/48000 [==============================] - 3s - loss: 0.1170 - acc: 0.9683 - val_loss: 0.1337 - val_acc: 0.9628\n",
      "Epoch 43/60\n",
      "48000/48000 [==============================] - 3s - loss: 0.1151 - acc: 0.9687 - val_loss: 0.1320 - val_acc: 0.9635\n",
      "Epoch 44/60\n",
      "48000/48000 [==============================] - 3s - loss: 0.1133 - acc: 0.9689 - val_loss: 0.1310 - val_acc: 0.9638\n",
      "Epoch 45/60\n",
      "48000/48000 [==============================] - 3s - loss: 0.1115 - acc: 0.9695 - val_loss: 0.1300 - val_acc: 0.9647\n",
      "Epoch 46/60\n",
      "48000/48000 [==============================] - 3s - loss: 0.1098 - acc: 0.9696 - val_loss: 0.1296 - val_acc: 0.9634\n",
      "Epoch 47/60\n",
      "48000/48000 [==============================] - 3s - loss: 0.1081 - acc: 0.9703 - val_loss: 0.1281 - val_acc: 0.9656\n",
      "Epoch 48/60\n",
      "48000/48000 [==============================] - 3s - loss: 0.1065 - acc: 0.9709 - val_loss: 0.1270 - val_acc: 0.9654\n",
      "Epoch 49/60\n",
      "48000/48000 [==============================] - 3s - loss: 0.1048 - acc: 0.9714 - val_loss: 0.1256 - val_acc: 0.9655\n",
      "Epoch 50/60\n",
      "48000/48000 [==============================] - 3s - loss: 0.1033 - acc: 0.9718 - val_loss: 0.1241 - val_acc: 0.9648\n",
      "Epoch 51/60\n",
      "48000/48000 [==============================] - 3s - loss: 0.1017 - acc: 0.9724 - val_loss: 0.1235 - val_acc: 0.9656\n",
      "Epoch 52/60\n",
      "48000/48000 [==============================] - 3s - loss: 0.1002 - acc: 0.9727 - val_loss: 0.1225 - val_acc: 0.9657\n",
      "Epoch 53/60\n",
      "48000/48000 [==============================] - 3s - loss: 0.0987 - acc: 0.9730 - val_loss: 0.1217 - val_acc: 0.9664\n",
      "Epoch 54/60\n",
      "48000/48000 [==============================] - 3s - loss: 0.0975 - acc: 0.9735 - val_loss: 0.1210 - val_acc: 0.9661\n",
      "Epoch 55/60\n",
      "48000/48000 [==============================] - 3s - loss: 0.0960 - acc: 0.9738 - val_loss: 0.1192 - val_acc: 0.9669\n",
      "Epoch 56/60\n",
      "48000/48000 [==============================] - 3s - loss: 0.0948 - acc: 0.9742 - val_loss: 0.1186 - val_acc: 0.9663\n",
      "Epoch 57/60\n",
      "48000/48000 [==============================] - 3s - loss: 0.0935 - acc: 0.9751 - val_loss: 0.1178 - val_acc: 0.9662\n",
      "Epoch 58/60\n",
      "48000/48000 [==============================] - 3s - loss: 0.0921 - acc: 0.9752 - val_loss: 0.1169 - val_acc: 0.9674\n",
      "Epoch 59/60\n",
      "48000/48000 [==============================] - 3s - loss: 0.0909 - acc: 0.9754 - val_loss: 0.1164 - val_acc: 0.9669\n",
      "Epoch 60/60\n",
      "48000/48000 [==============================] - 3s - loss: 0.0896 - acc: 0.9758 - val_loss: 0.1155 - val_acc: 0.9670\n"
     ]
    }
   ],
   "source": [
    "history3 = model3.fit(X_train, Y_train,batch_size=64, epochs=60,verbose=1, validation_split=0.2)"
   ]
  },
  {
   "cell_type": "code",
   "execution_count": 63,
   "metadata": {},
   "outputs": [
    {
     "data": {
      "image/png": "[encoded data removed]",
      "text/plain": [
       "<matplotlib.figure.Figure at 0x1b8673cef0>"
      ]
     },
     "metadata": {},
     "output_type": "display_data"
    },
    {
     "data": {
      "image/png": "[encoded data removed]",
      "text/plain": [
       "<matplotlib.figure.Figure at 0x1b8675fd30>"
      ]
     },
     "metadata": {},
     "output_type": "display_data"
    }
   ],
   "source": [
    "# summarize history for accuracy\n",
    "plt.plot(history3.history['acc'])\n",
    "plt.plot(history3.history['val_acc'])\n",
    "plt.title('model accuracy')\n",
    "plt.ylabel('accuracy')\n",
    "plt.xlabel('epoch')\n",
    "plt.legend(['train', 'test'], loc='upper left')\n",
    "plt.show()\n",
    "\n",
    "# summarize history for loss\n",
    "plt.plot(history3.history['loss'])\n",
    "plt.plot(history3.history['val_loss'])\n",
    "plt.title('model loss')\n",
    "plt.ylabel('loss')\n",
    "plt.xlabel('epoch')\n",
    "plt.legend(['train', 'test'], loc='upper left')\n",
    "plt.show()"
   ]
  },
  {
   "cell_type": "code",
   "execution_count": 64,
   "metadata": {},
   "outputs": [
    {
     "name": "stdout",
     "output_type": "stream",
     "text": [
      " 9440/10000 [===========================>..] - ETA: 0s\n",
      "Loss: 0.11, Accuracy: 96.68%\n"
     ]
    }
   ],
   "source": [
    "# evaluate the network\n",
    "loss, accuracy = model3.evaluate(X_test, Y_test)\n",
    "print(\"\\nLoss: %.2f, Accuracy: %.2f%%\" % (loss, accuracy*100))"
   ]
  },
  {
   "cell_type": "markdown",
   "metadata": {},
   "source": [
    "#### Creating model with two hidden layer and using Relu as an activation function."
   ]
  },
  {
   "cell_type": "code",
   "execution_count": 65,
   "metadata": {},
   "outputs": [
    {
     "name": "stdout",
     "output_type": "stream",
     "text": [
      "_________________________________________________________________\n",
      "Layer (type)                 Output Shape              Param #   \n",
      "=================================================================\n",
      "dense_24 (Dense)             (None, 128)               100480    \n",
      "_________________________________________________________________\n",
      "activation_24 (Activation)   (None, 128)               0         \n",
      "_________________________________________________________________\n",
      "dense_25 (Dense)             (None, 128)               16512     \n",
      "_________________________________________________________________\n",
      "activation_25 (Activation)   (None, 128)               0         \n",
      "_________________________________________________________________\n",
      "dense_26 (Dense)             (None, 10)                1290      \n",
      "_________________________________________________________________\n",
      "activation_26 (Activation)   (None, 10)                0         \n",
      "=================================================================\n",
      "Total params: 118,282.0\n",
      "Trainable params: 118,282.0\n",
      "Non-trainable params: 0.0\n",
      "_________________________________________________________________\n"
     ]
    }
   ],
   "source": [
    "model4 = Sequential()\n",
    "model4.add(Dense(128, input_shape=(784,)))\n",
    "model4.add(Activation('relu'))\n",
    "model4.add(Dense(128))\n",
    "model4.add(Activation('relu'))\n",
    "model4.add(Dense(10))\n",
    "model4.add(Activation('softmax'))\n",
    "model4.summary()"
   ]
  },
  {
   "cell_type": "code",
   "execution_count": 70,
   "metadata": {
    "collapsed": true
   },
   "outputs": [],
   "source": [
    "model4.compile(loss='categorical_crossentropy', optimizer='sgd', metrics=['accuracy'])"
   ]
  },
  {
   "cell_type": "code",
   "execution_count": 71,
   "metadata": {},
   "outputs": [
    {
     "name": "stdout",
     "output_type": "stream",
     "text": [
      "Train on 48000 samples, validate on 12000 samples\n",
      "Epoch 1/40\n",
      "48000/48000 [==============================] - 3s - loss: 0.1198 - acc: 0.9661 - val_loss: 0.1342 - val_acc: 0.9620\n",
      "Epoch 2/40\n",
      "48000/48000 [==============================] - 3s - loss: 0.1152 - acc: 0.9671 - val_loss: 0.1304 - val_acc: 0.9642\n",
      "Epoch 3/40\n",
      "48000/48000 [==============================] - 3s - loss: 0.1110 - acc: 0.9682 - val_loss: 0.1269 - val_acc: 0.9636\n",
      "Epoch 4/40\n",
      "48000/48000 [==============================] - 3s - loss: 0.1072 - acc: 0.9695 - val_loss: 0.1241 - val_acc: 0.9651\n",
      "Epoch 5/40\n",
      "48000/48000 [==============================] - 3s - loss: 0.1036 - acc: 0.9702 - val_loss: 0.1229 - val_acc: 0.9644\n",
      "Epoch 6/40\n",
      "48000/48000 [==============================] - 3s - loss: 0.1000 - acc: 0.9718 - val_loss: 0.1208 - val_acc: 0.9651\n",
      "Epoch 7/40\n",
      "48000/48000 [==============================] - 3s - loss: 0.0966 - acc: 0.9729 - val_loss: 0.1187 - val_acc: 0.9660\n",
      "Epoch 8/40\n",
      "48000/48000 [==============================] - 3s - loss: 0.0935 - acc: 0.9742 - val_loss: 0.1170 - val_acc: 0.9667\n",
      "Epoch 9/40\n",
      "48000/48000 [==============================] - 3s - loss: 0.0906 - acc: 0.9745 - val_loss: 0.1148 - val_acc: 0.9672\n",
      "Epoch 10/40\n",
      "48000/48000 [==============================] - 3s - loss: 0.0879 - acc: 0.9756 - val_loss: 0.1129 - val_acc: 0.9667\n",
      "Epoch 11/40\n",
      "48000/48000 [==============================] - 3s - loss: 0.0851 - acc: 0.9760 - val_loss: 0.1119 - val_acc: 0.9673\n",
      "Epoch 12/40\n",
      "48000/48000 [==============================] - 3s - loss: 0.0826 - acc: 0.9768 - val_loss: 0.1107 - val_acc: 0.9686\n",
      "Epoch 13/40\n",
      "48000/48000 [==============================] - 3s - loss: 0.0798 - acc: 0.9780 - val_loss: 0.1097 - val_acc: 0.9681\n",
      "Epoch 14/40\n",
      "48000/48000 [==============================] - 3s - loss: 0.0779 - acc: 0.9784 - val_loss: 0.1091 - val_acc: 0.9674\n",
      "Epoch 15/40\n",
      "48000/48000 [==============================] - 3s - loss: 0.0757 - acc: 0.9793 - val_loss: 0.1063 - val_acc: 0.9683\n",
      "Epoch 16/40\n",
      "48000/48000 [==============================] - 3s - loss: 0.0736 - acc: 0.9799 - val_loss: 0.1052 - val_acc: 0.9698\n",
      "Epoch 17/40\n",
      "48000/48000 [==============================] - 3s - loss: 0.0715 - acc: 0.9807 - val_loss: 0.1048 - val_acc: 0.9688\n",
      "Epoch 18/40\n",
      "48000/48000 [==============================] - 3s - loss: 0.0695 - acc: 0.9816 - val_loss: 0.1042 - val_acc: 0.9687\n",
      "Epoch 19/40\n",
      "48000/48000 [==============================] - 3s - loss: 0.0677 - acc: 0.9819 - val_loss: 0.1018 - val_acc: 0.9699\n",
      "Epoch 20/40\n",
      "48000/48000 [==============================] - 3s - loss: 0.0656 - acc: 0.9823 - val_loss: 0.1011 - val_acc: 0.9702\n",
      "Epoch 21/40\n",
      "48000/48000 [==============================] - 3s - loss: 0.0639 - acc: 0.9828 - val_loss: 0.1010 - val_acc: 0.9701\n",
      "Epoch 22/40\n",
      "48000/48000 [==============================] - 3s - loss: 0.0623 - acc: 0.9833 - val_loss: 0.1011 - val_acc: 0.9708\n",
      "Epoch 23/40\n",
      "48000/48000 [==============================] - 3s - loss: 0.0607 - acc: 0.9838 - val_loss: 0.0998 - val_acc: 0.9705\n",
      "Epoch 24/40\n",
      "48000/48000 [==============================] - 3s - loss: 0.0590 - acc: 0.9847 - val_loss: 0.0992 - val_acc: 0.9712\n",
      "Epoch 25/40\n",
      "48000/48000 [==============================] - 3s - loss: 0.0576 - acc: 0.9850 - val_loss: 0.0986 - val_acc: 0.9696\n",
      "Epoch 26/40\n",
      "48000/48000 [==============================] - 3s - loss: 0.0561 - acc: 0.9853 - val_loss: 0.0966 - val_acc: 0.9710\n",
      "Epoch 27/40\n",
      "48000/48000 [==============================] - 3s - loss: 0.0546 - acc: 0.9857 - val_loss: 0.0978 - val_acc: 0.9720\n",
      "Epoch 28/40\n",
      "48000/48000 [==============================] - 3s - loss: 0.0534 - acc: 0.9859 - val_loss: 0.0962 - val_acc: 0.9718\n",
      "Epoch 29/40\n",
      "48000/48000 [==============================] - 3s - loss: 0.0518 - acc: 0.9863 - val_loss: 0.0962 - val_acc: 0.9706\n",
      "Epoch 30/40\n",
      "48000/48000 [==============================] - 3s - loss: 0.0506 - acc: 0.9867 - val_loss: 0.0947 - val_acc: 0.9715\n",
      "Epoch 31/40\n",
      "48000/48000 [==============================] - 3s - loss: 0.0494 - acc: 0.9874 - val_loss: 0.0955 - val_acc: 0.9715\n",
      "Epoch 32/40\n",
      "48000/48000 [==============================] - 3s - loss: 0.0482 - acc: 0.9878 - val_loss: 0.0959 - val_acc: 0.9712\n",
      "Epoch 33/40\n",
      "48000/48000 [==============================] - 3s - loss: 0.0472 - acc: 0.9881 - val_loss: 0.0934 - val_acc: 0.9727\n",
      "Epoch 34/40\n",
      "48000/48000 [==============================] - 3s - loss: 0.0460 - acc: 0.9882 - val_loss: 0.0943 - val_acc: 0.9718\n",
      "Epoch 35/40\n",
      "48000/48000 [==============================] - 3s - loss: 0.0448 - acc: 0.9886 - val_loss: 0.0935 - val_acc: 0.9726\n",
      "Epoch 36/40\n",
      "48000/48000 [==============================] - 3s - loss: 0.0436 - acc: 0.9889 - val_loss: 0.0936 - val_acc: 0.9718\n",
      "Epoch 37/40\n",
      "48000/48000 [==============================] - 3s - loss: 0.0427 - acc: 0.9895 - val_loss: 0.0924 - val_acc: 0.9722\n",
      "Epoch 38/40\n",
      "48000/48000 [==============================] - 3s - loss: 0.0417 - acc: 0.9892 - val_loss: 0.0934 - val_acc: 0.9731\n",
      "Epoch 39/40\n",
      "48000/48000 [==============================] - 4s - loss: 0.0406 - acc: 0.9900 - val_loss: 0.0918 - val_acc: 0.9735\n",
      "Epoch 40/40\n",
      "48000/48000 [==============================] - 3s - loss: 0.0397 - acc: 0.9904 - val_loss: 0.0926 - val_acc: 0.9719\n"
     ]
    }
   ],
   "source": [
    "history4 = model4.fit(X_train, Y_train,batch_size=64, epochs=40,verbose=1, validation_split=0.2)"
   ]
  },
  {
   "cell_type": "code",
   "execution_count": 72,
   "metadata": {},
   "outputs": [
    {
     "data": {
      "image/png": "[encoded data removed]",
      "text/plain": [
       "<matplotlib.figure.Figure at 0x1b95eb8358>"
      ]
     },
     "metadata": {},
     "output_type": "display_data"
    },
    {
     "data": {
      "image/png": "[encoded data removed]",
      "text/plain": [
       "<matplotlib.figure.Figure at 0x1b86438f60>"
      ]
     },
     "metadata": {},
     "output_type": "display_data"
    }
   ],
   "source": [
    "# summarize history for accuracy\n",
    "plt.plot(history4.history['acc'])\n",
    "plt.plot(history4.history['val_acc'])\n",
    "plt.title('model accuracy')\n",
    "plt.ylabel('accuracy')\n",
    "plt.xlabel('epoch')\n",
    "plt.legend(['train', 'test'], loc='upper left')\n",
    "plt.show()\n",
    "\n",
    "# summarize history for loss\n",
    "plt.plot(history4.history['loss'])\n",
    "plt.plot(history4.history['val_loss'])\n",
    "plt.title('model loss')\n",
    "plt.ylabel('loss')\n",
    "plt.xlabel('epoch')\n",
    "plt.legend(['train', 'test'], loc='upper left')\n",
    "plt.show()"
   ]
  },
  {
   "cell_type": "code",
   "execution_count": 73,
   "metadata": {},
   "outputs": [
    {
     "name": "stdout",
     "output_type": "stream",
     "text": [
      " 9568/10000 [===========================>..] - ETA: 0s\n",
      "Loss: 0.09, Accuracy: 97.24%\n"
     ]
    }
   ],
   "source": [
    "# evaluate the network\n",
    "loss, accuracy = model4.evaluate(X_test, Y_test)\n",
    "print(\"\\nLoss: %.2f, Accuracy: %.2f%%\" % (loss, accuracy*100))"
   ]
  },
  {
   "cell_type": "markdown",
   "metadata": {},
   "source": [
    "#### Creating model with three hidden layer and using Relu as an activation function."
   ]
  },
  {
   "cell_type": "code",
   "execution_count": 79,
   "metadata": {},
   "outputs": [
    {
     "name": "stdout",
     "output_type": "stream",
     "text": [
      "_________________________________________________________________\n",
      "Layer (type)                 Output Shape              Param #   \n",
      "=================================================================\n",
      "dense_31 (Dense)             (None, 128)               100480    \n",
      "_________________________________________________________________\n",
      "activation_31 (Activation)   (None, 128)               0         \n",
      "_________________________________________________________________\n",
      "dense_32 (Dense)             (None, 128)               16512     \n",
      "_________________________________________________________________\n",
      "activation_32 (Activation)   (None, 128)               0         \n",
      "_________________________________________________________________\n",
      "dense_33 (Dense)             (None, 128)               16512     \n",
      "_________________________________________________________________\n",
      "activation_33 (Activation)   (None, 128)               0         \n",
      "_________________________________________________________________\n",
      "dense_34 (Dense)             (None, 10)                1290      \n",
      "_________________________________________________________________\n",
      "activation_34 (Activation)   (None, 10)                0         \n",
      "=================================================================\n",
      "Total params: 134,794.0\n",
      "Trainable params: 134,794.0\n",
      "Non-trainable params: 0.0\n",
      "_________________________________________________________________\n"
     ]
    }
   ],
   "source": [
    "model5 = Sequential()\n",
    "model5.add(Dense(128, input_shape=(784,)))\n",
    "model5.add(Activation('relu'))\n",
    "model5.add(Dense(128))\n",
    "model5.add(Activation('relu'))\n",
    "model5.add(Dense(128))\n",
    "model5.add(Activation('relu'))\n",
    "model5.add(Dense(10))\n",
    "model5.add(Activation('softmax'))\n",
    "model5.summary()"
   ]
  },
  {
   "cell_type": "code",
   "execution_count": 80,
   "metadata": {
    "collapsed": true
   },
   "outputs": [],
   "source": [
    "model5.compile(loss='categorical_crossentropy', optimizer='sgd', metrics=['accuracy'])"
   ]
  },
  {
   "cell_type": "code",
   "execution_count": 81,
   "metadata": {},
   "outputs": [
    {
     "name": "stdout",
     "output_type": "stream",
     "text": [
      "Train on 48000 samples, validate on 12000 samples\n",
      "Epoch 1/40\n",
      "48000/48000 [==============================] - 4s - loss: 1.0423 - acc: 0.7199 - val_loss: 0.4168 - val_acc: 0.8836\n",
      "Epoch 2/40\n",
      "48000/48000 [==============================] - 4s - loss: 0.3739 - acc: 0.8958 - val_loss: 0.3072 - val_acc: 0.9118\n",
      "Epoch 3/40\n",
      "48000/48000 [==============================] - 4s - loss: 0.3019 - acc: 0.9135 - val_loss: 0.2680 - val_acc: 0.9243\n",
      "Epoch 4/40\n",
      "48000/48000 [==============================] - 4s - loss: 0.2654 - acc: 0.9233 - val_loss: 0.2396 - val_acc: 0.9304\n",
      "Epoch 5/40\n",
      "48000/48000 [==============================] - 4s - loss: 0.2381 - acc: 0.9317 - val_loss: 0.2198 - val_acc: 0.9358\n",
      "Epoch 6/40\n",
      "48000/48000 [==============================] - 4s - loss: 0.2183 - acc: 0.9369 - val_loss: 0.2091 - val_acc: 0.9395\n",
      "Epoch 7/40\n",
      "48000/48000 [==============================] - 4s - loss: 0.2008 - acc: 0.9417 - val_loss: 0.1912 - val_acc: 0.9468\n",
      "Epoch 8/40\n",
      "48000/48000 [==============================] - 4s - loss: 0.1850 - acc: 0.9465 - val_loss: 0.1804 - val_acc: 0.9491\n",
      "Epoch 9/40\n",
      "48000/48000 [==============================] - 4s - loss: 0.1725 - acc: 0.9493 - val_loss: 0.1719 - val_acc: 0.9523\n",
      "Epoch 10/40\n",
      "48000/48000 [==============================] - 4s - loss: 0.1607 - acc: 0.9527 - val_loss: 0.1612 - val_acc: 0.9548\n",
      "Epoch 11/40\n",
      "48000/48000 [==============================] - 4s - loss: 0.1501 - acc: 0.9562 - val_loss: 0.1552 - val_acc: 0.9560\n",
      "Epoch 12/40\n",
      "48000/48000 [==============================] - 4s - loss: 0.1402 - acc: 0.9594 - val_loss: 0.1498 - val_acc: 0.9574\n",
      "Epoch 13/40\n",
      "48000/48000 [==============================] - 4s - loss: 0.1319 - acc: 0.9615 - val_loss: 0.1411 - val_acc: 0.9599\n",
      "Epoch 14/40\n",
      "48000/48000 [==============================] - 4s - loss: 0.1240 - acc: 0.9636 - val_loss: 0.1352 - val_acc: 0.9605\n",
      "Epoch 15/40\n",
      "48000/48000 [==============================] - 4s - loss: 0.1171 - acc: 0.9661 - val_loss: 0.1339 - val_acc: 0.9606\n",
      "Epoch 16/40\n",
      "48000/48000 [==============================] - 4s - loss: 0.1106 - acc: 0.9683 - val_loss: 0.1310 - val_acc: 0.9613\n",
      "Epoch 17/40\n",
      "48000/48000 [==============================] - 4s - loss: 0.1045 - acc: 0.9705 - val_loss: 0.1255 - val_acc: 0.9635\n",
      "Epoch 18/40\n",
      "48000/48000 [==============================] - 4s - loss: 0.0988 - acc: 0.9720 - val_loss: 0.1238 - val_acc: 0.9651\n",
      "Epoch 19/40\n",
      "48000/48000 [==============================] - 4s - loss: 0.0938 - acc: 0.9737 - val_loss: 0.1205 - val_acc: 0.9651\n",
      "Epoch 20/40\n",
      "48000/48000 [==============================] - 4s - loss: 0.0893 - acc: 0.9742 - val_loss: 0.1158 - val_acc: 0.9663\n",
      "Epoch 21/40\n",
      "48000/48000 [==============================] - 4s - loss: 0.0847 - acc: 0.9757 - val_loss: 0.1175 - val_acc: 0.9653\n",
      "Epoch 22/40\n",
      "48000/48000 [==============================] - 4s - loss: 0.0803 - acc: 0.9768 - val_loss: 0.1156 - val_acc: 0.9649\n",
      "Epoch 23/40\n",
      "48000/48000 [==============================] - 4s - loss: 0.0768 - acc: 0.9788 - val_loss: 0.1098 - val_acc: 0.9668\n",
      "Epoch 24/40\n",
      "48000/48000 [==============================] - 4s - loss: 0.0731 - acc: 0.9785 - val_loss: 0.1072 - val_acc: 0.9681\n",
      "Epoch 25/40\n",
      "48000/48000 [==============================] - 4s - loss: 0.0691 - acc: 0.9809 - val_loss: 0.1053 - val_acc: 0.9688\n",
      "Epoch 26/40\n",
      "48000/48000 [==============================] - 4s - loss: 0.0663 - acc: 0.9813 - val_loss: 0.1044 - val_acc: 0.9698\n",
      "Epoch 27/40\n",
      "48000/48000 [==============================] - 4s - loss: 0.0632 - acc: 0.9823 - val_loss: 0.1042 - val_acc: 0.9692\n",
      "Epoch 28/40\n",
      "48000/48000 [==============================] - 4s - loss: 0.0602 - acc: 0.9832 - val_loss: 0.1097 - val_acc: 0.9673\n",
      "Epoch 29/40\n",
      "48000/48000 [==============================] - 4s - loss: 0.0575 - acc: 0.9839 - val_loss: 0.1018 - val_acc: 0.9691\n",
      "Epoch 30/40\n",
      "48000/48000 [==============================] - 4s - loss: 0.0549 - acc: 0.9846 - val_loss: 0.0990 - val_acc: 0.9704\n",
      "Epoch 31/40\n",
      "48000/48000 [==============================] - 4s - loss: 0.0522 - acc: 0.9857 - val_loss: 0.1002 - val_acc: 0.9704\n",
      "Epoch 32/40\n",
      "48000/48000 [==============================] - 4s - loss: 0.0504 - acc: 0.9863 - val_loss: 0.1028 - val_acc: 0.9685\n",
      "Epoch 33/40\n",
      "48000/48000 [==============================] - 4s - loss: 0.0482 - acc: 0.9871 - val_loss: 0.0968 - val_acc: 0.9711\n",
      "Epoch 34/40\n",
      "48000/48000 [==============================] - 4s - loss: 0.0461 - acc: 0.9875 - val_loss: 0.0966 - val_acc: 0.9705\n",
      "Epoch 35/40\n",
      "48000/48000 [==============================] - 4s - loss: 0.0440 - acc: 0.9878 - val_loss: 0.0985 - val_acc: 0.9714\n",
      "Epoch 36/40\n",
      "48000/48000 [==============================] - 4s - loss: 0.0419 - acc: 0.9886 - val_loss: 0.0969 - val_acc: 0.9705\n",
      "Epoch 37/40\n",
      "48000/48000 [==============================] - 4s - loss: 0.0403 - acc: 0.9895 - val_loss: 0.0947 - val_acc: 0.9722\n",
      "Epoch 38/40\n",
      "48000/48000 [==============================] - 4s - loss: 0.0383 - acc: 0.9899 - val_loss: 0.0954 - val_acc: 0.9726\n",
      "Epoch 39/40\n",
      "48000/48000 [==============================] - 4s - loss: 0.0368 - acc: 0.9904 - val_loss: 0.0983 - val_acc: 0.9707\n",
      "Epoch 40/40\n",
      "48000/48000 [==============================] - 4s - loss: 0.0355 - acc: 0.9913 - val_loss: 0.0946 - val_acc: 0.9720\n"
     ]
    }
   ],
   "source": [
    "history5 = model5.fit(X_train, Y_train,batch_size=64, epochs=40,verbose=1, validation_split=0.2)"
   ]
  },
  {
   "cell_type": "code",
   "execution_count": 82,
   "metadata": {},
   "outputs": [
    {
     "data": {
      "image/png": "[encoded data removed]",
      "text/plain": [
       "<matplotlib.figure.Figure at 0x1b8a687da0>"
      ]
     },
     "metadata": {},
     "output_type": "display_data"
    },
    {
     "data": {
      "image/png": "[encoded data removed]",
      "text/plain": [
       "<matplotlib.figure.Figure at 0x1b8a27f080>"
      ]
     },
     "metadata": {},
     "output_type": "display_data"
    }
   ],
   "source": [
    "# summarize history for accuracy\n",
    "plt.plot(history5.history['acc'])\n",
    "plt.plot(history5.history['val_acc'])\n",
    "plt.title('model accuracy')\n",
    "plt.ylabel('accuracy')\n",
    "plt.xlabel('epoch')\n",
    "plt.legend(['train', 'test'], loc='upper left')\n",
    "plt.show()\n",
    "\n",
    "# summarize history for loss\n",
    "plt.plot(history5.history['loss'])\n",
    "plt.plot(history5.history['val_loss'])\n",
    "plt.title('model loss')\n",
    "plt.ylabel('loss')\n",
    "plt.xlabel('epoch')\n",
    "plt.legend(['train', 'test'], loc='upper left')\n",
    "plt.show()"
   ]
  },
  {
   "cell_type": "code",
   "execution_count": 83,
   "metadata": {},
   "outputs": [
    {
     "name": "stdout",
     "output_type": "stream",
     "text": [
      " 9568/10000 [===========================>..] - ETA: 0s\n",
      "Loss: 0.09, Accuracy: 97.30%\n"
     ]
    }
   ],
   "source": [
    "# evaluate the network\n",
    "loss, accuracy = model5.evaluate(X_test, Y_test)\n",
    "print(\"\\nLoss: %.2f, Accuracy: %.2f%%\" % (loss, accuracy*100))"
   ]
  },
  {
   "cell_type": "code",
   "execution_count": null,
   "metadata": {
    "collapsed": true
   },
   "outputs": [],
   "source": []
  }
 ],
 "metadata": {
  "kernelspec": {
   "display_name": "Python 3",
   "language": "python",
   "name": "python3"
  },
  "language_info": {
   "codemirror_mode": {
    "name": "ipython",
    "version": 3
   },
   "file_extension": ".py",
   "mimetype": "text/x-python",
   "name": "python",
   "nbconvert_exporter": "python",
   "pygments_lexer": "ipython3",
   "version": "3.6.1"
  }
 },
 "nbformat": 4,
 "nbformat_minor": 2
}

{
 "cells": [
  {
   "cell_type": "markdown",
   "metadata": {},
   "source": [
    "# Study the effects of Learning rates"
   ]
  },
  {
   "cell_type": "markdown",
   "metadata": {},
   "source": [
    "## Summary"
   ]
  },
  {
   "cell_type": "markdown",
   "metadata": {},
   "source": [
    "In this notebook, I study how choosing the different learning rates effect the performance of my model. I have noticed that the choosing lower learning rates improve the accuracy but a very small learning rate also degrade the performance."
   ]
  },
  {
   "cell_type": "code",
   "execution_count": 1,
   "metadata": {},
   "outputs": [
    {
     "name": "stderr",
     "output_type": "stream",
     "text": [
      "Using TensorFlow backend.\n"
     ]
    }
   ],
   "source": [
    "import keras"
   ]
  },
  {
   "cell_type": "code",
   "execution_count": 2,
   "metadata": {
    "collapsed": true
   },
   "outputs": [],
   "source": [
    "import numpy as np\n",
    "import matplotlib.pyplot as plt"
   ]
  },
  {
   "cell_type": "code",
   "execution_count": 3,
   "metadata": {
    "collapsed": true
   },
   "outputs": [],
   "source": [
    "from keras.datasets import mnist\n",
    "from keras.models import Sequential\n",
    "from keras.layers.core import Dense, Dropout, Activation\n",
    "from keras.optimizers import Adam\n",
    "from keras.utils import np_utils\n",
    "np.random.seed(1671)"
   ]
  },
  {
   "cell_type": "code",
   "execution_count": 4,
   "metadata": {},
   "outputs": [
    {
     "name": "stdout",
     "output_type": "stream",
     "text": [
      "60000 train samples\n",
      "10000 test samples\n"
     ]
    }
   ],
   "source": [
    "(X_train, y_train), (X_test, y_test) = mnist.load_data()\n",
    "\n",
    "X_train = X_train.reshape(60000, 784)\n",
    "X_test = X_test.reshape(10000, 784)\n",
    "X_train = X_train.astype('float32')\n",
    "X_test = X_test.astype('float32')\n",
    "# normalize\n",
    "X_train /= 255\n",
    "X_test /= 255\n",
    "print(X_train.shape[0], 'train samples')\n",
    "print(X_test.shape[0], 'test samples')"
   ]
  },
  {
   "cell_type": "code",
   "execution_count": 5,
   "metadata": {
    "collapsed": true
   },
   "outputs": [],
   "source": [
    "# convert class vectors to binary class matrices\n",
    "Y_train = np_utils.to_categorical(y_train, 10)\n",
    "Y_test = np_utils.to_categorical(y_test, 10)"
   ]
  },
  {
   "cell_type": "code",
   "execution_count": 6,
   "metadata": {
    "collapsed": true
   },
   "outputs": [],
   "source": [
    "accuracies=[]"
   ]
  },
  {
   "cell_type": "markdown",
   "metadata": {},
   "source": [
    "#### Learning rate :0.1"
   ]
  },
  {
   "cell_type": "code",
   "execution_count": 8,
   "metadata": {},
   "outputs": [
    {
     "name": "stdout",
     "output_type": "stream",
     "text": [
      "_________________________________________________________________\n",
      "Layer (type)                 Output Shape              Param #   \n",
      "=================================================================\n",
      "dense_1 (Dense)              (None, 128)               100480    \n",
      "_________________________________________________________________\n",
      "activation_1 (Activation)    (None, 128)               0         \n",
      "_________________________________________________________________\n",
      "dropout_1 (Dropout)          (None, 128)               0         \n",
      "_________________________________________________________________\n",
      "dense_2 (Dense)              (None, 128)               16512     \n",
      "_________________________________________________________________\n",
      "activation_2 (Activation)    (None, 128)               0         \n",
      "_________________________________________________________________\n",
      "dropout_2 (Dropout)          (None, 128)               0         \n",
      "_________________________________________________________________\n",
      "dense_3 (Dense)              (None, 10)                1290      \n",
      "_________________________________________________________________\n",
      "activation_3 (Activation)    (None, 10)                0         \n",
      "=================================================================\n",
      "Total params: 118,282.0\n",
      "Trainable params: 118,282.0\n",
      "Non-trainable params: 0.0\n",
      "_________________________________________________________________\n",
      "Train on 48000 samples, validate on 12000 samples\n",
      "Epoch 1/20\n",
      "48000/48000 [==============================] - 6s - loss: 14.5131 - acc: 0.0985 - val_loss: 14.5090 - val_acc: 0.0998\n",
      "Epoch 2/20\n",
      "48000/48000 [==============================] - 4s - loss: 14.5553 - acc: 0.0970 - val_loss: 14.5090 - val_acc: 0.0998\n",
      "Epoch 3/20\n",
      "48000/48000 [==============================] - 4s - loss: 14.5550 - acc: 0.0970 - val_loss: 14.5090 - val_acc: 0.0998\n",
      "Epoch 4/20\n",
      "48000/48000 [==============================] - 5s - loss: 14.5557 - acc: 0.0969 - val_loss: 14.5090 - val_acc: 0.0998\n",
      "Epoch 5/20\n",
      "48000/48000 [==============================] - 5s - loss: 14.5553 - acc: 0.0970 - val_loss: 14.5090 - val_acc: 0.0998\n",
      "Epoch 6/20\n",
      "48000/48000 [==============================] - 5s - loss: 14.5557 - acc: 0.0969 - val_loss: 14.5090 - val_acc: 0.0998\n",
      "Epoch 7/20\n",
      "48000/48000 [==============================] - 5s - loss: 14.5560 - acc: 0.0969 - val_loss: 14.5090 - val_acc: 0.0998\n",
      "Epoch 8/20\n",
      "48000/48000 [==============================] - 5s - loss: 14.5567 - acc: 0.0969 - val_loss: 14.5090 - val_acc: 0.0998\n",
      "Epoch 9/20\n",
      "48000/48000 [==============================] - 5s - loss: 14.5560 - acc: 0.0969 - val_loss: 14.5090 - val_acc: 0.0998\n",
      "Epoch 10/20\n",
      "48000/48000 [==============================] - 5s - loss: 14.5550 - acc: 0.0970 - val_loss: 14.5090 - val_acc: 0.0998\n",
      "Epoch 11/20\n",
      "48000/48000 [==============================] - 5s - loss: 14.5550 - acc: 0.0970 - val_loss: 14.5090 - val_acc: 0.0998\n",
      "Epoch 12/20\n",
      "48000/48000 [==============================] - 5s - loss: 14.5560 - acc: 0.0969 - val_loss: 14.5090 - val_acc: 0.0998\n",
      "Epoch 13/20\n",
      "48000/48000 [==============================] - 5s - loss: 14.5553 - acc: 0.0970 - val_loss: 14.5090 - val_acc: 0.0998\n",
      "Epoch 14/20\n",
      "48000/48000 [==============================] - 5s - loss: 14.5546 - acc: 0.0970 - val_loss: 14.5090 - val_acc: 0.0998\n",
      "Epoch 15/20\n",
      "48000/48000 [==============================] - 5s - loss: 14.5557 - acc: 0.0969 - val_loss: 14.5090 - val_acc: 0.0998\n",
      "Epoch 16/20\n",
      "48000/48000 [==============================] - 4s - loss: 14.5560 - acc: 0.0969 - val_loss: 14.5090 - val_acc: 0.0998\n",
      "Epoch 17/20\n",
      "48000/48000 [==============================] - 4s - loss: 14.5553 - acc: 0.0970 - val_loss: 14.5090 - val_acc: 0.0998\n",
      "Epoch 18/20\n",
      "48000/48000 [==============================] - 4s - loss: 14.5553 - acc: 0.0970 - val_loss: 14.5090 - val_acc: 0.0998\n",
      "Epoch 19/20\n",
      "48000/48000 [==============================] - 4s - loss: 14.5557 - acc: 0.0969 - val_loss: 14.5090 - val_acc: 0.0998\n",
      "Epoch 20/20\n",
      "48000/48000 [==============================] - 5s - loss: 14.5557 - acc: 0.0969 - val_loss: 14.5090 - val_acc: 0.0998\n"
     ]
    }
   ],
   "source": [
    "model = Sequential()\n",
    "model.add(Dense(128, input_shape=(784,)))\n",
    "model.add(Activation('relu'))\n",
    "model.add(Dropout(0.3))\n",
    "model.add(Dense(128))\n",
    "model.add(Activation('relu'))\n",
    "model.add(Dropout(0.3))\n",
    "model.add(Dense(10))\n",
    "model.add(Activation('softmax'))\n",
    "model.summary()\n",
    "\n",
    "OPTIMIZER = Adam( lr=0.1)\n",
    "model.compile(loss='categorical_crossentropy', optimizer=OPTIMIZER, metrics=['accuracy'])\n",
    "history = model.fit(X_train, Y_train,batch_size=64, epochs=20,verbose=1, validation_split=0.2)"
   ]
  },
  {
   "cell_type": "code",
   "execution_count": 9,
   "metadata": {},
   "outputs": [
    {
     "name": "stdout",
     "output_type": "stream",
     "text": [
      " 9984/10000 [============================>.] - ETA: 0s\n",
      "Loss: 14.55, Accuracy: 9.74%\n"
     ]
    }
   ],
   "source": [
    "# evaluate the network\n",
    "loss, accuracy = model.evaluate(X_test, Y_test)\n",
    "print(\"\\nLoss: %.2f, Accuracy: %.2f%%\" % (loss, accuracy*100))\n",
    "accuracies.append(accuracy)"
   ]
  },
  {
   "cell_type": "code",
   "execution_count": 1,
   "metadata": {
    "collapsed": true
   },
   "outputs": [],
   "source": [
    "#### Learning rate :0.01"
   ]
  },
  {
   "cell_type": "code",
   "execution_count": 10,
   "metadata": {},
   "outputs": [
    {
     "name": "stdout",
     "output_type": "stream",
     "text": [
      "_________________________________________________________________\n",
      "Layer (type)                 Output Shape              Param #   \n",
      "=================================================================\n",
      "dense_4 (Dense)              (None, 128)               100480    \n",
      "_________________________________________________________________\n",
      "activation_4 (Activation)    (None, 128)               0         \n",
      "_________________________________________________________________\n",
      "dropout_3 (Dropout)          (None, 128)               0         \n",
      "_________________________________________________________________\n",
      "dense_5 (Dense)              (None, 128)               16512     \n",
      "_________________________________________________________________\n",
      "activation_5 (Activation)    (None, 128)               0         \n",
      "_________________________________________________________________\n",
      "dropout_4 (Dropout)          (None, 128)               0         \n",
      "_________________________________________________________________\n",
      "dense_6 (Dense)              (None, 10)                1290      \n",
      "_________________________________________________________________\n",
      "activation_6 (Activation)    (None, 10)                0         \n",
      "=================================================================\n",
      "Total params: 118,282.0\n",
      "Trainable params: 118,282.0\n",
      "Non-trainable params: 0.0\n",
      "_________________________________________________________________\n",
      "Train on 48000 samples, validate on 12000 samples\n",
      "Epoch 1/20\n",
      "48000/48000 [==============================] - 5s - loss: 0.4517 - acc: 0.8658 - val_loss: 0.2159 - val_acc: 0.9378\n",
      "Epoch 2/20\n",
      "48000/48000 [==============================] - 4s - loss: 0.3457 - acc: 0.9057 - val_loss: 0.1909 - val_acc: 0.9485\n",
      "Epoch 3/20\n",
      "48000/48000 [==============================] - 4s - loss: 0.3104 - acc: 0.9158 - val_loss: 0.2002 - val_acc: 0.9459\n",
      "Epoch 4/20\n",
      "48000/48000 [==============================] - 5s - loss: 0.3183 - acc: 0.9155 - val_loss: 0.1958 - val_acc: 0.9507\n",
      "Epoch 5/20\n",
      "48000/48000 [==============================] - 5s - loss: 0.3043 - acc: 0.9217 - val_loss: 0.1804 - val_acc: 0.9544\n",
      "Epoch 6/20\n",
      "48000/48000 [==============================] - 5s - loss: 0.3110 - acc: 0.9249 - val_loss: 0.1904 - val_acc: 0.9512\n",
      "Epoch 7/20\n",
      "48000/48000 [==============================] - 4s - loss: 0.2816 - acc: 0.9296 - val_loss: 0.1768 - val_acc: 0.9541\n",
      "Epoch 8/20\n",
      "48000/48000 [==============================] - 4s - loss: 0.3025 - acc: 0.9256 - val_loss: 0.1743 - val_acc: 0.9569\n",
      "Epoch 9/20\n",
      "48000/48000 [==============================] - 5s - loss: 0.2812 - acc: 0.9308 - val_loss: 0.1814 - val_acc: 0.9551\n",
      "Epoch 10/20\n",
      "48000/48000 [==============================] - 5s - loss: 0.2719 - acc: 0.9322 - val_loss: 0.1756 - val_acc: 0.9571\n",
      "Epoch 11/20\n",
      "48000/48000 [==============================] - 4s - loss: 0.2751 - acc: 0.9324 - val_loss: 0.2010 - val_acc: 0.9556\n",
      "Epoch 12/20\n",
      "48000/48000 [==============================] - 5s - loss: 0.2667 - acc: 0.9351 - val_loss: 0.1878 - val_acc: 0.9563\n",
      "Epoch 13/20\n",
      "48000/48000 [==============================] - 4s - loss: 0.2811 - acc: 0.9326 - val_loss: 0.1825 - val_acc: 0.9576\n",
      "Epoch 14/20\n",
      "48000/48000 [==============================] - 4s - loss: 0.2773 - acc: 0.9336 - val_loss: 0.1912 - val_acc: 0.9585\n",
      "Epoch 15/20\n",
      "48000/48000 [==============================] - 4s - loss: 0.2716 - acc: 0.9346 - val_loss: 0.2114 - val_acc: 0.9533\n",
      "Epoch 16/20\n",
      "48000/48000 [==============================] - 5s - loss: 0.2708 - acc: 0.9355 - val_loss: 0.1802 - val_acc: 0.9594\n",
      "Epoch 17/20\n",
      "48000/48000 [==============================] - 5s - loss: 0.2677 - acc: 0.9373 - val_loss: 0.1876 - val_acc: 0.9579\n",
      "Epoch 18/20\n",
      "48000/48000 [==============================] - 4s - loss: 0.2685 - acc: 0.9370 - val_loss: 0.1935 - val_acc: 0.9590\n",
      "Epoch 19/20\n",
      "48000/48000 [==============================] - 4s - loss: 0.2727 - acc: 0.9361 - val_loss: 0.1895 - val_acc: 0.9594\n",
      "Epoch 20/20\n",
      "48000/48000 [==============================] - 4s - loss: 0.2567 - acc: 0.9381 - val_loss: 0.1907 - val_acc: 0.9578\n"
     ]
    }
   ],
   "source": [
    "model2 = Sequential()\n",
    "model2.add(Dense(128, input_shape=(784,)))\n",
    "model2.add(Activation('relu'))\n",
    "model2.add(Dropout(0.3))\n",
    "model2.add(Dense(128))\n",
    "model2.add(Activation('relu'))\n",
    "model2.add(Dropout(0.3))\n",
    "model2.add(Dense(10))\n",
    "model2.add(Activation('softmax'))\n",
    "model2.summary()\n",
    "\n",
    "OPTIMIZER = Adam( lr=0.01)\n",
    "model2.compile(loss='categorical_crossentropy', optimizer=OPTIMIZER, metrics=['accuracy'])\n",
    "history2 = model2.fit(X_train, Y_train,batch_size=64, epochs=20,verbose=1, validation_split=0.2)"
   ]
  },
  {
   "cell_type": "code",
   "execution_count": 11,
   "metadata": {},
   "outputs": [
    {
     "name": "stdout",
     "output_type": "stream",
     "text": [
      " 9664/10000 [===========================>..] - ETA: 0s\n",
      "Loss: 0.19, Accuracy: 95.88%\n"
     ]
    }
   ],
   "source": [
    "# evaluate the network\n",
    "loss, accuracy = model2.evaluate(X_test, Y_test)\n",
    "print(\"\\nLoss: %.2f, Accuracy: %.2f%%\" % (loss, accuracy*100))\n",
    "accuracies.append(accuracy)"
   ]
  },
  {
   "cell_type": "markdown",
   "metadata": {},
   "source": [
    "#### Learning rate :0.001"
   ]
  },
  {
   "cell_type": "code",
   "execution_count": 12,
   "metadata": {},
   "outputs": [
    {
     "name": "stdout",
     "output_type": "stream",
     "text": [
      "_________________________________________________________________\n",
      "Layer (type)                 Output Shape              Param #   \n",
      "=================================================================\n",
      "dense_7 (Dense)              (None, 128)               100480    \n",
      "_________________________________________________________________\n",
      "activation_7 (Activation)    (None, 128)               0         \n",
      "_________________________________________________________________\n",
      "dropout_5 (Dropout)          (None, 128)               0         \n",
      "_________________________________________________________________\n",
      "dense_8 (Dense)              (None, 128)               16512     \n",
      "_________________________________________________________________\n",
      "activation_8 (Activation)    (None, 128)               0         \n",
      "_________________________________________________________________\n",
      "dropout_6 (Dropout)          (None, 128)               0         \n",
      "_________________________________________________________________\n",
      "dense_9 (Dense)              (None, 10)                1290      \n",
      "_________________________________________________________________\n",
      "activation_9 (Activation)    (None, 10)                0         \n",
      "=================================================================\n",
      "Total params: 118,282.0\n",
      "Trainable params: 118,282.0\n",
      "Non-trainable params: 0.0\n",
      "_________________________________________________________________\n",
      "Train on 48000 samples, validate on 12000 samples\n",
      "Epoch 1/20\n",
      "48000/48000 [==============================] - 5s - loss: 0.4417 - acc: 0.8679 - val_loss: 0.1595 - val_acc: 0.9557\n",
      "Epoch 2/20\n",
      "48000/48000 [==============================] - 4s - loss: 0.2083 - acc: 0.9377 - val_loss: 0.1221 - val_acc: 0.9638\n",
      "Epoch 3/20\n",
      "48000/48000 [==============================] - 4s - loss: 0.1617 - acc: 0.9516 - val_loss: 0.1126 - val_acc: 0.9657\n",
      "Epoch 4/20\n",
      "48000/48000 [==============================] - 4s - loss: 0.1359 - acc: 0.9587 - val_loss: 0.1006 - val_acc: 0.9708\n",
      "Epoch 5/20\n",
      "48000/48000 [==============================] - 4s - loss: 0.1193 - acc: 0.9627 - val_loss: 0.0977 - val_acc: 0.9702\n",
      "Epoch 6/20\n",
      "48000/48000 [==============================] - 4s - loss: 0.1062 - acc: 0.9683 - val_loss: 0.0897 - val_acc: 0.9723\n",
      "Epoch 7/20\n",
      "48000/48000 [==============================] - 4s - loss: 0.0959 - acc: 0.9701 - val_loss: 0.0858 - val_acc: 0.9753\n",
      "Epoch 8/20\n",
      "48000/48000 [==============================] - 4s - loss: 0.0901 - acc: 0.9721 - val_loss: 0.0870 - val_acc: 0.9756\n",
      "Epoch 9/20\n",
      "48000/48000 [==============================] - 5s - loss: 0.0855 - acc: 0.9734 - val_loss: 0.0861 - val_acc: 0.9750\n",
      "Epoch 10/20\n",
      "48000/48000 [==============================] - 4s - loss: 0.0803 - acc: 0.9749 - val_loss: 0.0894 - val_acc: 0.9741\n",
      "Epoch 11/20\n",
      "48000/48000 [==============================] - 4s - loss: 0.0762 - acc: 0.9761 - val_loss: 0.0817 - val_acc: 0.9777\n",
      "Epoch 12/20\n",
      "48000/48000 [==============================] - 4s - loss: 0.0748 - acc: 0.9765 - val_loss: 0.0822 - val_acc: 0.9759\n",
      "Epoch 13/20\n",
      "48000/48000 [==============================] - 5s - loss: 0.0677 - acc: 0.9785 - val_loss: 0.0783 - val_acc: 0.9778\n",
      "Epoch 14/20\n",
      "48000/48000 [==============================] - 4s - loss: 0.0653 - acc: 0.9793 - val_loss: 0.0882 - val_acc: 0.9752\n",
      "Epoch 15/20\n",
      "48000/48000 [==============================] - 4s - loss: 0.0648 - acc: 0.9791 - val_loss: 0.0793 - val_acc: 0.9782\n",
      "Epoch 16/20\n",
      "48000/48000 [==============================] - 4s - loss: 0.0600 - acc: 0.9808 - val_loss: 0.0781 - val_acc: 0.9794\n",
      "Epoch 17/20\n",
      "48000/48000 [==============================] - 4s - loss: 0.0587 - acc: 0.9809 - val_loss: 0.0855 - val_acc: 0.9771\n",
      "Epoch 18/20\n",
      "48000/48000 [==============================] - 4s - loss: 0.0592 - acc: 0.9803 - val_loss: 0.0827 - val_acc: 0.9784\n",
      "Epoch 19/20\n",
      "48000/48000 [==============================] - 5s - loss: 0.0543 - acc: 0.9826 - val_loss: 0.0855 - val_acc: 0.9775\n",
      "Epoch 20/20\n",
      "48000/48000 [==============================] - 4s - loss: 0.0524 - acc: 0.9830 - val_loss: 0.0794 - val_acc: 0.9792\n"
     ]
    }
   ],
   "source": [
    "model3 = Sequential()\n",
    "model3.add(Dense(128, input_shape=(784,)))\n",
    "model3.add(Activation('relu'))\n",
    "model3.add(Dropout(0.3))\n",
    "model3.add(Dense(128))\n",
    "model3.add(Activation('relu'))\n",
    "model3.add(Dropout(0.3))\n",
    "model3.add(Dense(10))\n",
    "model3.add(Activation('softmax'))\n",
    "model3.summary()\n",
    "\n",
    "OPTIMIZER = Adam( lr=0.001)\n",
    "model3.compile(loss='categorical_crossentropy', optimizer=OPTIMIZER, metrics=['accuracy'])\n",
    "history = model3.fit(X_train, Y_train,batch_size=64, epochs=20,verbose=1, validation_split=0.2)"
   ]
  },
  {
   "cell_type": "code",
   "execution_count": 13,
   "metadata": {},
   "outputs": [
    {
     "name": "stdout",
     "output_type": "stream",
     "text": [
      " 8896/10000 [=========================>....] - ETA: 0s\n",
      "Loss: 0.08, Accuracy: 97.98%\n"
     ]
    }
   ],
   "source": [
    "# evaluate the network\n",
    "loss, accuracy = model3.evaluate(X_test, Y_test)\n",
    "print(\"\\nLoss: %.2f, Accuracy: %.2f%%\" % (loss, accuracy*100))\n",
    "accuracies.append(accuracy)"
   ]
  },
  {
   "cell_type": "code",
   "execution_count": 2,
   "metadata": {
    "collapsed": true
   },
   "outputs": [],
   "source": [
    "#### Learning rate :0.0001"
   ]
  },
  {
   "cell_type": "code",
   "execution_count": 14,
   "metadata": {},
   "outputs": [
    {
     "name": "stdout",
     "output_type": "stream",
     "text": [
      "_________________________________________________________________\n",
      "Layer (type)                 Output Shape              Param #   \n",
      "=================================================================\n",
      "dense_10 (Dense)             (None, 128)               100480    \n",
      "_________________________________________________________________\n",
      "activation_10 (Activation)   (None, 128)               0         \n",
      "_________________________________________________________________\n",
      "dropout_7 (Dropout)          (None, 128)               0         \n",
      "_________________________________________________________________\n",
      "dense_11 (Dense)             (None, 128)               16512     \n",
      "_________________________________________________________________\n",
      "activation_11 (Activation)   (None, 128)               0         \n",
      "_________________________________________________________________\n",
      "dropout_8 (Dropout)          (None, 128)               0         \n",
      "_________________________________________________________________\n",
      "dense_12 (Dense)             (None, 10)                1290      \n",
      "_________________________________________________________________\n",
      "activation_12 (Activation)   (None, 10)                0         \n",
      "=================================================================\n",
      "Total params: 118,282.0\n",
      "Trainable params: 118,282.0\n",
      "Non-trainable params: 0.0\n",
      "_________________________________________________________________\n",
      "Train on 48000 samples, validate on 12000 samples\n",
      "Epoch 1/20\n",
      "48000/48000 [==============================] - 6s - loss: 1.1343 - acc: 0.6499 - val_loss: 0.4058 - val_acc: 0.8930\n",
      "Epoch 2/20\n",
      "48000/48000 [==============================] - 5s - loss: 0.4924 - acc: 0.8542 - val_loss: 0.2879 - val_acc: 0.9174\n",
      "Epoch 3/20\n",
      "48000/48000 [==============================] - 5s - loss: 0.3848 - acc: 0.8860 - val_loss: 0.2419 - val_acc: 0.9310\n",
      "Epoch 4/20\n",
      "48000/48000 [==============================] - 5s - loss: 0.3266 - acc: 0.9029 - val_loss: 0.2113 - val_acc: 0.9380\n",
      "Epoch 5/20\n",
      "48000/48000 [==============================] - 4s - loss: 0.2920 - acc: 0.9138 - val_loss: 0.1888 - val_acc: 0.9448\n",
      "Epoch 6/20\n",
      "48000/48000 [==============================] - 4s - loss: 0.2600 - acc: 0.9239 - val_loss: 0.1741 - val_acc: 0.9487\n",
      "Epoch 7/20\n",
      "48000/48000 [==============================] - 5s - loss: 0.2367 - acc: 0.9306 - val_loss: 0.1612 - val_acc: 0.9523\n",
      "Epoch 8/20\n",
      "48000/48000 [==============================] - 5s - loss: 0.2220 - acc: 0.9352 - val_loss: 0.1511 - val_acc: 0.9553\n",
      "Epoch 9/20\n",
      "48000/48000 [==============================] - 4s - loss: 0.2061 - acc: 0.9392 - val_loss: 0.1439 - val_acc: 0.9568\n",
      "Epoch 10/20\n",
      "48000/48000 [==============================] - 4s - loss: 0.1933 - acc: 0.9428 - val_loss: 0.1377 - val_acc: 0.9590\n",
      "Epoch 11/20\n",
      "48000/48000 [==============================] - 4s - loss: 0.1826 - acc: 0.9450 - val_loss: 0.1326 - val_acc: 0.9598\n",
      "Epoch 12/20\n",
      "48000/48000 [==============================] - 5s - loss: 0.1711 - acc: 0.9498 - val_loss: 0.1261 - val_acc: 0.9623\n",
      "Epoch 13/20\n",
      "48000/48000 [==============================] - 5s - loss: 0.1620 - acc: 0.9525 - val_loss: 0.1210 - val_acc: 0.9647\n",
      "Epoch 14/20\n",
      "48000/48000 [==============================] - 5s - loss: 0.1552 - acc: 0.9531 - val_loss: 0.1180 - val_acc: 0.9653\n",
      "Epoch 15/20\n",
      "48000/48000 [==============================] - 4s - loss: 0.1489 - acc: 0.9543 - val_loss: 0.1148 - val_acc: 0.9671\n",
      "Epoch 16/20\n",
      "48000/48000 [==============================] - 5s - loss: 0.1422 - acc: 0.9587 - val_loss: 0.1120 - val_acc: 0.9673\n",
      "Epoch 17/20\n",
      "48000/48000 [==============================] - 5s - loss: 0.1383 - acc: 0.9589 - val_loss: 0.1087 - val_acc: 0.9679\n",
      "Epoch 18/20\n",
      "48000/48000 [==============================] - 5s - loss: 0.1325 - acc: 0.9607 - val_loss: 0.1066 - val_acc: 0.9688\n",
      "Epoch 19/20\n",
      "48000/48000 [==============================] - 5s - loss: 0.1284 - acc: 0.9611 - val_loss: 0.1047 - val_acc: 0.9698\n",
      "Epoch 20/20\n",
      "48000/48000 [==============================] - 5s - loss: 0.1227 - acc: 0.9637 - val_loss: 0.1022 - val_acc: 0.9694\n"
     ]
    }
   ],
   "source": [
    "model4 = Sequential()\n",
    "model4.add(Dense(128, input_shape=(784,)))\n",
    "model4.add(Activation('relu'))\n",
    "model4.add(Dropout(0.3))\n",
    "model4.add(Dense(128))\n",
    "model4.add(Activation('relu'))\n",
    "model4.add(Dropout(0.3))\n",
    "model4.add(Dense(10))\n",
    "model4.add(Activation('softmax'))\n",
    "model4.summary()\n",
    "\n",
    "OPTIMIZER = Adam( lr=0.0001)\n",
    "model4.compile(loss='categorical_crossentropy', optimizer=OPTIMIZER, metrics=['accuracy'])\n",
    "history = model4.fit(X_train, Y_train,batch_size=64, epochs=20,verbose=1, validation_split=0.2)"
   ]
  },
  {
   "cell_type": "code",
   "execution_count": 15,
   "metadata": {},
   "outputs": [
    {
     "name": "stdout",
     "output_type": "stream",
     "text": [
      " 9568/10000 [===========================>..] - ETA: 0s\n",
      "Loss: 0.10, Accuracy: 97.14%\n"
     ]
    }
   ],
   "source": [
    "# evaluate the network\n",
    "loss, accuracy = model4.evaluate(X_test, Y_test)\n",
    "print(\"\\nLoss: %.2f, Accuracy: %.2f%%\" % (loss, accuracy*100))\n",
    "accuracies.append(accuracy)"
   ]
  },
  {
   "cell_type": "markdown",
   "metadata": {},
   "source": [
    "### ploting the graph to see the effects of learning rates"
   ]
  },
  {
   "cell_type": "code",
   "execution_count": 16,
   "metadata": {},
   "outputs": [
    {
     "data": {
      "text/plain": [
       "[0.0974, 0.95879999999999999, 0.9798, 0.97140000000000004]"
      ]
     },
     "execution_count": 16,
     "metadata": {},
     "output_type": "execute_result"
    }
   ],
   "source": [
    "accuracies"
   ]
  },
  {
   "cell_type": "code",
   "execution_count": 17,
   "metadata": {
    "collapsed": true
   },
   "outputs": [],
   "source": [
    "lrates=[0.1,0.01,0.001,0.0001]"
   ]
  },
  {
   "cell_type": "code",
   "execution_count": 18,
   "metadata": {},
   "outputs": [
    {
     "data": {
      "image/png": "[encoded data removed]",
      "text/plain": [
       "<matplotlib.figure.Figure at 0xcf21c8c358>"
      ]
     },
     "metadata": {},
     "output_type": "display_data"
    }
   ],
   "source": [
    "# summarize history for accuracy\n",
    "plt.plot(lrates,accuracies)\n",
    "\n",
    "plt.title('learning rates accuracy')\n",
    "plt.ylabel('accuracy')\n",
    "plt.xlabel('learning rate')\n",
    "plt.show()"
   ]
  },
  {
   "cell_type": "code",
   "execution_count": null,
   "metadata": {
    "collapsed": true
   },
   "outputs": [],
   "source": []
  }
 ],
 "metadata": {
  "kernelspec": {
   "display_name": "Python 3",
   "language": "python",
   "name": "python3"
  },
  "language_info": {
   "codemirror_mode": {
    "name": "ipython",
    "version": 3
   },
   "file_extension": ".py",
   "mimetype": "text/x-python",
   "name": "python",
   "nbconvert_exporter": "python",
   "pygments_lexer": "ipython3",
   "version": "3.6.1"
  }
 },
 "nbformat": 4,
 "nbformat_minor": 2
}

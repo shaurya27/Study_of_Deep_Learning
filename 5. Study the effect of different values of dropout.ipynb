{
 "cells": [
  {
   "cell_type": "markdown",
   "metadata": {},
   "source": [
    "# Study the effect of different values of dropout"
   ]
  },
  {
   "cell_type": "markdown",
   "metadata": {},
   "source": [
    "## Summary"
   ]
  },
  {
   "cell_type": "markdown",
   "metadata": {},
   "source": [
    "In this notebook, I have studied the effect of different values of dropout. I noticed that choosing low value of dropout doesn't solve the problem of overfitting and choosing a very high value, We lost too much information."
   ]
  },
  {
   "cell_type": "code",
   "execution_count": 1,
   "metadata": {},
   "outputs": [
    {
     "name": "stderr",
     "output_type": "stream",
     "text": [
      "Using TensorFlow backend.\n"
     ]
    }
   ],
   "source": [
    "import keras"
   ]
  },
  {
   "cell_type": "code",
   "execution_count": 2,
   "metadata": {
    "collapsed": true
   },
   "outputs": [],
   "source": [
    "import numpy as np\n",
    "import matplotlib.pyplot as plt"
   ]
  },
  {
   "cell_type": "code",
   "execution_count": 3,
   "metadata": {
    "collapsed": true
   },
   "outputs": [],
   "source": [
    "from keras.datasets import mnist\n",
    "from keras.models import Sequential\n",
    "from keras.layers.core import Dense, Dropout, Activation\n",
    "from keras.optimizers import Adam\n",
    "from keras.utils import np_utils\n",
    "np.random.seed(1671)"
   ]
  },
  {
   "cell_type": "code",
   "execution_count": 4,
   "metadata": {},
   "outputs": [
    {
     "name": "stdout",
     "output_type": "stream",
     "text": [
      "60000 train samples\n",
      "10000 test samples\n"
     ]
    }
   ],
   "source": [
    "(X_train, y_train), (X_test, y_test) = mnist.load_data()\n",
    "\n",
    "X_train = X_train.reshape(60000, 784)\n",
    "X_test = X_test.reshape(10000, 784)\n",
    "X_train = X_train.astype('float32')\n",
    "X_test = X_test.astype('float32')\n",
    "# normalize\n",
    "X_train /= 255\n",
    "X_test /= 255\n",
    "print(X_train.shape[0], 'train samples')\n",
    "print(X_test.shape[0], 'test samples')"
   ]
  },
  {
   "cell_type": "code",
   "execution_count": 5,
   "metadata": {
    "collapsed": true
   },
   "outputs": [],
   "source": [
    "# convert class vectors to binary class matrices\n",
    "Y_train = np_utils.to_categorical(y_train, 10)\n",
    "Y_test = np_utils.to_categorical(y_test, 10)"
   ]
  },
  {
   "cell_type": "code",
   "execution_count": 52,
   "metadata": {
    "collapsed": true
   },
   "outputs": [],
   "source": [
    "accuracies=[]"
   ]
  },
  {
   "cell_type": "markdown",
   "metadata": {},
   "source": [
    "#### Dropout = 0.1"
   ]
  },
  {
   "cell_type": "code",
   "execution_count": 27,
   "metadata": {},
   "outputs": [
    {
     "name": "stdout",
     "output_type": "stream",
     "text": [
      "_________________________________________________________________\n",
      "Layer (type)                 Output Shape              Param #   \n",
      "=================================================================\n",
      "dense_22 (Dense)             (None, 128)               100480    \n",
      "_________________________________________________________________\n",
      "activation_22 (Activation)   (None, 128)               0         \n",
      "_________________________________________________________________\n",
      "dropout_15 (Dropout)         (None, 128)               0         \n",
      "_________________________________________________________________\n",
      "dense_23 (Dense)             (None, 128)               16512     \n",
      "_________________________________________________________________\n",
      "activation_23 (Activation)   (None, 128)               0         \n",
      "_________________________________________________________________\n",
      "dropout_16 (Dropout)         (None, 128)               0         \n",
      "_________________________________________________________________\n",
      "dense_24 (Dense)             (None, 10)                1290      \n",
      "_________________________________________________________________\n",
      "activation_24 (Activation)   (None, 10)                0         \n",
      "=================================================================\n",
      "Total params: 118,282.0\n",
      "Trainable params: 118,282.0\n",
      "Non-trainable params: 0.0\n",
      "_________________________________________________________________\n"
     ]
    }
   ],
   "source": [
    "model = Sequential()\n",
    "model.add(Dense(128, input_shape=(784,)))\n",
    "model.add(Activation('relu'))\n",
    "model.add(Dropout(0.1))\n",
    "model.add(Dense(128))\n",
    "model.add(Activation('relu'))\n",
    "model.add(Dropout(0.1))\n",
    "model.add(Dense(10))\n",
    "model.add(Activation('softmax'))\n",
    "model.summary()"
   ]
  },
  {
   "cell_type": "code",
   "execution_count": 28,
   "metadata": {},
   "outputs": [
    {
     "name": "stdout",
     "output_type": "stream",
     "text": [
      "Train on 48000 samples, validate on 12000 samples\n",
      "Epoch 1/20\n",
      "48000/48000 [==============================] - 4s - loss: 0.3968 - acc: 0.8839 - val_loss: 0.1634 - val_acc: 0.9525\n",
      "Epoch 2/20\n",
      "48000/48000 [==============================] - 3s - loss: 0.1619 - acc: 0.9522 - val_loss: 0.1224 - val_acc: 0.9629\n",
      "Epoch 3/20\n",
      "48000/48000 [==============================] - 3s - loss: 0.1170 - acc: 0.9651 - val_loss: 0.1086 - val_acc: 0.9668\n",
      "Epoch 4/20\n",
      "48000/48000 [==============================] - 3s - loss: 0.0950 - acc: 0.9714 - val_loss: 0.0893 - val_acc: 0.9722\n",
      "Epoch 5/20\n",
      "48000/48000 [==============================] - 3s - loss: 0.0754 - acc: 0.9770 - val_loss: 0.0876 - val_acc: 0.9735\n",
      "Epoch 6/20\n",
      "48000/48000 [==============================] - 3s - loss: 0.0676 - acc: 0.9793 - val_loss: 0.0889 - val_acc: 0.9727\n",
      "Epoch 7/20\n",
      "48000/48000 [==============================] - 3s - loss: 0.0557 - acc: 0.9821 - val_loss: 0.0924 - val_acc: 0.9737\n",
      "Epoch 8/20\n",
      "48000/48000 [==============================] - 3s - loss: 0.0486 - acc: 0.9849 - val_loss: 0.0860 - val_acc: 0.9763\n",
      "Epoch 9/20\n",
      "48000/48000 [==============================] - 3s - loss: 0.0434 - acc: 0.9863 - val_loss: 0.0847 - val_acc: 0.9769\n",
      "Epoch 10/20\n",
      "48000/48000 [==============================] - 3s - loss: 0.0383 - acc: 0.9877 - val_loss: 0.0806 - val_acc: 0.9778\n",
      "Epoch 11/20\n",
      "48000/48000 [==============================] - 3s - loss: 0.0369 - acc: 0.9880 - val_loss: 0.0833 - val_acc: 0.9761\n",
      "Epoch 12/20\n",
      "48000/48000 [==============================] - 3s - loss: 0.0315 - acc: 0.9893 - val_loss: 0.0894 - val_acc: 0.9764\n",
      "Epoch 13/20\n",
      "48000/48000 [==============================] - 3s - loss: 0.0296 - acc: 0.9896 - val_loss: 0.0903 - val_acc: 0.9762\n",
      "Epoch 14/20\n",
      "48000/48000 [==============================] - 3s - loss: 0.0262 - acc: 0.9912 - val_loss: 0.0898 - val_acc: 0.9766\n",
      "Epoch 15/20\n",
      "48000/48000 [==============================] - 3s - loss: 0.0251 - acc: 0.9911 - val_loss: 0.0953 - val_acc: 0.9758\n",
      "Epoch 16/20\n",
      "48000/48000 [==============================] - 3s - loss: 0.0227 - acc: 0.9923 - val_loss: 0.0953 - val_acc: 0.9775\n",
      "Epoch 17/20\n",
      "48000/48000 [==============================] - 3s - loss: 0.0214 - acc: 0.9930 - val_loss: 0.0862 - val_acc: 0.9769\n",
      "Epoch 18/20\n",
      "48000/48000 [==============================] - 3s - loss: 0.0192 - acc: 0.9934 - val_loss: 0.0944 - val_acc: 0.9780\n",
      "Epoch 19/20\n",
      "48000/48000 [==============================] - 3s - loss: 0.0223 - acc: 0.9926 - val_loss: 0.0927 - val_acc: 0.9783\n",
      "Epoch 20/20\n",
      "48000/48000 [==============================] - 3s - loss: 0.0175 - acc: 0.9943 - val_loss: 0.0937 - val_acc: 0.9787\n"
     ]
    }
   ],
   "source": [
    "OPTIMIZER = Adam() #optimizer\n",
    "\n",
    "model.compile(loss='categorical_crossentropy', optimizer=OPTIMIZER, metrics=['accuracy'])\n",
    "history = model.fit(X_train, Y_train,batch_size=128, epochs=20,verbose=1, validation_split=0.2)"
   ]
  },
  {
   "cell_type": "code",
   "execution_count": 53,
   "metadata": {},
   "outputs": [
    {
     "name": "stdout",
     "output_type": "stream",
     "text": [
      " 9888/10000 [============================>.] - ETA: 0s\n",
      "Loss: 0.08, Accuracy: 97.81%\n"
     ]
    }
   ],
   "source": [
    "# evaluate the network\n",
    "loss, accuracy = model.evaluate(X_test, Y_test)\n",
    "print(\"\\nLoss: %.2f, Accuracy: %.2f%%\" % (loss, accuracy*100))\n",
    "accuracies.append(accuracy)"
   ]
  },
  {
   "cell_type": "markdown",
   "metadata": {},
   "source": [
    "#### Dropout = 0.2"
   ]
  },
  {
   "cell_type": "code",
   "execution_count": 39,
   "metadata": {},
   "outputs": [
    {
     "name": "stdout",
     "output_type": "stream",
     "text": [
      "_________________________________________________________________\n",
      "Layer (type)                 Output Shape              Param #   \n",
      "=================================================================\n",
      "dense_37 (Dense)             (None, 128)               100480    \n",
      "_________________________________________________________________\n",
      "activation_37 (Activation)   (None, 128)               0         \n",
      "_________________________________________________________________\n",
      "dropout_25 (Dropout)         (None, 128)               0         \n",
      "_________________________________________________________________\n",
      "dense_38 (Dense)             (None, 128)               16512     \n",
      "_________________________________________________________________\n",
      "activation_38 (Activation)   (None, 128)               0         \n",
      "_________________________________________________________________\n",
      "dropout_26 (Dropout)         (None, 128)               0         \n",
      "_________________________________________________________________\n",
      "dense_39 (Dense)             (None, 10)                1290      \n",
      "_________________________________________________________________\n",
      "activation_39 (Activation)   (None, 10)                0         \n",
      "=================================================================\n",
      "Total params: 118,282.0\n",
      "Trainable params: 118,282.0\n",
      "Non-trainable params: 0.0\n",
      "_________________________________________________________________\n",
      "Train on 48000 samples, validate on 12000 samples\n",
      "Epoch 1/20\n",
      "48000/48000 [==============================] - 4s - loss: 0.3059 - acc: 0.9058 - val_loss: 0.1345 - val_acc: 0.9593\n",
      "Epoch 2/20\n",
      "48000/48000 [==============================] - 3s - loss: 0.1494 - acc: 0.9543 - val_loss: 0.1060 - val_acc: 0.9688\n",
      "Epoch 3/20\n",
      "48000/48000 [==============================] - 3s - loss: 0.1180 - acc: 0.9641 - val_loss: 0.0977 - val_acc: 0.9711\n",
      "Epoch 4/20\n",
      "48000/48000 [==============================] - 3s - loss: 0.0978 - acc: 0.9701 - val_loss: 0.0895 - val_acc: 0.9741\n",
      "Epoch 5/20\n",
      "48000/48000 [==============================] - 3s - loss: 0.0870 - acc: 0.9726 - val_loss: 0.0875 - val_acc: 0.9726\n",
      "Epoch 6/20\n",
      "48000/48000 [==============================] - 3s - loss: 0.0770 - acc: 0.9760 - val_loss: 0.0887 - val_acc: 0.9735\n",
      "Epoch 7/20\n",
      "48000/48000 [==============================] - 3s - loss: 0.0689 - acc: 0.9782 - val_loss: 0.0879 - val_acc: 0.9722\n",
      "Epoch 8/20\n",
      "48000/48000 [==============================] - 3s - loss: 0.0642 - acc: 0.9790 - val_loss: 0.0841 - val_acc: 0.9759\n",
      "Epoch 9/20\n",
      "48000/48000 [==============================] - 3s - loss: 0.0584 - acc: 0.9818 - val_loss: 0.0825 - val_acc: 0.9758\n",
      "Epoch 10/20\n",
      "48000/48000 [==============================] - 3s - loss: 0.0563 - acc: 0.9821 - val_loss: 0.0808 - val_acc: 0.9767\n",
      "Epoch 11/20\n",
      "48000/48000 [==============================] - 3s - loss: 0.0519 - acc: 0.9831 - val_loss: 0.0813 - val_acc: 0.9766\n",
      "Epoch 12/20\n",
      "48000/48000 [==============================] - 3s - loss: 0.0477 - acc: 0.9840 - val_loss: 0.0843 - val_acc: 0.9760\n",
      "Epoch 13/20\n",
      "48000/48000 [==============================] - 3s - loss: 0.0458 - acc: 0.9853 - val_loss: 0.0856 - val_acc: 0.9775\n",
      "Epoch 14/20\n",
      "48000/48000 [==============================] - 3s - loss: 0.0438 - acc: 0.9862 - val_loss: 0.0848 - val_acc: 0.9765\n",
      "Epoch 15/20\n",
      "48000/48000 [==============================] - 3s - loss: 0.0387 - acc: 0.9875 - val_loss: 0.0833 - val_acc: 0.9770\n",
      "Epoch 16/20\n",
      "48000/48000 [==============================] - 3s - loss: 0.0372 - acc: 0.9878 - val_loss: 0.0807 - val_acc: 0.9788\n",
      "Epoch 17/20\n",
      "48000/48000 [==============================] - 3s - loss: 0.0357 - acc: 0.9880 - val_loss: 0.0878 - val_acc: 0.9784\n",
      "Epoch 18/20\n",
      "48000/48000 [==============================] - 3s - loss: 0.0356 - acc: 0.9882 - val_loss: 0.0846 - val_acc: 0.9784\n",
      "Epoch 19/20\n",
      "48000/48000 [==============================] - 3s - loss: 0.0360 - acc: 0.9881 - val_loss: 0.0857 - val_acc: 0.9780\n",
      "Epoch 20/20\n",
      "48000/48000 [==============================] - 3s - loss: 0.0318 - acc: 0.9894 - val_loss: 0.0925 - val_acc: 0.9760\n"
     ]
    }
   ],
   "source": [
    "model2 = Sequential()\n",
    "model2.add(Dense(128, input_shape=(784,)))\n",
    "model2.add(Activation('relu'))\n",
    "model2.add(Dropout(0.2))\n",
    "model2.add(Dense(128))\n",
    "model2.add(Activation('relu'))\n",
    "model2.add(Dropout(0.2))\n",
    "model2.add(Dense(10))\n",
    "model2.add(Activation('softmax'))\n",
    "model2.summary()\n",
    "\n",
    "model2.compile(loss='categorical_crossentropy', optimizer=OPTIMIZER, metrics=['accuracy'])\n",
    "history2 = model2.fit(X_train, Y_train,batch_size=128, epochs=20,verbose=1, validation_split=0.2)"
   ]
  },
  {
   "cell_type": "code",
   "execution_count": 54,
   "metadata": {},
   "outputs": [
    {
     "name": "stdout",
     "output_type": "stream",
     "text": [
      "10000/10000 [==============================] - 0s     \n",
      "\n",
      "Loss: 0.09, Accuracy: 97.72%\n"
     ]
    }
   ],
   "source": [
    "# evaluate the network\n",
    "loss, accuracy = model2.evaluate(X_test, Y_test)\n",
    "print(\"\\nLoss: %.2f, Accuracy: %.2f%%\" % (loss, accuracy*100))\n",
    "accuracies.append(accuracy)"
   ]
  },
  {
   "cell_type": "markdown",
   "metadata": {},
   "source": [
    "#### Dropout = 0.3"
   ]
  },
  {
   "cell_type": "code",
   "execution_count": 41,
   "metadata": {},
   "outputs": [
    {
     "name": "stdout",
     "output_type": "stream",
     "text": [
      "_________________________________________________________________\n",
      "Layer (type)                 Output Shape              Param #   \n",
      "=================================================================\n",
      "dense_40 (Dense)             (None, 128)               100480    \n",
      "_________________________________________________________________\n",
      "activation_40 (Activation)   (None, 128)               0         \n",
      "_________________________________________________________________\n",
      "dropout_27 (Dropout)         (None, 128)               0         \n",
      "_________________________________________________________________\n",
      "dense_41 (Dense)             (None, 128)               16512     \n",
      "_________________________________________________________________\n",
      "activation_41 (Activation)   (None, 128)               0         \n",
      "_________________________________________________________________\n",
      "dropout_28 (Dropout)         (None, 128)               0         \n",
      "_________________________________________________________________\n",
      "dense_42 (Dense)             (None, 10)                1290      \n",
      "_________________________________________________________________\n",
      "activation_42 (Activation)   (None, 10)                0         \n",
      "=================================================================\n",
      "Total params: 118,282.0\n",
      "Trainable params: 118,282.0\n",
      "Non-trainable params: 0.0\n",
      "_________________________________________________________________\n",
      "Train on 48000 samples, validate on 12000 samples\n",
      "Epoch 1/20\n",
      "48000/48000 [==============================] - 4s - loss: 0.3573 - acc: 0.8896 - val_loss: 0.1514 - val_acc: 0.9559\n",
      "Epoch 2/20\n",
      "48000/48000 [==============================] - 3s - loss: 0.1921 - acc: 0.9434 - val_loss: 0.1178 - val_acc: 0.9657\n",
      "Epoch 3/20\n",
      "48000/48000 [==============================] - 3s - loss: 0.1526 - acc: 0.9543 - val_loss: 0.1013 - val_acc: 0.9696\n",
      "Epoch 4/20\n",
      "48000/48000 [==============================] - 3s - loss: 0.1325 - acc: 0.9601 - val_loss: 0.0961 - val_acc: 0.9720\n",
      "Epoch 5/20\n",
      "48000/48000 [==============================] - 3s - loss: 0.1222 - acc: 0.9629 - val_loss: 0.0943 - val_acc: 0.9722\n",
      "Epoch 6/20\n",
      "48000/48000 [==============================] - 3s - loss: 0.1096 - acc: 0.9665 - val_loss: 0.0871 - val_acc: 0.9750\n",
      "Epoch 7/20\n",
      "48000/48000 [==============================] - 3s - loss: 0.1033 - acc: 0.9682 - val_loss: 0.0874 - val_acc: 0.9753\n",
      "Epoch 8/20\n",
      "48000/48000 [==============================] - 3s - loss: 0.0953 - acc: 0.9692 - val_loss: 0.0875 - val_acc: 0.9745\n",
      "Epoch 9/20\n",
      "48000/48000 [==============================] - 3s - loss: 0.0873 - acc: 0.9735 - val_loss: 0.0858 - val_acc: 0.9762\n",
      "Epoch 10/20\n",
      "48000/48000 [==============================] - 3s - loss: 0.0846 - acc: 0.9726 - val_loss: 0.0884 - val_acc: 0.9748\n",
      "Epoch 11/20\n",
      "48000/48000 [==============================] - 3s - loss: 0.0790 - acc: 0.9748 - val_loss: 0.0847 - val_acc: 0.9757\n",
      "Epoch 12/20\n",
      "48000/48000 [==============================] - 3s - loss: 0.0792 - acc: 0.9748 - val_loss: 0.0835 - val_acc: 0.9777\n",
      "Epoch 13/20\n",
      "48000/48000 [==============================] - 3s - loss: 0.0744 - acc: 0.9765 - val_loss: 0.0851 - val_acc: 0.9769\n",
      "Epoch 14/20\n",
      "48000/48000 [==============================] - 3s - loss: 0.0707 - acc: 0.9771 - val_loss: 0.0837 - val_acc: 0.9779\n",
      "Epoch 15/20\n",
      "48000/48000 [==============================] - 3s - loss: 0.0682 - acc: 0.9789 - val_loss: 0.0836 - val_acc: 0.9767\n",
      "Epoch 16/20\n",
      "48000/48000 [==============================] - 3s - loss: 0.0653 - acc: 0.9785 - val_loss: 0.0842 - val_acc: 0.9776\n",
      "Epoch 17/20\n",
      "48000/48000 [==============================] - 3s - loss: 0.0641 - acc: 0.9793 - val_loss: 0.0877 - val_acc: 0.9774\n",
      "Epoch 18/20\n",
      "48000/48000 [==============================] - 3s - loss: 0.0608 - acc: 0.9798 - val_loss: 0.0871 - val_acc: 0.9770\n",
      "Epoch 19/20\n",
      "48000/48000 [==============================] - 3s - loss: 0.0588 - acc: 0.9806 - val_loss: 0.0855 - val_acc: 0.9776\n",
      "Epoch 20/20\n",
      "48000/48000 [==============================] - 3s - loss: 0.0573 - acc: 0.9821 - val_loss: 0.0910 - val_acc: 0.9773\n"
     ]
    }
   ],
   "source": [
    "model3 = Sequential()\n",
    "model3.add(Dense(128, input_shape=(784,)))\n",
    "model3.add(Activation('relu'))\n",
    "model3.add(Dropout(0.3))\n",
    "model3.add(Dense(128))\n",
    "model3.add(Activation('relu'))\n",
    "model3.add(Dropout(0.3))\n",
    "model3.add(Dense(10))\n",
    "model3.add(Activation('softmax'))\n",
    "model3.summary()\n",
    "\n",
    "model3.compile(loss='categorical_crossentropy', optimizer=OPTIMIZER, metrics=['accuracy'])\n",
    "history3 = model3.fit(X_train, Y_train,batch_size=128, epochs=20,verbose=1, validation_split=0.2)"
   ]
  },
  {
   "cell_type": "code",
   "execution_count": 55,
   "metadata": {},
   "outputs": [
    {
     "name": "stdout",
     "output_type": "stream",
     "text": [
      " 9312/10000 [==========================>...] - ETA: 0s\n",
      "Loss: 0.08, Accuracy: 97.81%\n"
     ]
    }
   ],
   "source": [
    "# evaluate the network\n",
    "loss, accuracy = model3.evaluate(X_test, Y_test)\n",
    "print(\"\\nLoss: %.2f, Accuracy: %.2f%%\" % (loss, accuracy*100))\n",
    "accuracies.append(accuracy)"
   ]
  },
  {
   "cell_type": "markdown",
   "metadata": {},
   "source": [
    "#### Dropout = 0.4"
   ]
  },
  {
   "cell_type": "code",
   "execution_count": 43,
   "metadata": {},
   "outputs": [
    {
     "name": "stdout",
     "output_type": "stream",
     "text": [
      "_________________________________________________________________\n",
      "Layer (type)                 Output Shape              Param #   \n",
      "=================================================================\n",
      "dense_43 (Dense)             (None, 128)               100480    \n",
      "_________________________________________________________________\n",
      "activation_43 (Activation)   (None, 128)               0         \n",
      "_________________________________________________________________\n",
      "dropout_29 (Dropout)         (None, 128)               0         \n",
      "_________________________________________________________________\n",
      "dense_44 (Dense)             (None, 128)               16512     \n",
      "_________________________________________________________________\n",
      "activation_44 (Activation)   (None, 128)               0         \n",
      "_________________________________________________________________\n",
      "dropout_30 (Dropout)         (None, 128)               0         \n",
      "_________________________________________________________________\n",
      "dense_45 (Dense)             (None, 10)                1290      \n",
      "_________________________________________________________________\n",
      "activation_45 (Activation)   (None, 10)                0         \n",
      "=================================================================\n",
      "Total params: 118,282.0\n",
      "Trainable params: 118,282.0\n",
      "Non-trainable params: 0.0\n",
      "_________________________________________________________________\n",
      "Train on 48000 samples, validate on 12000 samples\n",
      "Epoch 1/20\n",
      "48000/48000 [==============================] - 4s - loss: 0.4121 - acc: 0.8748 - val_loss: 0.1575 - val_acc: 0.9535\n",
      "Epoch 2/20\n",
      "48000/48000 [==============================] - 3s - loss: 0.2355 - acc: 0.9319 - val_loss: 0.1306 - val_acc: 0.9635\n",
      "Epoch 3/20\n",
      "48000/48000 [==============================] - 3s - loss: 0.1965 - acc: 0.9426 - val_loss: 0.1197 - val_acc: 0.9665\n",
      "Epoch 4/20\n",
      "48000/48000 [==============================] - 3s - loss: 0.1742 - acc: 0.9491 - val_loss: 0.1084 - val_acc: 0.9689\n",
      "Epoch 5/20\n",
      "48000/48000 [==============================] - 3s - loss: 0.1603 - acc: 0.9520 - val_loss: 0.1107 - val_acc: 0.9684\n",
      "Epoch 6/20\n",
      "48000/48000 [==============================] - 3s - loss: 0.1457 - acc: 0.9562 - val_loss: 0.1023 - val_acc: 0.9700\n",
      "Epoch 7/20\n",
      "48000/48000 [==============================] - 3s - loss: 0.1399 - acc: 0.9577 - val_loss: 0.0981 - val_acc: 0.9718\n",
      "Epoch 8/20\n",
      "48000/48000 [==============================] - 3s - loss: 0.1306 - acc: 0.9598 - val_loss: 0.0981 - val_acc: 0.9714\n",
      "Epoch 9/20\n",
      "48000/48000 [==============================] - 3s - loss: 0.1254 - acc: 0.9614 - val_loss: 0.0974 - val_acc: 0.9717\n",
      "Epoch 10/20\n",
      "48000/48000 [==============================] - 3s - loss: 0.1166 - acc: 0.9644 - val_loss: 0.0918 - val_acc: 0.9736\n",
      "Epoch 11/20\n",
      "48000/48000 [==============================] - 3s - loss: 0.1139 - acc: 0.9657 - val_loss: 0.0952 - val_acc: 0.9730\n",
      "Epoch 12/20\n",
      "48000/48000 [==============================] - 3s - loss: 0.1080 - acc: 0.9666 - val_loss: 0.0938 - val_acc: 0.9738\n",
      "Epoch 13/20\n",
      "48000/48000 [==============================] - 3s - loss: 0.1056 - acc: 0.9667 - val_loss: 0.0878 - val_acc: 0.9758\n",
      "Epoch 14/20\n",
      "48000/48000 [==============================] - 3s - loss: 0.1032 - acc: 0.9682 - val_loss: 0.0901 - val_acc: 0.9759\n",
      "Epoch 15/20\n",
      "48000/48000 [==============================] - 3s - loss: 0.0994 - acc: 0.9685 - val_loss: 0.0900 - val_acc: 0.9753\n",
      "Epoch 16/20\n",
      "48000/48000 [==============================] - 3s - loss: 0.0956 - acc: 0.9707 - val_loss: 0.0872 - val_acc: 0.9763\n",
      "Epoch 17/20\n",
      "48000/48000 [==============================] - 3s - loss: 0.0953 - acc: 0.9695 - val_loss: 0.0871 - val_acc: 0.9755\n",
      "Epoch 18/20\n",
      "48000/48000 [==============================] - 3s - loss: 0.0895 - acc: 0.9723 - val_loss: 0.0915 - val_acc: 0.9751\n",
      "Epoch 19/20\n",
      "48000/48000 [==============================] - 3s - loss: 0.0897 - acc: 0.9717 - val_loss: 0.0867 - val_acc: 0.9762\n",
      "Epoch 20/20\n",
      "48000/48000 [==============================] - 3s - loss: 0.0862 - acc: 0.9722 - val_loss: 0.0968 - val_acc: 0.9735\n"
     ]
    }
   ],
   "source": [
    "model4 = Sequential()\n",
    "model4.add(Dense(128, input_shape=(784,)))\n",
    "model4.add(Activation('relu'))\n",
    "model4.add(Dropout(0.4))\n",
    "model4.add(Dense(128))\n",
    "model4.add(Activation('relu'))\n",
    "model4.add(Dropout(0.4))\n",
    "model4.add(Dense(10))\n",
    "model4.add(Activation('softmax'))\n",
    "model4.summary()\n",
    "\n",
    "model4.compile(loss='categorical_crossentropy', optimizer=OPTIMIZER, metrics=['accuracy'])\n",
    "history4 = model4.fit(X_train, Y_train,batch_size=128, epochs=20,verbose=1, validation_split=0.2)"
   ]
  },
  {
   "cell_type": "code",
   "execution_count": 56,
   "metadata": {},
   "outputs": [
    {
     "name": "stdout",
     "output_type": "stream",
     "text": [
      " 9408/10000 [===========================>..] - ETA: 0s\n",
      "Loss: 0.09, Accuracy: 97.52%\n"
     ]
    }
   ],
   "source": [
    "# evaluate the network\n",
    "loss, accuracy = model4.evaluate(X_test, Y_test)\n",
    "print(\"\\nLoss: %.2f, Accuracy: %.2f%%\" % (loss, accuracy*100))\n",
    "accuracies.append(accuracy)"
   ]
  },
  {
   "cell_type": "markdown",
   "metadata": {},
   "source": [
    "#### Dropout = 0.5"
   ]
  },
  {
   "cell_type": "code",
   "execution_count": 45,
   "metadata": {},
   "outputs": [
    {
     "name": "stdout",
     "output_type": "stream",
     "text": [
      "_________________________________________________________________\n",
      "Layer (type)                 Output Shape              Param #   \n",
      "=================================================================\n",
      "dense_46 (Dense)             (None, 128)               100480    \n",
      "_________________________________________________________________\n",
      "activation_46 (Activation)   (None, 128)               0         \n",
      "_________________________________________________________________\n",
      "dropout_31 (Dropout)         (None, 128)               0         \n",
      "_________________________________________________________________\n",
      "dense_47 (Dense)             (None, 128)               16512     \n",
      "_________________________________________________________________\n",
      "activation_47 (Activation)   (None, 128)               0         \n",
      "_________________________________________________________________\n",
      "dropout_32 (Dropout)         (None, 128)               0         \n",
      "_________________________________________________________________\n",
      "dense_48 (Dense)             (None, 10)                1290      \n",
      "_________________________________________________________________\n",
      "activation_48 (Activation)   (None, 10)                0         \n",
      "=================================================================\n",
      "Total params: 118,282.0\n",
      "Trainable params: 118,282.0\n",
      "Non-trainable params: 0.0\n",
      "_________________________________________________________________\n",
      "Train on 48000 samples, validate on 12000 samples\n",
      "Epoch 1/20\n",
      "48000/48000 [==============================] - 4s - loss: 0.5201 - acc: 0.8416 - val_loss: 0.1900 - val_acc: 0.9463\n",
      "Epoch 2/20\n",
      "48000/48000 [==============================] - 3s - loss: 0.3115 - acc: 0.9088 - val_loss: 0.1605 - val_acc: 0.9535\n",
      "Epoch 3/20\n",
      "48000/48000 [==============================] - 3s - loss: 0.2701 - acc: 0.9217 - val_loss: 0.1434 - val_acc: 0.9587\n",
      "Epoch 4/20\n",
      "48000/48000 [==============================] - 3s - loss: 0.2377 - acc: 0.9301 - val_loss: 0.1309 - val_acc: 0.9633\n",
      "Epoch 5/20\n",
      "48000/48000 [==============================] - 3s - loss: 0.2203 - acc: 0.9347 - val_loss: 0.1268 - val_acc: 0.9625\n",
      "Epoch 6/20\n",
      "48000/48000 [==============================] - 3s - loss: 0.2086 - acc: 0.9397 - val_loss: 0.1232 - val_acc: 0.9663\n",
      "Epoch 7/20\n",
      "48000/48000 [==============================] - 3s - loss: 0.1987 - acc: 0.9408 - val_loss: 0.1179 - val_acc: 0.9664\n",
      "Epoch 8/20\n",
      "48000/48000 [==============================] - 3s - loss: 0.1879 - acc: 0.9442 - val_loss: 0.1113 - val_acc: 0.9684\n",
      "Epoch 9/20\n",
      "48000/48000 [==============================] - 3s - loss: 0.1809 - acc: 0.9459 - val_loss: 0.1110 - val_acc: 0.9677\n",
      "Epoch 10/20\n",
      "48000/48000 [==============================] - 3s - loss: 0.1736 - acc: 0.9484 - val_loss: 0.1095 - val_acc: 0.9689\n",
      "Epoch 11/20\n",
      "48000/48000 [==============================] - 3s - loss: 0.1705 - acc: 0.9494 - val_loss: 0.1089 - val_acc: 0.9688\n",
      "Epoch 12/20\n",
      "48000/48000 [==============================] - 3s - loss: 0.1657 - acc: 0.9508 - val_loss: 0.1053 - val_acc: 0.9696\n",
      "Epoch 13/20\n",
      "48000/48000 [==============================] - 3s - loss: 0.1588 - acc: 0.9520 - val_loss: 0.1019 - val_acc: 0.9703\n",
      "Epoch 14/20\n",
      "48000/48000 [==============================] - 3s - loss: 0.1540 - acc: 0.9545 - val_loss: 0.1076 - val_acc: 0.9688\n",
      "Epoch 15/20\n",
      "48000/48000 [==============================] - 3s - loss: 0.1499 - acc: 0.9540 - val_loss: 0.1043 - val_acc: 0.9703\n",
      "Epoch 16/20\n",
      "48000/48000 [==============================] - 3s - loss: 0.1459 - acc: 0.9561 - val_loss: 0.1018 - val_acc: 0.9704\n",
      "Epoch 17/20\n",
      "48000/48000 [==============================] - 3s - loss: 0.1445 - acc: 0.9567 - val_loss: 0.0998 - val_acc: 0.9724\n",
      "Epoch 18/20\n",
      "48000/48000 [==============================] - 3s - loss: 0.1416 - acc: 0.9570 - val_loss: 0.1030 - val_acc: 0.9712\n",
      "Epoch 19/20\n",
      "48000/48000 [==============================] - 3s - loss: 0.1360 - acc: 0.9595 - val_loss: 0.1022 - val_acc: 0.9707\n",
      "Epoch 20/20\n",
      "48000/48000 [==============================] - 3s - loss: 0.1363 - acc: 0.9578 - val_loss: 0.1018 - val_acc: 0.9721\n"
     ]
    }
   ],
   "source": [
    "model5 = Sequential()\n",
    "model5.add(Dense(128, input_shape=(784,)))\n",
    "model5.add(Activation('relu'))\n",
    "model5.add(Dropout(0.5))\n",
    "model5.add(Dense(128))\n",
    "model5.add(Activation('relu'))\n",
    "model5.add(Dropout(0.5))\n",
    "model5.add(Dense(10))\n",
    "model5.add(Activation('softmax'))\n",
    "model5.summary()\n",
    "\n",
    "model5.compile(loss='categorical_crossentropy', optimizer=OPTIMIZER, metrics=['accuracy'])\n",
    "history5 = model5.fit(X_train, Y_train,batch_size=128, epochs=20,verbose=1, validation_split=0.2)"
   ]
  },
  {
   "cell_type": "code",
   "execution_count": 57,
   "metadata": {},
   "outputs": [
    {
     "name": "stdout",
     "output_type": "stream",
     "text": [
      " 9056/10000 [==========================>...] - ETA: 0s\n",
      "Loss: 0.09, Accuracy: 97.12%\n"
     ]
    }
   ],
   "source": [
    "# evaluate the network\n",
    "loss, accuracy = model5.evaluate(X_test, Y_test)\n",
    "print(\"\\nLoss: %.2f, Accuracy: %.2f%%\" % (loss, accuracy*100))\n",
    "accuracies.append(accuracy)"
   ]
  },
  {
   "cell_type": "markdown",
   "metadata": {},
   "source": [
    "#### Dropout = 0.6"
   ]
  },
  {
   "cell_type": "code",
   "execution_count": 47,
   "metadata": {},
   "outputs": [
    {
     "name": "stdout",
     "output_type": "stream",
     "text": [
      "_________________________________________________________________\n",
      "Layer (type)                 Output Shape              Param #   \n",
      "=================================================================\n",
      "dense_49 (Dense)             (None, 128)               100480    \n",
      "_________________________________________________________________\n",
      "activation_49 (Activation)   (None, 128)               0         \n",
      "_________________________________________________________________\n",
      "dropout_33 (Dropout)         (None, 128)               0         \n",
      "_________________________________________________________________\n",
      "dense_50 (Dense)             (None, 128)               16512     \n",
      "_________________________________________________________________\n",
      "activation_50 (Activation)   (None, 128)               0         \n",
      "_________________________________________________________________\n",
      "dropout_34 (Dropout)         (None, 128)               0         \n",
      "_________________________________________________________________\n",
      "dense_51 (Dense)             (None, 10)                1290      \n",
      "_________________________________________________________________\n",
      "activation_51 (Activation)   (None, 10)                0         \n",
      "=================================================================\n",
      "Total params: 118,282.0\n",
      "Trainable params: 118,282.0\n",
      "Non-trainable params: 0.0\n",
      "_________________________________________________________________\n",
      "Train on 48000 samples, validate on 12000 samples\n",
      "Epoch 1/20\n",
      "48000/48000 [==============================] - 4s - loss: 0.6520 - acc: 0.7935 - val_loss: 0.2283 - val_acc: 0.9361\n",
      "Epoch 2/20\n",
      "48000/48000 [==============================] - 3s - loss: 0.4108 - acc: 0.8816 - val_loss: 0.1897 - val_acc: 0.9465\n",
      "Epoch 3/20\n",
      "48000/48000 [==============================] - 3s - loss: 0.3629 - acc: 0.8937 - val_loss: 0.1705 - val_acc: 0.9535\n",
      "Epoch 4/20\n",
      "48000/48000 [==============================] - 3s - loss: 0.3287 - acc: 0.9054 - val_loss: 0.1590 - val_acc: 0.9581\n",
      "Epoch 5/20\n",
      "48000/48000 [==============================] - 3s - loss: 0.3071 - acc: 0.9106 - val_loss: 0.1568 - val_acc: 0.9583\n",
      "Epoch 6/20\n",
      "48000/48000 [==============================] - 3s - loss: 0.2911 - acc: 0.9150 - val_loss: 0.1528 - val_acc: 0.9578\n",
      "Epoch 7/20\n",
      "48000/48000 [==============================] - 3s - loss: 0.2848 - acc: 0.9180 - val_loss: 0.1414 - val_acc: 0.9601\n",
      "Epoch 8/20\n",
      "48000/48000 [==============================] - 3s - loss: 0.2696 - acc: 0.9220 - val_loss: 0.1365 - val_acc: 0.9627\n",
      "Epoch 9/20\n",
      "48000/48000 [==============================] - 3s - loss: 0.2677 - acc: 0.9225 - val_loss: 0.1295 - val_acc: 0.9644\n",
      "Epoch 10/20\n",
      "48000/48000 [==============================] - 3s - loss: 0.2598 - acc: 0.9241 - val_loss: 0.1304 - val_acc: 0.9648\n",
      "Epoch 11/20\n",
      "48000/48000 [==============================] - 3s - loss: 0.2561 - acc: 0.9264 - val_loss: 0.1270 - val_acc: 0.9637\n",
      "Epoch 12/20\n",
      "48000/48000 [==============================] - 3s - loss: 0.2443 - acc: 0.9291 - val_loss: 0.1270 - val_acc: 0.9638\n",
      "Epoch 13/20\n",
      "48000/48000 [==============================] - 3s - loss: 0.2442 - acc: 0.9285 - val_loss: 0.1263 - val_acc: 0.9645\n",
      "Epoch 14/20\n",
      "48000/48000 [==============================] - 3s - loss: 0.2371 - acc: 0.9312 - val_loss: 0.1236 - val_acc: 0.9646\n",
      "Epoch 15/20\n",
      "48000/48000 [==============================] - 3s - loss: 0.2284 - acc: 0.9336 - val_loss: 0.1222 - val_acc: 0.9642\n",
      "Epoch 16/20\n",
      "48000/48000 [==============================] - 3s - loss: 0.2239 - acc: 0.9360 - val_loss: 0.1189 - val_acc: 0.9659\n",
      "Epoch 17/20\n",
      "48000/48000 [==============================] - 3s - loss: 0.2229 - acc: 0.9337 - val_loss: 0.1160 - val_acc: 0.9669\n",
      "Epoch 18/20\n",
      "48000/48000 [==============================] - 3s - loss: 0.2221 - acc: 0.9346 - val_loss: 0.1156 - val_acc: 0.9687\n",
      "Epoch 19/20\n",
      "48000/48000 [==============================] - 3s - loss: 0.2165 - acc: 0.9376 - val_loss: 0.1203 - val_acc: 0.9662\n",
      "Epoch 20/20\n",
      "48000/48000 [==============================] - 3s - loss: 0.2163 - acc: 0.9361 - val_loss: 0.1176 - val_acc: 0.9658\n"
     ]
    }
   ],
   "source": [
    "model6 = Sequential()\n",
    "model6.add(Dense(128, input_shape=(784,)))\n",
    "model6.add(Activation('relu'))\n",
    "model6.add(Dropout(0.6))\n",
    "model6.add(Dense(128))\n",
    "model6.add(Activation('relu'))\n",
    "model6.add(Dropout(0.6))\n",
    "model6.add(Dense(10))\n",
    "model6.add(Activation('softmax'))\n",
    "model6.summary()\n",
    "\n",
    "model6.compile(loss='categorical_crossentropy', optimizer=OPTIMIZER, metrics=['accuracy'])\n",
    "history6 = model6.fit(X_train, Y_train,batch_size=128, epochs=20,verbose=1, validation_split=0.2)"
   ]
  },
  {
   "cell_type": "code",
   "execution_count": 58,
   "metadata": {},
   "outputs": [
    {
     "name": "stdout",
     "output_type": "stream",
     "text": [
      " 9216/10000 [==========================>...] - ETA: 0s\n",
      "Loss: 0.12, Accuracy: 96.65%\n"
     ]
    }
   ],
   "source": [
    "# evaluate the network\n",
    "loss, accuracy = model6.evaluate(X_test, Y_test)\n",
    "print(\"\\nLoss: %.2f, Accuracy: %.2f%%\" % (loss, accuracy*100))\n",
    "accuracies.append(accuracy)"
   ]
  },
  {
   "cell_type": "code",
   "execution_count": 59,
   "metadata": {},
   "outputs": [
    {
     "data": {
      "text/plain": [
       "[0.97809999999999997,\n",
       " 0.97719999999999996,\n",
       " 0.97809999999999997,\n",
       " 0.97519999999999996,\n",
       " 0.97119999999999995,\n",
       " 0.96650000000000003]"
      ]
     },
     "execution_count": 59,
     "metadata": {},
     "output_type": "execute_result"
    }
   ],
   "source": [
    "accuracies"
   ]
  },
  {
   "cell_type": "code",
   "execution_count": 60,
   "metadata": {
    "collapsed": true
   },
   "outputs": [],
   "source": [
    "dropouts=[0.1,0.2,0.3,0.4,0.5,0.6]"
   ]
  },
  {
   "cell_type": "code",
   "execution_count": 61,
   "metadata": {},
   "outputs": [
    {
     "data": {
      "image/png": "[encoded data removed]",
      "text/plain": [
       "<matplotlib.figure.Figure at 0x4eedc496d8>"
      ]
     },
     "metadata": {},
     "output_type": "display_data"
    }
   ],
   "source": [
    "# summarize history for accuracy\n",
    "plt.plot(dropouts,accuracies)\n",
    "\n",
    "plt.title('dropouts accuracy')\n",
    "plt.ylabel('accuracy')\n",
    "plt.xlabel('dropout')\n",
    "plt.show()"
   ]
  },
  {
   "cell_type": "code",
   "execution_count": null,
   "metadata": {
    "collapsed": true
   },
   "outputs": [],
   "source": []
  }
 ],
 "metadata": {
  "kernelspec": {
   "display_name": "Python 3",
   "language": "python",
   "name": "python3"
  },
  "language_info": {
   "codemirror_mode": {
    "name": "ipython",
    "version": 3
   },
   "file_extension": ".py",
   "mimetype": "text/x-python",
   "name": "python",
   "nbconvert_exporter": "python",
   "pygments_lexer": "ipython3",
   "version": "3.6.1"
  }
 },
 "nbformat": 4,
 "nbformat_minor": 2
}

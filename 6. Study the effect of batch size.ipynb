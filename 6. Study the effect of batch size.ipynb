{
 "cells": [
  {
   "cell_type": "markdown",
   "metadata": {},
   "source": [
    "# Study the effect of batch size"
   ]
  },
  {
   "cell_type": "markdown",
   "metadata": {},
   "source": [
    "## Summary"
   ]
  },
  {
   "cell_type": "markdown",
   "metadata": {},
   "source": [
    "In this notebook, I have studied the effect of different batch size. I noticed that the increasing the batch size improves the accuracy but increasing too much also will also degrade the performance."
   ]
  },
  {
   "cell_type": "code",
   "execution_count": 1,
   "metadata": {},
   "outputs": [
    {
     "name": "stderr",
     "output_type": "stream",
     "text": [
      "Using TensorFlow backend.\n"
     ]
    }
   ],
   "source": [
    "import keras"
   ]
  },
  {
   "cell_type": "code",
   "execution_count": 2,
   "metadata": {
    "collapsed": true
   },
   "outputs": [],
   "source": [
    "import numpy as np\n",
    "import matplotlib.pyplot as plt"
   ]
  },
  {
   "cell_type": "code",
   "execution_count": 3,
   "metadata": {
    "collapsed": true
   },
   "outputs": [],
   "source": [
    "from keras.datasets import mnist\n",
    "from keras.models import Sequential\n",
    "from keras.layers.core import Dense, Dropout, Activation\n",
    "from keras.optimizers import Adam\n",
    "from keras.utils import np_utils\n",
    "np.random.seed(1671)"
   ]
  },
  {
   "cell_type": "code",
   "execution_count": 4,
   "metadata": {},
   "outputs": [
    {
     "name": "stdout",
     "output_type": "stream",
     "text": [
      "60000 train samples\n",
      "10000 test samples\n"
     ]
    }
   ],
   "source": [
    "(X_train, y_train), (X_test, y_test) = mnist.load_data()\n",
    "\n",
    "X_train = X_train.reshape(60000, 784)\n",
    "X_test = X_test.reshape(10000, 784)\n",
    "X_train = X_train.astype('float32')\n",
    "X_test = X_test.astype('float32')\n",
    "# normalize\n",
    "X_train /= 255\n",
    "X_test /= 255\n",
    "print(X_train.shape[0], 'train samples')\n",
    "print(X_test.shape[0], 'test samples')"
   ]
  },
  {
   "cell_type": "code",
   "execution_count": 5,
   "metadata": {
    "collapsed": true
   },
   "outputs": [],
   "source": [
    "# convert class vectors to binary class matrices\n",
    "Y_train = np_utils.to_categorical(y_train, 10)\n",
    "Y_test = np_utils.to_categorical(y_test, 10)"
   ]
  },
  {
   "cell_type": "code",
   "execution_count": 8,
   "metadata": {
    "collapsed": true
   },
   "outputs": [],
   "source": [
    "accuracies=[]"
   ]
  },
  {
   "cell_type": "markdown",
   "metadata": {},
   "source": [
    "#### Batch size = 32"
   ]
  },
  {
   "cell_type": "code",
   "execution_count": 6,
   "metadata": {},
   "outputs": [
    {
     "name": "stdout",
     "output_type": "stream",
     "text": [
      "_________________________________________________________________\n",
      "Layer (type)                 Output Shape              Param #   \n",
      "=================================================================\n",
      "dense_1 (Dense)              (None, 64)                50240     \n",
      "_________________________________________________________________\n",
      "activation_1 (Activation)    (None, 64)                0         \n",
      "_________________________________________________________________\n",
      "dropout_1 (Dropout)          (None, 64)                0         \n",
      "_________________________________________________________________\n",
      "dense_2 (Dense)              (None, 64)                4160      \n",
      "_________________________________________________________________\n",
      "activation_2 (Activation)    (None, 64)                0         \n",
      "_________________________________________________________________\n",
      "dropout_2 (Dropout)          (None, 64)                0         \n",
      "_________________________________________________________________\n",
      "dense_3 (Dense)              (None, 10)                650       \n",
      "_________________________________________________________________\n",
      "activation_3 (Activation)    (None, 10)                0         \n",
      "=================================================================\n",
      "Total params: 55,050.0\n",
      "Trainable params: 55,050.0\n",
      "Non-trainable params: 0.0\n",
      "_________________________________________________________________\n",
      "Train on 48000 samples, validate on 12000 samples\n",
      "Epoch 1/20\n",
      "48000/48000 [==============================] - 6s - loss: 0.5269 - acc: 0.8395 - val_loss: 0.1909 - val_acc: 0.9453\n",
      "Epoch 2/20\n",
      "48000/48000 [==============================] - 5s - loss: 0.2794 - acc: 0.9184 - val_loss: 0.1434 - val_acc: 0.9584\n",
      "Epoch 3/20\n",
      "48000/48000 [==============================] - 5s - loss: 0.2318 - acc: 0.9325 - val_loss: 0.1475 - val_acc: 0.9557\n",
      "Epoch 4/20\n",
      "48000/48000 [==============================] - 5s - loss: 0.2058 - acc: 0.9404 - val_loss: 0.1234 - val_acc: 0.9624\n",
      "Epoch 5/20\n",
      "48000/48000 [==============================] - 5s - loss: 0.1837 - acc: 0.9461 - val_loss: 0.1148 - val_acc: 0.9653\n",
      "Epoch 6/20\n",
      "48000/48000 [==============================] - 5s - loss: 0.1701 - acc: 0.9478 - val_loss: 0.1166 - val_acc: 0.9647\n",
      "Epoch 7/20\n",
      "48000/48000 [==============================] - 5s - loss: 0.1611 - acc: 0.9523 - val_loss: 0.1089 - val_acc: 0.9688\n",
      "Epoch 8/20\n",
      "48000/48000 [==============================] - 5s - loss: 0.1550 - acc: 0.9544 - val_loss: 0.1047 - val_acc: 0.9684\n",
      "Epoch 9/20\n",
      "48000/48000 [==============================] - 5s - loss: 0.1476 - acc: 0.9553 - val_loss: 0.1041 - val_acc: 0.9718\n",
      "Epoch 10/20\n",
      "48000/48000 [==============================] - 6s - loss: 0.1407 - acc: 0.9575 - val_loss: 0.1052 - val_acc: 0.9705\n",
      "Epoch 11/20\n",
      "48000/48000 [==============================] - 5s - loss: 0.1405 - acc: 0.9570 - val_loss: 0.0998 - val_acc: 0.9702\n",
      "Epoch 12/20\n",
      "48000/48000 [==============================] - 5s - loss: 0.1357 - acc: 0.9585 - val_loss: 0.0969 - val_acc: 0.9716\n",
      "Epoch 13/20\n",
      "48000/48000 [==============================] - 5s - loss: 0.1326 - acc: 0.9597 - val_loss: 0.0992 - val_acc: 0.9733\n",
      "Epoch 14/20\n",
      "48000/48000 [==============================] - 5s - loss: 0.1217 - acc: 0.9621 - val_loss: 0.1052 - val_acc: 0.9720\n",
      "Epoch 15/20\n",
      "48000/48000 [==============================] - 5s - loss: 0.1287 - acc: 0.9604 - val_loss: 0.1023 - val_acc: 0.9717\n",
      "Epoch 16/20\n",
      "48000/48000 [==============================] - 5s - loss: 0.1230 - acc: 0.9625 - val_loss: 0.0970 - val_acc: 0.9743\n",
      "Epoch 17/20\n",
      "48000/48000 [==============================] - 5s - loss: 0.1210 - acc: 0.9634 - val_loss: 0.1020 - val_acc: 0.9702\n",
      "Epoch 18/20\n",
      "48000/48000 [==============================] - 5s - loss: 0.1187 - acc: 0.9633 - val_loss: 0.0979 - val_acc: 0.9738\n",
      "Epoch 19/20\n",
      "48000/48000 [==============================] - 5s - loss: 0.1159 - acc: 0.9646 - val_loss: 0.1044 - val_acc: 0.9712\n",
      "Epoch 20/20\n",
      "48000/48000 [==============================] - 5s - loss: 0.1120 - acc: 0.9649 - val_loss: 0.1030 - val_acc: 0.9713\n"
     ]
    }
   ],
   "source": [
    "model = Sequential()\n",
    "model.add(Dense(64, input_shape=(784,)))\n",
    "model.add(Activation('relu'))\n",
    "model.add(Dropout(0.3))\n",
    "model.add(Dense(64))\n",
    "model.add(Activation('relu'))\n",
    "model.add(Dropout(0.3))\n",
    "model.add(Dense(10))\n",
    "model.add(Activation('softmax'))\n",
    "model.summary()\n",
    "\n",
    "OPTIMIZER = Adam()\n",
    "model.compile(loss='categorical_crossentropy', optimizer=OPTIMIZER, metrics=['accuracy'])\n",
    "history = model.fit(X_train, Y_train,batch_size=32, epochs=20,verbose=1, validation_split=0.2)"
   ]
  },
  {
   "cell_type": "code",
   "execution_count": 9,
   "metadata": {},
   "outputs": [
    {
     "name": "stdout",
     "output_type": "stream",
     "text": [
      " 9536/10000 [===========================>..] - ETA:  - ETA: 0s\n",
      "Loss: 0.10, Accuracy: 96.97%\n"
     ]
    }
   ],
   "source": [
    "# evaluate the network\n",
    "loss, accuracy = model.evaluate(X_test, Y_test)\n",
    "print(\"\\nLoss: %.2f, Accuracy: %.2f%%\" % (loss, accuracy*100))\n",
    "accuracies.append(accuracy)"
   ]
  },
  {
   "cell_type": "markdown",
   "metadata": {},
   "source": [
    "#### Batch size = 64"
   ]
  },
  {
   "cell_type": "code",
   "execution_count": 10,
   "metadata": {},
   "outputs": [
    {
     "name": "stdout",
     "output_type": "stream",
     "text": [
      "_________________________________________________________________\n",
      "Layer (type)                 Output Shape              Param #   \n",
      "=================================================================\n",
      "dense_4 (Dense)              (None, 64)                50240     \n",
      "_________________________________________________________________\n",
      "activation_4 (Activation)    (None, 64)                0         \n",
      "_________________________________________________________________\n",
      "dropout_3 (Dropout)          (None, 64)                0         \n",
      "_________________________________________________________________\n",
      "dense_5 (Dense)              (None, 64)                4160      \n",
      "_________________________________________________________________\n",
      "activation_5 (Activation)    (None, 64)                0         \n",
      "_________________________________________________________________\n",
      "dropout_4 (Dropout)          (None, 64)                0         \n",
      "_________________________________________________________________\n",
      "dense_6 (Dense)              (None, 10)                650       \n",
      "_________________________________________________________________\n",
      "activation_6 (Activation)    (None, 10)                0         \n",
      "=================================================================\n",
      "Total params: 55,050.0\n",
      "Trainable params: 55,050.0\n",
      "Non-trainable params: 0.0\n",
      "_________________________________________________________________\n",
      "Train on 48000 samples, validate on 12000 samples\n",
      "Epoch 1/20\n",
      "48000/48000 [==============================] - 3s - loss: 0.5991 - acc: 0.8156 - val_loss: 0.2135 - val_acc: 0.9383\n",
      "Epoch 2/20\n",
      "48000/48000 [==============================] - 3s - loss: 0.3013 - acc: 0.9117 - val_loss: 0.1661 - val_acc: 0.9524\n",
      "Epoch 3/20\n",
      "48000/48000 [==============================] - 3s - loss: 0.2486 - acc: 0.9262 - val_loss: 0.1404 - val_acc: 0.9598\n",
      "Epoch 4/20\n",
      "48000/48000 [==============================] - 3s - loss: 0.2206 - acc: 0.9344 - val_loss: 0.1247 - val_acc: 0.9643\n",
      "Epoch 5/20\n",
      "48000/48000 [==============================] - 3s - loss: 0.1993 - acc: 0.9403 - val_loss: 0.1229 - val_acc: 0.9647\n",
      "Epoch 6/20\n",
      "48000/48000 [==============================] - 3s - loss: 0.1850 - acc: 0.9456 - val_loss: 0.1176 - val_acc: 0.9661\n",
      "Epoch 7/20\n",
      "48000/48000 [==============================] - 3s - loss: 0.1753 - acc: 0.9467 - val_loss: 0.1110 - val_acc: 0.9684\n",
      "Epoch 8/20\n",
      "48000/48000 [==============================] - 3s - loss: 0.1650 - acc: 0.9499 - val_loss: 0.1106 - val_acc: 0.9685\n",
      "Epoch 9/20\n",
      "48000/48000 [==============================] - 3s - loss: 0.1593 - acc: 0.9522 - val_loss: 0.1088 - val_acc: 0.9686\n",
      "Epoch 10/20\n",
      "48000/48000 [==============================] - 3s - loss: 0.1549 - acc: 0.9528 - val_loss: 0.1077 - val_acc: 0.9686\n",
      "Epoch 11/20\n",
      "48000/48000 [==============================] - 3s - loss: 0.1448 - acc: 0.9552 - val_loss: 0.1059 - val_acc: 0.9692\n",
      "Epoch 12/20\n",
      "48000/48000 [==============================] - 3s - loss: 0.1444 - acc: 0.9562 - val_loss: 0.1035 - val_acc: 0.9705\n",
      "Epoch 13/20\n",
      "48000/48000 [==============================] - 3s - loss: 0.1412 - acc: 0.9565 - val_loss: 0.0981 - val_acc: 0.9720\n",
      "Epoch 14/20\n",
      "48000/48000 [==============================] - 3s - loss: 0.1373 - acc: 0.9592 - val_loss: 0.1043 - val_acc: 0.9708\n",
      "Epoch 15/20\n",
      "48000/48000 [==============================] - 3s - loss: 0.1321 - acc: 0.9598 - val_loss: 0.1053 - val_acc: 0.9696\n",
      "Epoch 16/20\n",
      "48000/48000 [==============================] - 3s - loss: 0.1272 - acc: 0.9600 - val_loss: 0.0996 - val_acc: 0.9716\n",
      "Epoch 17/20\n",
      "48000/48000 [==============================] - 3s - loss: 0.1254 - acc: 0.9607 - val_loss: 0.1010 - val_acc: 0.9719\n",
      "Epoch 18/20\n",
      "48000/48000 [==============================] - 3s - loss: 0.1262 - acc: 0.9609 - val_loss: 0.1056 - val_acc: 0.9710\n",
      "Epoch 19/20\n",
      "48000/48000 [==============================] - 3s - loss: 0.1193 - acc: 0.9625 - val_loss: 0.0945 - val_acc: 0.9732\n",
      "Epoch 20/20\n",
      "48000/48000 [==============================] - 3s - loss: 0.1239 - acc: 0.9612 - val_loss: 0.1004 - val_acc: 0.9712\n"
     ]
    }
   ],
   "source": [
    "model2 = Sequential()\n",
    "model2.add(Dense(64, input_shape=(784,)))\n",
    "model2.add(Activation('relu'))\n",
    "model2.add(Dropout(0.3))\n",
    "model2.add(Dense(64))\n",
    "model2.add(Activation('relu'))\n",
    "model2.add(Dropout(0.3))\n",
    "model2.add(Dense(10))\n",
    "model2.add(Activation('softmax'))\n",
    "model2.summary()\n",
    "\n",
    "OPTIMIZER = Adam()\n",
    "model2.compile(loss='categorical_crossentropy', optimizer=OPTIMIZER, metrics=['accuracy'])\n",
    "history2 = model2.fit(X_train, Y_train,batch_size=64, epochs=20,verbose=1, validation_split=0.2)"
   ]
  },
  {
   "cell_type": "code",
   "execution_count": 11,
   "metadata": {},
   "outputs": [
    {
     "name": "stdout",
     "output_type": "stream",
     "text": [
      " 9728/10000 [============================>.] - ETA: 0s\n",
      "Loss: 0.10, Accuracy: 97.19%\n"
     ]
    }
   ],
   "source": [
    "# evaluate the network\n",
    "loss, accuracy = model2.evaluate(X_test, Y_test)\n",
    "print(\"\\nLoss: %.2f, Accuracy: %.2f%%\" % (loss, accuracy*100))\n",
    "accuracies.append(accuracy)"
   ]
  },
  {
   "cell_type": "markdown",
   "metadata": {},
   "source": [
    "#### Batch size = 128"
   ]
  },
  {
   "cell_type": "code",
   "execution_count": 12,
   "metadata": {},
   "outputs": [
    {
     "name": "stdout",
     "output_type": "stream",
     "text": [
      "_________________________________________________________________\n",
      "Layer (type)                 Output Shape              Param #   \n",
      "=================================================================\n",
      "dense_7 (Dense)              (None, 64)                50240     \n",
      "_________________________________________________________________\n",
      "activation_7 (Activation)    (None, 64)                0         \n",
      "_________________________________________________________________\n",
      "dropout_5 (Dropout)          (None, 64)                0         \n",
      "_________________________________________________________________\n",
      "dense_8 (Dense)              (None, 64)                4160      \n",
      "_________________________________________________________________\n",
      "activation_8 (Activation)    (None, 64)                0         \n",
      "_________________________________________________________________\n",
      "dropout_6 (Dropout)          (None, 64)                0         \n",
      "_________________________________________________________________\n",
      "dense_9 (Dense)              (None, 10)                650       \n",
      "_________________________________________________________________\n",
      "activation_9 (Activation)    (None, 10)                0         \n",
      "=================================================================\n",
      "Total params: 55,050.0\n",
      "Trainable params: 55,050.0\n",
      "Non-trainable params: 0.0\n",
      "_________________________________________________________________\n",
      "Train on 48000 samples, validate on 12000 samples\n",
      "Epoch 1/20\n",
      "48000/48000 [==============================] - 3s - loss: 0.7051 - acc: 0.7806 - val_loss: 0.2434 - val_acc: 0.9292\n",
      "Epoch 2/20\n",
      "48000/48000 [==============================] - 2s - loss: 0.3479 - acc: 0.8984 - val_loss: 0.1884 - val_acc: 0.9470\n",
      "Epoch 3/20\n",
      "48000/48000 [==============================] - 2s - loss: 0.2822 - acc: 0.9176 - val_loss: 0.1612 - val_acc: 0.9544\n",
      "Epoch 4/20\n",
      "48000/48000 [==============================] - 2s - loss: 0.2413 - acc: 0.9295 - val_loss: 0.1500 - val_acc: 0.9588\n",
      "Epoch 5/20\n",
      "48000/48000 [==============================] - 2s - loss: 0.2207 - acc: 0.9331 - val_loss: 0.1373 - val_acc: 0.9605\n",
      "Epoch 6/20\n",
      "48000/48000 [==============================] - 2s - loss: 0.2007 - acc: 0.9408 - val_loss: 0.1313 - val_acc: 0.9619\n",
      "Epoch 7/20\n",
      "48000/48000 [==============================] - 2s - loss: 0.1839 - acc: 0.9447 - val_loss: 0.1238 - val_acc: 0.9630\n",
      "Epoch 8/20\n",
      "48000/48000 [==============================] - 2s - loss: 0.1790 - acc: 0.9458 - val_loss: 0.1257 - val_acc: 0.9641\n",
      "Epoch 9/20\n",
      "48000/48000 [==============================] - 2s - loss: 0.1658 - acc: 0.9507 - val_loss: 0.1164 - val_acc: 0.9662\n",
      "Epoch 10/20\n",
      "48000/48000 [==============================] - 2s - loss: 0.1578 - acc: 0.9522 - val_loss: 0.1095 - val_acc: 0.9686\n",
      "Epoch 11/20\n",
      "48000/48000 [==============================] - 2s - loss: 0.1504 - acc: 0.9551 - val_loss: 0.1124 - val_acc: 0.9679\n",
      "Epoch 12/20\n",
      "48000/48000 [==============================] - 2s - loss: 0.1472 - acc: 0.9551 - val_loss: 0.1065 - val_acc: 0.9697\n",
      "Epoch 13/20\n",
      "48000/48000 [==============================] - 2s - loss: 0.1404 - acc: 0.9572 - val_loss: 0.1042 - val_acc: 0.9710\n",
      "Epoch 14/20\n",
      "48000/48000 [==============================] - 2s - loss: 0.1368 - acc: 0.9581 - val_loss: 0.1124 - val_acc: 0.9684\n",
      "Epoch 15/20\n",
      "48000/48000 [==============================] - 2s - loss: 0.1343 - acc: 0.9590 - val_loss: 0.1035 - val_acc: 0.9706\n",
      "Epoch 16/20\n",
      "48000/48000 [==============================] - 2s - loss: 0.1276 - acc: 0.9604 - val_loss: 0.0993 - val_acc: 0.9712\n",
      "Epoch 17/20\n",
      "48000/48000 [==============================] - 2s - loss: 0.1239 - acc: 0.9613 - val_loss: 0.0986 - val_acc: 0.9719\n",
      "Epoch 18/20\n",
      "48000/48000 [==============================] - 2s - loss: 0.1212 - acc: 0.9622 - val_loss: 0.1038 - val_acc: 0.9703\n",
      "Epoch 19/20\n",
      "48000/48000 [==============================] - 2s - loss: 0.1182 - acc: 0.9632 - val_loss: 0.0983 - val_acc: 0.9734\n",
      "Epoch 20/20\n",
      "48000/48000 [==============================] - 2s - loss: 0.1186 - acc: 0.9637 - val_loss: 0.1001 - val_acc: 0.9722\n"
     ]
    }
   ],
   "source": [
    "model3 = Sequential()\n",
    "model3.add(Dense(64, input_shape=(784,)))\n",
    "model3.add(Activation('relu'))\n",
    "model3.add(Dropout(0.3))\n",
    "model3.add(Dense(64))\n",
    "model3.add(Activation('relu'))\n",
    "model3.add(Dropout(0.3))\n",
    "model3.add(Dense(10))\n",
    "model3.add(Activation('softmax'))\n",
    "model3.summary()\n",
    "\n",
    "OPTIMIZER = Adam()\n",
    "model3.compile(loss='categorical_crossentropy', optimizer=OPTIMIZER, metrics=['accuracy'])\n",
    "history3 = model3.fit(X_train, Y_train,batch_size=128, epochs=20,verbose=1, validation_split=0.2)"
   ]
  },
  {
   "cell_type": "code",
   "execution_count": 13,
   "metadata": {},
   "outputs": [
    {
     "name": "stdout",
     "output_type": "stream",
     "text": [
      " 9824/10000 [============================>.] - ETA: 0s\n",
      "Loss: 0.11, Accuracy: 97.01%\n"
     ]
    }
   ],
   "source": [
    "# evaluate the network\n",
    "loss, accuracy = model3.evaluate(X_test, Y_test)\n",
    "print(\"\\nLoss: %.2f, Accuracy: %.2f%%\" % (loss, accuracy*100))\n",
    "accuracies.append(accuracy)"
   ]
  },
  {
   "cell_type": "markdown",
   "metadata": {},
   "source": [
    "#### Batch size = 256"
   ]
  },
  {
   "cell_type": "code",
   "execution_count": 14,
   "metadata": {},
   "outputs": [
    {
     "name": "stdout",
     "output_type": "stream",
     "text": [
      "_________________________________________________________________\n",
      "Layer (type)                 Output Shape              Param #   \n",
      "=================================================================\n",
      "dense_10 (Dense)             (None, 64)                50240     \n",
      "_________________________________________________________________\n",
      "activation_10 (Activation)   (None, 64)                0         \n",
      "_________________________________________________________________\n",
      "dropout_7 (Dropout)          (None, 64)                0         \n",
      "_________________________________________________________________\n",
      "dense_11 (Dense)             (None, 64)                4160      \n",
      "_________________________________________________________________\n",
      "activation_11 (Activation)   (None, 64)                0         \n",
      "_________________________________________________________________\n",
      "dropout_8 (Dropout)          (None, 64)                0         \n",
      "_________________________________________________________________\n",
      "dense_12 (Dense)             (None, 10)                650       \n",
      "_________________________________________________________________\n",
      "activation_12 (Activation)   (None, 10)                0         \n",
      "=================================================================\n",
      "Total params: 55,050.0\n",
      "Trainable params: 55,050.0\n",
      "Non-trainable params: 0.0\n",
      "_________________________________________________________________\n",
      "Train on 48000 samples, validate on 12000 samples\n",
      "Epoch 1/20\n",
      "48000/48000 [==============================] - 2s - loss: 0.8835 - acc: 0.7207 - val_loss: 0.2836 - val_acc: 0.9198\n",
      "Epoch 2/20\n",
      "48000/48000 [==============================] - 1s - loss: 0.3950 - acc: 0.8850 - val_loss: 0.2120 - val_acc: 0.9393\n",
      "Epoch 3/20\n",
      "48000/48000 [==============================] - 1s - loss: 0.3151 - acc: 0.9082 - val_loss: 0.1836 - val_acc: 0.9467\n",
      "Epoch 4/20\n",
      "48000/48000 [==============================] - 1s - loss: 0.2763 - acc: 0.9195 - val_loss: 0.1628 - val_acc: 0.9533\n",
      "Epoch 5/20\n",
      "48000/48000 [==============================] - 1s - loss: 0.2450 - acc: 0.9291 - val_loss: 0.1447 - val_acc: 0.9579\n",
      "Epoch 6/20\n",
      "48000/48000 [==============================] - 1s - loss: 0.2264 - acc: 0.9337 - val_loss: 0.1390 - val_acc: 0.9595\n",
      "Epoch 7/20\n",
      "48000/48000 [==============================] - 1s - loss: 0.2097 - acc: 0.9386 - val_loss: 0.1307 - val_acc: 0.9620\n",
      "Epoch 8/20\n",
      "48000/48000 [==============================] - 1s - loss: 0.2003 - acc: 0.9404 - val_loss: 0.1248 - val_acc: 0.9642\n",
      "Epoch 9/20\n",
      "48000/48000 [==============================] - 1s - loss: 0.1860 - acc: 0.9447 - val_loss: 0.1212 - val_acc: 0.9658\n",
      "Epoch 10/20\n",
      "48000/48000 [==============================] - 1s - loss: 0.1808 - acc: 0.9464 - val_loss: 0.1169 - val_acc: 0.9657\n",
      "Epoch 11/20\n",
      "48000/48000 [==============================] - 1s - loss: 0.1713 - acc: 0.9484 - val_loss: 0.1150 - val_acc: 0.9668\n",
      "Epoch 12/20\n",
      "48000/48000 [==============================] - 1s - loss: 0.1641 - acc: 0.9505 - val_loss: 0.1120 - val_acc: 0.9662\n",
      "Epoch 13/20\n",
      "48000/48000 [==============================] - 1s - loss: 0.1553 - acc: 0.9544 - val_loss: 0.1082 - val_acc: 0.9693\n",
      "Epoch 14/20\n",
      "48000/48000 [==============================] - 1s - loss: 0.1529 - acc: 0.9530 - val_loss: 0.1118 - val_acc: 0.9691\n",
      "Epoch 15/20\n",
      "48000/48000 [==============================] - 1s - loss: 0.1519 - acc: 0.9551 - val_loss: 0.1068 - val_acc: 0.9690\n",
      "Epoch 16/20\n",
      "48000/48000 [==============================] - 1s - loss: 0.1454 - acc: 0.9561 - val_loss: 0.1066 - val_acc: 0.9692\n",
      "Epoch 17/20\n",
      "48000/48000 [==============================] - 1s - loss: 0.1378 - acc: 0.9571 - val_loss: 0.1082 - val_acc: 0.9695\n",
      "Epoch 18/20\n",
      "48000/48000 [==============================] - 1s - loss: 0.1363 - acc: 0.9594 - val_loss: 0.1037 - val_acc: 0.9698\n",
      "Epoch 19/20\n",
      "48000/48000 [==============================] - 1s - loss: 0.1347 - acc: 0.9585 - val_loss: 0.1052 - val_acc: 0.9705\n",
      "Epoch 20/20\n",
      "48000/48000 [==============================] - 1s - loss: 0.1310 - acc: 0.9600 - val_loss: 0.1011 - val_acc: 0.9712\n"
     ]
    }
   ],
   "source": [
    "model4 = Sequential()\n",
    "model4.add(Dense(64, input_shape=(784,)))\n",
    "model4.add(Activation('relu'))\n",
    "model4.add(Dropout(0.3))\n",
    "model4.add(Dense(64))\n",
    "model4.add(Activation('relu'))\n",
    "model4.add(Dropout(0.3))\n",
    "model4.add(Dense(10))\n",
    "model4.add(Activation('softmax'))\n",
    "model4.summary()\n",
    "\n",
    "OPTIMIZER = Adam()\n",
    "model4.compile(loss='categorical_crossentropy', optimizer=OPTIMIZER, metrics=['accuracy'])\n",
    "history4 = model4.fit(X_train, Y_train,batch_size=256, epochs=20,verbose=1, validation_split=0.2)"
   ]
  },
  {
   "cell_type": "code",
   "execution_count": 15,
   "metadata": {},
   "outputs": [
    {
     "name": "stdout",
     "output_type": "stream",
     "text": [
      " 9856/10000 [============================>.] - ETA: 0s\n",
      "Loss: 0.10, Accuracy: 96.98%\n"
     ]
    }
   ],
   "source": [
    "# evaluate the network\n",
    "loss, accuracy = model4.evaluate(X_test, Y_test)\n",
    "print(\"\\nLoss: %.2f, Accuracy: %.2f%%\" % (loss, accuracy*100))\n",
    "accuracies.append(accuracy)"
   ]
  },
  {
   "cell_type": "markdown",
   "metadata": {},
   "source": [
    "#### Batch size = 512"
   ]
  },
  {
   "cell_type": "code",
   "execution_count": 16,
   "metadata": {},
   "outputs": [
    {
     "name": "stdout",
     "output_type": "stream",
     "text": [
      "_________________________________________________________________\n",
      "Layer (type)                 Output Shape              Param #   \n",
      "=================================================================\n",
      "dense_13 (Dense)             (None, 64)                50240     \n",
      "_________________________________________________________________\n",
      "activation_13 (Activation)   (None, 64)                0         \n",
      "_________________________________________________________________\n",
      "dropout_9 (Dropout)          (None, 64)                0         \n",
      "_________________________________________________________________\n",
      "dense_14 (Dense)             (None, 64)                4160      \n",
      "_________________________________________________________________\n",
      "activation_14 (Activation)   (None, 64)                0         \n",
      "_________________________________________________________________\n",
      "dropout_10 (Dropout)         (None, 64)                0         \n",
      "_________________________________________________________________\n",
      "dense_15 (Dense)             (None, 10)                650       \n",
      "_________________________________________________________________\n",
      "activation_15 (Activation)   (None, 10)                0         \n",
      "=================================================================\n",
      "Total params: 55,050.0\n",
      "Trainable params: 55,050.0\n",
      "Non-trainable params: 0.0\n",
      "_________________________________________________________________\n",
      "Train on 48000 samples, validate on 12000 samples\n",
      "Epoch 1/20\n",
      "48000/48000 [==============================] - 2s - loss: 1.1762 - acc: 0.6157 - val_loss: 0.3740 - val_acc: 0.9009\n",
      "Epoch 2/20\n",
      "48000/48000 [==============================] - 1s - loss: 0.4937 - acc: 0.8532 - val_loss: 0.2591 - val_acc: 0.9247\n",
      "Epoch 3/20\n",
      "48000/48000 [==============================] - 1s - loss: 0.3926 - acc: 0.8856 - val_loss: 0.2206 - val_acc: 0.9362\n",
      "Epoch 4/20\n",
      "48000/48000 [==============================] - 1s - loss: 0.3344 - acc: 0.9003 - val_loss: 0.1931 - val_acc: 0.9448\n",
      "Epoch 5/20\n",
      "48000/48000 [==============================] - 1s - loss: 0.2995 - acc: 0.9123 - val_loss: 0.1752 - val_acc: 0.9482\n",
      "Epoch 6/20\n",
      "48000/48000 [==============================] - 1s - loss: 0.2730 - acc: 0.9200 - val_loss: 0.1608 - val_acc: 0.9534\n",
      "Epoch 7/20\n",
      "48000/48000 [==============================] - 1s - loss: 0.2546 - acc: 0.9248 - val_loss: 0.1509 - val_acc: 0.9577\n",
      "Epoch 8/20\n",
      "48000/48000 [==============================] - 1s - loss: 0.2366 - acc: 0.9288 - val_loss: 0.1425 - val_acc: 0.9601\n",
      "Epoch 9/20\n",
      "48000/48000 [==============================] - 1s - loss: 0.2196 - acc: 0.9350 - val_loss: 0.1395 - val_acc: 0.9603\n",
      "Epoch 10/20\n",
      "48000/48000 [==============================] - 1s - loss: 0.2100 - acc: 0.9386 - val_loss: 0.1364 - val_acc: 0.9601\n",
      "Epoch 11/20\n",
      "48000/48000 [==============================] - 1s - loss: 0.1997 - acc: 0.9405 - val_loss: 0.1256 - val_acc: 0.9641\n",
      "Epoch 12/20\n",
      "48000/48000 [==============================] - 1s - loss: 0.1924 - acc: 0.9433 - val_loss: 0.1234 - val_acc: 0.9649\n",
      "Epoch 13/20\n",
      "48000/48000 [==============================] - 1s - loss: 0.1838 - acc: 0.9466 - val_loss: 0.1216 - val_acc: 0.9665\n",
      "Epoch 14/20\n",
      "48000/48000 [==============================] - 1s - loss: 0.1737 - acc: 0.9490 - val_loss: 0.1159 - val_acc: 0.9668\n",
      "Epoch 15/20\n",
      "48000/48000 [==============================] - 1s - loss: 0.1677 - acc: 0.9509 - val_loss: 0.1147 - val_acc: 0.9676\n",
      "Epoch 16/20\n",
      "48000/48000 [==============================] - 1s - loss: 0.1672 - acc: 0.9502 - val_loss: 0.1125 - val_acc: 0.9675\n",
      "Epoch 17/20\n",
      "48000/48000 [==============================] - 1s - loss: 0.1586 - acc: 0.9518 - val_loss: 0.1092 - val_acc: 0.9678\n",
      "Epoch 18/20\n",
      "48000/48000 [==============================] - 1s - loss: 0.1586 - acc: 0.9530 - val_loss: 0.1086 - val_acc: 0.9679\n",
      "Epoch 19/20\n",
      "48000/48000 [==============================] - 1s - loss: 0.1525 - acc: 0.9537 - val_loss: 0.1100 - val_acc: 0.9683\n",
      "Epoch 20/20\n",
      "48000/48000 [==============================] - 1s - loss: 0.1446 - acc: 0.9560 - val_loss: 0.1049 - val_acc: 0.9692\n"
     ]
    }
   ],
   "source": [
    "model5 = Sequential()\n",
    "model5.add(Dense(64, input_shape=(784,)))\n",
    "model5.add(Activation('relu'))\n",
    "model5.add(Dropout(0.3))\n",
    "model5.add(Dense(64))\n",
    "model5.add(Activation('relu'))\n",
    "model5.add(Dropout(0.3))\n",
    "model5.add(Dense(10))\n",
    "model5.add(Activation('softmax'))\n",
    "model5.summary()\n",
    "\n",
    "OPTIMIZER = Adam()\n",
    "model5.compile(loss='categorical_crossentropy', optimizer=OPTIMIZER, metrics=['accuracy'])\n",
    "history5 = model5.fit(X_train, Y_train,batch_size=512, epochs=20,verbose=1, validation_split=0.2)"
   ]
  },
  {
   "cell_type": "code",
   "execution_count": 17,
   "metadata": {},
   "outputs": [
    {
     "name": "stdout",
     "output_type": "stream",
     "text": [
      " 9472/10000 [===========================>..] - ETA: 0s\n",
      "Loss: 0.10, Accuracy: 96.93%\n"
     ]
    }
   ],
   "source": [
    "# evaluate the network\n",
    "loss, accuracy = model5.evaluate(X_test, Y_test)\n",
    "print(\"\\nLoss: %.2f, Accuracy: %.2f%%\" % (loss, accuracy*100))\n",
    "accuracies.append(accuracy)"
   ]
  },
  {
   "cell_type": "code",
   "execution_count": 18,
   "metadata": {},
   "outputs": [
    {
     "data": {
      "text/plain": [
       "[0.96970000000000001,\n",
       " 0.97189999999999999,\n",
       " 0.97009999999999996,\n",
       " 0.9698,\n",
       " 0.96930000000000005]"
      ]
     },
     "execution_count": 18,
     "metadata": {},
     "output_type": "execute_result"
    }
   ],
   "source": [
    "accuracies"
   ]
  },
  {
   "cell_type": "code",
   "execution_count": 19,
   "metadata": {
    "collapsed": true
   },
   "outputs": [],
   "source": [
    "batch_size=[32,64,128,256,512]"
   ]
  },
  {
   "cell_type": "code",
   "execution_count": 20,
   "metadata": {},
   "outputs": [
    {
     "data": {
      "image/png": "[encoded data removed]",
      "text/plain": [
       "<matplotlib.figure.Figure at 0xbb325f5208>"
      ]
     },
     "metadata": {},
     "output_type": "display_data"
    }
   ],
   "source": [
    "# summarize history for accuracy\n",
    "plt.plot(batch_size,accuracies)\n",
    "\n",
    "plt.title('batch size accuracy')\n",
    "plt.ylabel('accuracy')\n",
    "plt.xlabel('batch size')\n",
    "plt.show()"
   ]
  },
  {
   "cell_type": "code",
   "execution_count": null,
   "metadata": {
    "collapsed": true
   },
   "outputs": [],
   "source": []
  }
 ],
 "metadata": {
  "kernelspec": {
   "display_name": "Python 3",
   "language": "python",
   "name": "python3"
  },
  "language_info": {
   "codemirror_mode": {
    "name": "ipython",
    "version": 3
   },
   "file_extension": ".py",
   "mimetype": "text/x-python",
   "name": "python",
   "nbconvert_exporter": "python",
   "pygments_lexer": "ipython3",
   "version": "3.6.1"
  }
 },
 "nbformat": 4,
 "nbformat_minor": 2
}

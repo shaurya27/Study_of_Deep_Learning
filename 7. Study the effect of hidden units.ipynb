{
 "cells": [
  {
   "cell_type": "markdown",
   "metadata": {},
   "source": [
    "# Study the effect of hidden units"
   ]
  },
  {
   "cell_type": "markdown",
   "metadata": {},
   "source": [
    "## Summary"
   ]
  },
  {
   "cell_type": "markdown",
   "metadata": {},
   "source": [
    "In this notebook, I have studied the effect of different number of hidden units. I noticed that the increasing the number of hidden units improved the accuracy but there is a trade-off between the number of hidden units and computation cost and time."
   ]
  },
  {
   "cell_type": "code",
   "execution_count": 1,
   "metadata": {},
   "outputs": [
    {
     "name": "stderr",
     "output_type": "stream",
     "text": [
      "Using TensorFlow backend.\n"
     ]
    }
   ],
   "source": [
    "import keras"
   ]
  },
  {
   "cell_type": "code",
   "execution_count": 2,
   "metadata": {
    "collapsed": true
   },
   "outputs": [],
   "source": [
    "import numpy as np\n",
    "import matplotlib.pyplot as plt"
   ]
  },
  {
   "cell_type": "code",
   "execution_count": 3,
   "metadata": {
    "collapsed": true
   },
   "outputs": [],
   "source": [
    "from keras.datasets import mnist\n",
    "from keras.models import Sequential\n",
    "from keras.layers.core import Dense, Dropout, Activation\n",
    "from keras.optimizers import Adam\n",
    "from keras.utils import np_utils\n",
    "np.random.seed(1671)"
   ]
  },
  {
   "cell_type": "code",
   "execution_count": 4,
   "metadata": {},
   "outputs": [
    {
     "name": "stdout",
     "output_type": "stream",
     "text": [
      "60000 train samples\n",
      "10000 test samples\n"
     ]
    }
   ],
   "source": [
    "(X_train, y_train), (X_test, y_test) = mnist.load_data()\n",
    "\n",
    "X_train = X_train.reshape(60000, 784)\n",
    "X_test = X_test.reshape(10000, 784)\n",
    "X_train = X_train.astype('float32')\n",
    "X_test = X_test.astype('float32')\n",
    "# normalize\n",
    "X_train /= 255\n",
    "X_test /= 255\n",
    "print(X_train.shape[0], 'train samples')\n",
    "print(X_test.shape[0], 'test samples')"
   ]
  },
  {
   "cell_type": "code",
   "execution_count": 5,
   "metadata": {
    "collapsed": true
   },
   "outputs": [],
   "source": [
    "# convert class vectors to binary class matrices\n",
    "Y_train = np_utils.to_categorical(y_train, 10)\n",
    "Y_test = np_utils.to_categorical(y_test, 10)"
   ]
  },
  {
   "cell_type": "code",
   "execution_count": 13,
   "metadata": {
    "collapsed": true
   },
   "outputs": [],
   "source": [
    "accuracies=[]"
   ]
  },
  {
   "cell_type": "code",
   "execution_count": 14,
   "metadata": {},
   "outputs": [
    {
     "name": "stdout",
     "output_type": "stream",
     "text": [
      "_________________________________________________________________\n",
      "Layer (type)                 Output Shape              Param #   \n",
      "=================================================================\n",
      "dense_10 (Dense)             (None, 32)                25120     \n",
      "_________________________________________________________________\n",
      "activation_10 (Activation)   (None, 32)                0         \n",
      "_________________________________________________________________\n",
      "dropout_7 (Dropout)          (None, 32)                0         \n",
      "_________________________________________________________________\n",
      "dense_11 (Dense)             (None, 32)                1056      \n",
      "_________________________________________________________________\n",
      "activation_11 (Activation)   (None, 32)                0         \n",
      "_________________________________________________________________\n",
      "dropout_8 (Dropout)          (None, 32)                0         \n",
      "_________________________________________________________________\n",
      "dense_12 (Dense)             (None, 10)                330       \n",
      "_________________________________________________________________\n",
      "activation_12 (Activation)   (None, 10)                0         \n",
      "=================================================================\n",
      "Total params: 26,506.0\n",
      "Trainable params: 26,506.0\n",
      "Non-trainable params: 0.0\n",
      "_________________________________________________________________\n",
      "Train on 48000 samples, validate on 12000 samples\n",
      "Epoch 1/20\n",
      "48000/48000 [==============================] - 3s - loss: 0.9008 - acc: 0.7044 - val_loss: 0.2933 - val_acc: 0.9186\n",
      "Epoch 2/20\n",
      "48000/48000 [==============================] - 2s - loss: 0.4948 - acc: 0.8485 - val_loss: 0.2277 - val_acc: 0.9358\n",
      "Epoch 3/20\n",
      "48000/48000 [==============================] - 2s - loss: 0.4190 - acc: 0.8752 - val_loss: 0.2028 - val_acc: 0.9425\n",
      "Epoch 4/20\n",
      "48000/48000 [==============================] - 2s - loss: 0.3731 - acc: 0.8882 - val_loss: 0.1881 - val_acc: 0.9465\n",
      "Epoch 5/20\n",
      "48000/48000 [==============================] - 2s - loss: 0.3536 - acc: 0.8950 - val_loss: 0.1795 - val_acc: 0.9503\n",
      "Epoch 6/20\n",
      "48000/48000 [==============================] - 2s - loss: 0.3336 - acc: 0.9002 - val_loss: 0.1738 - val_acc: 0.9503\n",
      "Epoch 7/20\n",
      "48000/48000 [==============================] - 2s - loss: 0.3235 - acc: 0.9026 - val_loss: 0.1699 - val_acc: 0.9523\n",
      "Epoch 8/20\n",
      "48000/48000 [==============================] - 2s - loss: 0.3112 - acc: 0.9068 - val_loss: 0.1738 - val_acc: 0.9508\n",
      "Epoch 9/20\n",
      "48000/48000 [==============================] - 2s - loss: 0.3058 - acc: 0.9081 - val_loss: 0.1663 - val_acc: 0.9543\n",
      "Epoch 10/20\n",
      "48000/48000 [==============================] - 3s - loss: 0.2977 - acc: 0.9116 - val_loss: 0.1626 - val_acc: 0.9561\n",
      "Epoch 11/20\n",
      "48000/48000 [==============================] - 2s - loss: 0.2944 - acc: 0.9114 - val_loss: 0.1605 - val_acc: 0.9562\n",
      "Epoch 12/20\n",
      "48000/48000 [==============================] - 2s - loss: 0.2862 - acc: 0.9134 - val_loss: 0.1549 - val_acc: 0.9590\n",
      "Epoch 13/20\n",
      "48000/48000 [==============================] - 2s - loss: 0.2823 - acc: 0.9153 - val_loss: 0.1577 - val_acc: 0.9567\n",
      "Epoch 14/20\n",
      "48000/48000 [==============================] - 2s - loss: 0.2764 - acc: 0.9172 - val_loss: 0.1539 - val_acc: 0.9567\n",
      "Epoch 15/20\n",
      "48000/48000 [==============================] - 2s - loss: 0.2705 - acc: 0.9187 - val_loss: 0.1540 - val_acc: 0.9577\n",
      "Epoch 16/20\n",
      "48000/48000 [==============================] - 2s - loss: 0.2682 - acc: 0.9185 - val_loss: 0.1582 - val_acc: 0.9556\n",
      "Epoch 17/20\n",
      "48000/48000 [==============================] - 2s - loss: 0.2667 - acc: 0.9200 - val_loss: 0.1573 - val_acc: 0.9584\n",
      "Epoch 18/20\n",
      "48000/48000 [==============================] - 2s - loss: 0.2656 - acc: 0.9188 - val_loss: 0.1533 - val_acc: 0.9592\n",
      "Epoch 19/20\n",
      "48000/48000 [==============================] - 2s - loss: 0.2577 - acc: 0.9209 - val_loss: 0.1629 - val_acc: 0.9567\n",
      "Epoch 20/20\n",
      "48000/48000 [==============================] - 2s - loss: 0.2549 - acc: 0.9225 - val_loss: 0.1549 - val_acc: 0.9594\n"
     ]
    }
   ],
   "source": [
    "model = Sequential()\n",
    "model.add(Dense(32, input_shape=(784,)))\n",
    "model.add(Activation('relu'))\n",
    "model.add(Dropout(0.3))\n",
    "model.add(Dense(32))\n",
    "model.add(Activation('relu'))\n",
    "model.add(Dropout(0.3))\n",
    "model.add(Dense(10))\n",
    "model.add(Activation('softmax'))\n",
    "model.summary()\n",
    "\n",
    "OPTIMIZER = Adam()\n",
    "model.compile(loss='categorical_crossentropy', optimizer=OPTIMIZER, metrics=['accuracy'])\n",
    "history = model.fit(X_train, Y_train,batch_size=64, epochs=20,verbose=1, validation_split=0.2)"
   ]
  },
  {
   "cell_type": "code",
   "execution_count": 15,
   "metadata": {},
   "outputs": [
    {
     "name": "stdout",
     "output_type": "stream",
     "text": [
      " 9568/10000 [===========================>..] - ETA:  - ETA: 0s\n",
      "Loss: 0.16, Accuracy: 95.68%\n"
     ]
    }
   ],
   "source": [
    "# evaluate the network\n",
    "loss, accuracy = model.evaluate(X_test, Y_test)\n",
    "print(\"\\nLoss: %.2f, Accuracy: %.2f%%\" % (loss, accuracy*100))\n",
    "accuracies.append(accuracy)"
   ]
  },
  {
   "cell_type": "code",
   "execution_count": 16,
   "metadata": {},
   "outputs": [
    {
     "name": "stdout",
     "output_type": "stream",
     "text": [
      "_________________________________________________________________\n",
      "Layer (type)                 Output Shape              Param #   \n",
      "=================================================================\n",
      "dense_13 (Dense)             (None, 64)                50240     \n",
      "_________________________________________________________________\n",
      "activation_13 (Activation)   (None, 64)                0         \n",
      "_________________________________________________________________\n",
      "dropout_9 (Dropout)          (None, 64)                0         \n",
      "_________________________________________________________________\n",
      "dense_14 (Dense)             (None, 64)                4160      \n",
      "_________________________________________________________________\n",
      "activation_14 (Activation)   (None, 64)                0         \n",
      "_________________________________________________________________\n",
      "dropout_10 (Dropout)         (None, 64)                0         \n",
      "_________________________________________________________________\n",
      "dense_15 (Dense)             (None, 10)                650       \n",
      "_________________________________________________________________\n",
      "activation_15 (Activation)   (None, 10)                0         \n",
      "=================================================================\n",
      "Total params: 55,050.0\n",
      "Trainable params: 55,050.0\n",
      "Non-trainable params: 0.0\n",
      "_________________________________________________________________\n",
      "Train on 48000 samples, validate on 12000 samples\n",
      "Epoch 1/20\n",
      "48000/48000 [==============================] - 4s - loss: 0.5869 - acc: 0.8194 - val_loss: 0.2106 - val_acc: 0.9370\n",
      "Epoch 2/20\n",
      "48000/48000 [==============================] - 3s - loss: 0.3014 - acc: 0.9113 - val_loss: 0.1608 - val_acc: 0.9538\n",
      "Epoch 3/20\n",
      "48000/48000 [==============================] - 3s - loss: 0.2537 - acc: 0.9250 - val_loss: 0.1452 - val_acc: 0.9585\n",
      "Epoch 4/20\n",
      "48000/48000 [==============================] - 3s - loss: 0.2216 - acc: 0.9336 - val_loss: 0.1365 - val_acc: 0.9618\n",
      "Epoch 5/20\n",
      "48000/48000 [==============================] - 3s - loss: 0.2014 - acc: 0.9397 - val_loss: 0.1211 - val_acc: 0.9647\n",
      "Epoch 6/20\n",
      "48000/48000 [==============================] - 3s - loss: 0.1898 - acc: 0.9439 - val_loss: 0.1187 - val_acc: 0.9673\n",
      "Epoch 7/20\n",
      "48000/48000 [==============================] - 3s - loss: 0.1804 - acc: 0.9466 - val_loss: 0.1160 - val_acc: 0.9659\n",
      "Epoch 8/20\n",
      "48000/48000 [==============================] - 3s - loss: 0.1689 - acc: 0.9486 - val_loss: 0.1089 - val_acc: 0.9683\n",
      "Epoch 9/20\n",
      "48000/48000 [==============================] - 3s - loss: 0.1606 - acc: 0.9525 - val_loss: 0.1036 - val_acc: 0.9694\n",
      "Epoch 10/20\n",
      "48000/48000 [==============================] - 3s - loss: 0.1552 - acc: 0.9528 - val_loss: 0.1073 - val_acc: 0.9683\n",
      "Epoch 11/20\n",
      "48000/48000 [==============================] - 3s - loss: 0.1512 - acc: 0.9542 - val_loss: 0.1056 - val_acc: 0.9683\n",
      "Epoch 12/20\n",
      "48000/48000 [==============================] - 3s - loss: 0.1503 - acc: 0.9545 - val_loss: 0.1034 - val_acc: 0.9704\n",
      "Epoch 13/20\n",
      "48000/48000 [==============================] - 3s - loss: 0.1379 - acc: 0.9577 - val_loss: 0.1017 - val_acc: 0.9699\n",
      "Epoch 14/20\n",
      "48000/48000 [==============================] - 3s - loss: 0.1345 - acc: 0.9583 - val_loss: 0.1028 - val_acc: 0.9697\n",
      "Epoch 15/20\n",
      "48000/48000 [==============================] - 3s - loss: 0.1344 - acc: 0.9590 - val_loss: 0.0996 - val_acc: 0.9710\n",
      "Epoch 16/20\n",
      "48000/48000 [==============================] - 3s - loss: 0.1277 - acc: 0.9599 - val_loss: 0.1011 - val_acc: 0.9713\n",
      "Epoch 17/20\n",
      "48000/48000 [==============================] - 3s - loss: 0.1228 - acc: 0.9618 - val_loss: 0.0971 - val_acc: 0.9725\n",
      "Epoch 18/20\n",
      "48000/48000 [==============================] - 3s - loss: 0.1269 - acc: 0.9610 - val_loss: 0.1011 - val_acc: 0.9718\n",
      "Epoch 19/20\n",
      "48000/48000 [==============================] - 3s - loss: 0.1203 - acc: 0.9632 - val_loss: 0.0996 - val_acc: 0.9698\n",
      "Epoch 20/20\n",
      "48000/48000 [==============================] - 3s - loss: 0.1214 - acc: 0.9616 - val_loss: 0.0997 - val_acc: 0.9711\n"
     ]
    }
   ],
   "source": [
    "model2 = Sequential()\n",
    "model2.add(Dense(64, input_shape=(784,)))\n",
    "model2.add(Activation('relu'))\n",
    "model2.add(Dropout(0.3))\n",
    "model2.add(Dense(64))\n",
    "model2.add(Activation('relu'))\n",
    "model2.add(Dropout(0.3))\n",
    "model2.add(Dense(10))\n",
    "model2.add(Activation('softmax'))\n",
    "model2.summary()\n",
    "\n",
    "OPTIMIZER = Adam()\n",
    "model2.compile(loss='categorical_crossentropy', optimizer=OPTIMIZER, metrics=['accuracy'])\n",
    "history2 = model2.fit(X_train, Y_train,batch_size=64, epochs=20,verbose=1, validation_split=0.2)"
   ]
  },
  {
   "cell_type": "code",
   "execution_count": 17,
   "metadata": {},
   "outputs": [
    {
     "name": "stdout",
     "output_type": "stream",
     "text": [
      " 9664/10000 [===========================>..] - ETA:  - ETA: 0s\n",
      "Loss: 0.09, Accuracy: 97.25%\n"
     ]
    }
   ],
   "source": [
    "# evaluate the network\n",
    "loss, accuracy = model2.evaluate(X_test, Y_test)\n",
    "print(\"\\nLoss: %.2f, Accuracy: %.2f%%\" % (loss, accuracy*100))\n",
    "accuracies.append(accuracy)"
   ]
  },
  {
   "cell_type": "code",
   "execution_count": 18,
   "metadata": {},
   "outputs": [
    {
     "name": "stdout",
     "output_type": "stream",
     "text": [
      "_________________________________________________________________\n",
      "Layer (type)                 Output Shape              Param #   \n",
      "=================================================================\n",
      "dense_16 (Dense)             (None, 128)               100480    \n",
      "_________________________________________________________________\n",
      "activation_16 (Activation)   (None, 128)               0         \n",
      "_________________________________________________________________\n",
      "dropout_11 (Dropout)         (None, 128)               0         \n",
      "_________________________________________________________________\n",
      "dense_17 (Dense)             (None, 128)               16512     \n",
      "_________________________________________________________________\n",
      "activation_17 (Activation)   (None, 128)               0         \n",
      "_________________________________________________________________\n",
      "dropout_12 (Dropout)         (None, 128)               0         \n",
      "_________________________________________________________________\n",
      "dense_18 (Dense)             (None, 10)                1290      \n",
      "_________________________________________________________________\n",
      "activation_18 (Activation)   (None, 10)                0         \n",
      "=================================================================\n",
      "Total params: 118,282.0\n",
      "Trainable params: 118,282.0\n",
      "Non-trainable params: 0.0\n",
      "_________________________________________________________________\n",
      "Train on 48000 samples, validate on 12000 samples\n",
      "Epoch 1/20\n",
      "48000/48000 [==============================] - 6s - loss: 0.4461 - acc: 0.8652 - val_loss: 0.1682 - val_acc: 0.9501\n",
      "Epoch 2/20\n",
      "48000/48000 [==============================] - 5s - loss: 0.2112 - acc: 0.9367 - val_loss: 0.1241 - val_acc: 0.9633\n",
      "Epoch 3/20\n",
      "48000/48000 [==============================] - 5s - loss: 0.1642 - acc: 0.9507 - val_loss: 0.1103 - val_acc: 0.9683\n",
      "Epoch 4/20\n",
      "48000/48000 [==============================] - 5s - loss: 0.1376 - acc: 0.9588 - val_loss: 0.1012 - val_acc: 0.9700\n",
      "Epoch 5/20\n",
      "48000/48000 [==============================] - 5s - loss: 0.1212 - acc: 0.9626 - val_loss: 0.0983 - val_acc: 0.9693\n",
      "Epoch 6/20\n",
      "48000/48000 [==============================] - 5s - loss: 0.1090 - acc: 0.9662 - val_loss: 0.0959 - val_acc: 0.9744\n",
      "Epoch 7/20\n",
      "48000/48000 [==============================] - 5s - loss: 0.1003 - acc: 0.9686 - val_loss: 0.0918 - val_acc: 0.9728\n",
      "Epoch 8/20\n",
      "48000/48000 [==============================] - 5s - loss: 0.0932 - acc: 0.9708 - val_loss: 0.0885 - val_acc: 0.9732\n",
      "Epoch 9/20\n",
      "48000/48000 [==============================] - 5s - loss: 0.0819 - acc: 0.9750 - val_loss: 0.0905 - val_acc: 0.9739\n",
      "Epoch 10/20\n",
      "48000/48000 [==============================] - 5s - loss: 0.0799 - acc: 0.9743 - val_loss: 0.0878 - val_acc: 0.9744\n",
      "Epoch 11/20\n",
      "48000/48000 [==============================] - 5s - loss: 0.0784 - acc: 0.9761 - val_loss: 0.0925 - val_acc: 0.9737\n",
      "Epoch 12/20\n",
      "48000/48000 [==============================] - 5s - loss: 0.0728 - acc: 0.9770 - val_loss: 0.0848 - val_acc: 0.9765\n",
      "Epoch 13/20\n",
      "48000/48000 [==============================] - 5s - loss: 0.0712 - acc: 0.9778 - val_loss: 0.0806 - val_acc: 0.9780\n",
      "Epoch 14/20\n",
      "48000/48000 [==============================] - 5s - loss: 0.0662 - acc: 0.9788 - val_loss: 0.0838 - val_acc: 0.9769\n",
      "Epoch 15/20\n",
      "48000/48000 [==============================] - 5s - loss: 0.0652 - acc: 0.9790 - val_loss: 0.0852 - val_acc: 0.9763\n",
      "Epoch 16/20\n",
      "48000/48000 [==============================] - 5s - loss: 0.0619 - acc: 0.9801 - val_loss: 0.0818 - val_acc: 0.9775\n",
      "Epoch 17/20\n",
      "48000/48000 [==============================] - 5s - loss: 0.0610 - acc: 0.9806 - val_loss: 0.0823 - val_acc: 0.9777\n",
      "Epoch 18/20\n",
      "48000/48000 [==============================] - 5s - loss: 0.0564 - acc: 0.9823 - val_loss: 0.0890 - val_acc: 0.9773\n",
      "Epoch 19/20\n",
      "48000/48000 [==============================] - 5s - loss: 0.0542 - acc: 0.9823 - val_loss: 0.0861 - val_acc: 0.9787\n",
      "Epoch 20/20\n",
      "48000/48000 [==============================] - 5s - loss: 0.0560 - acc: 0.9821 - val_loss: 0.0809 - val_acc: 0.9781\n"
     ]
    }
   ],
   "source": [
    "model3 = Sequential()\n",
    "model3.add(Dense(128, input_shape=(784,)))\n",
    "model3.add(Activation('relu'))\n",
    "model3.add(Dropout(0.3))\n",
    "model3.add(Dense(128))\n",
    "model3.add(Activation('relu'))\n",
    "model3.add(Dropout(0.3))\n",
    "model3.add(Dense(10))\n",
    "model3.add(Activation('softmax'))\n",
    "model3.summary()\n",
    "\n",
    "OPTIMIZER = Adam()\n",
    "model3.compile(loss='categorical_crossentropy', optimizer=OPTIMIZER, metrics=['accuracy'])\n",
    "history3 = model3.fit(X_train, Y_train,batch_size=64, epochs=20,verbose=1, validation_split=0.2)"
   ]
  },
  {
   "cell_type": "code",
   "execution_count": 19,
   "metadata": {},
   "outputs": [
    {
     "name": "stdout",
     "output_type": "stream",
     "text": [
      " 9216/10000 [==========================>...] - ETA: 0s\n",
      "Loss: 0.08, Accuracy: 97.82%\n"
     ]
    }
   ],
   "source": [
    "# evaluate the network\n",
    "loss, accuracy = model3.evaluate(X_test, Y_test)\n",
    "print(\"\\nLoss: %.2f, Accuracy: %.2f%%\" % (loss, accuracy*100))\n",
    "accuracies.append(accuracy)"
   ]
  },
  {
   "cell_type": "code",
   "execution_count": 20,
   "metadata": {},
   "outputs": [
    {
     "name": "stdout",
     "output_type": "stream",
     "text": [
      "_________________________________________________________________\n",
      "Layer (type)                 Output Shape              Param #   \n",
      "=================================================================\n",
      "dense_19 (Dense)             (None, 512)               401920    \n",
      "_________________________________________________________________\n",
      "activation_19 (Activation)   (None, 512)               0         \n",
      "_________________________________________________________________\n",
      "dropout_13 (Dropout)         (None, 512)               0         \n",
      "_________________________________________________________________\n",
      "dense_20 (Dense)             (None, 512)               262656    \n",
      "_________________________________________________________________\n",
      "activation_20 (Activation)   (None, 512)               0         \n",
      "_________________________________________________________________\n",
      "dropout_14 (Dropout)         (None, 512)               0         \n",
      "_________________________________________________________________\n",
      "dense_21 (Dense)             (None, 10)                5130      \n",
      "_________________________________________________________________\n",
      "activation_21 (Activation)   (None, 10)                0         \n",
      "=================================================================\n",
      "Total params: 669,706.0\n",
      "Trainable params: 669,706.0\n",
      "Non-trainable params: 0.0\n",
      "_________________________________________________________________\n",
      "Train on 48000 samples, validate on 12000 samples\n",
      "Epoch 1/20\n",
      "48000/48000 [==============================] - 23s - loss: 0.2675 - acc: 0.9187 - val_loss: 0.1199 - val_acc: 0.9627\n",
      "Epoch 2/20\n",
      "48000/48000 [==============================] - 23s - loss: 0.1225 - acc: 0.9620 - val_loss: 0.1031 - val_acc: 0.9692\n",
      "Epoch 3/20\n",
      "48000/48000 [==============================] - 23s - loss: 0.0924 - acc: 0.9723 - val_loss: 0.0898 - val_acc: 0.9738\n",
      "Epoch 4/20\n",
      "48000/48000 [==============================] - 23s - loss: 0.0751 - acc: 0.9759 - val_loss: 0.0827 - val_acc: 0.9749\n",
      "Epoch 5/20\n",
      "48000/48000 [==============================] - 23s - loss: 0.0662 - acc: 0.9789 - val_loss: 0.0894 - val_acc: 0.9758\n",
      "Epoch 6/20\n",
      "48000/48000 [==============================] - 23s - loss: 0.0599 - acc: 0.9807 - val_loss: 0.0742 - val_acc: 0.9794\n",
      "Epoch 7/20\n",
      "48000/48000 [==============================] - 23s - loss: 0.0486 - acc: 0.9850 - val_loss: 0.0737 - val_acc: 0.9798\n",
      "Epoch 8/20\n",
      "48000/48000 [==============================] - 23s - loss: 0.0505 - acc: 0.9842 - val_loss: 0.0744 - val_acc: 0.9808\n",
      "Epoch 9/20\n",
      "48000/48000 [==============================] - 23s - loss: 0.0425 - acc: 0.9860 - val_loss: 0.0853 - val_acc: 0.9781\n",
      "Epoch 10/20\n",
      "48000/48000 [==============================] - 23s - loss: 0.0413 - acc: 0.9861 - val_loss: 0.0899 - val_acc: 0.9785\n",
      "Epoch 11/20\n",
      "48000/48000 [==============================] - 23s - loss: 0.0392 - acc: 0.9875 - val_loss: 0.0808 - val_acc: 0.9808\n",
      "Epoch 12/20\n",
      "48000/48000 [==============================] - 23s - loss: 0.0354 - acc: 0.9888 - val_loss: 0.0798 - val_acc: 0.9816\n",
      "Epoch 13/20\n",
      "48000/48000 [==============================] - 23s - loss: 0.0332 - acc: 0.9886 - val_loss: 0.0921 - val_acc: 0.9792\n",
      "Epoch 14/20\n",
      "48000/48000 [==============================] - 23s - loss: 0.0310 - acc: 0.9902 - val_loss: 0.0926 - val_acc: 0.9781\n",
      "Epoch 15/20\n",
      "48000/48000 [==============================] - 23s - loss: 0.0322 - acc: 0.9896 - val_loss: 0.0943 - val_acc: 0.9777\n",
      "Epoch 16/20\n",
      "48000/48000 [==============================] - 23s - loss: 0.0289 - acc: 0.9909 - val_loss: 0.1045 - val_acc: 0.9788\n",
      "Epoch 17/20\n",
      "48000/48000 [==============================] - 25s - loss: 0.0325 - acc: 0.9897 - val_loss: 0.0913 - val_acc: 0.9818\n",
      "Epoch 18/20\n",
      "48000/48000 [==============================] - 24s - loss: 0.0288 - acc: 0.9913 - val_loss: 0.0958 - val_acc: 0.9801\n",
      "Epoch 19/20\n",
      "48000/48000 [==============================] - 23s - loss: 0.0273 - acc: 0.9919 - val_loss: 0.0921 - val_acc: 0.9802\n",
      "Epoch 20/20\n",
      "48000/48000 [==============================] - 23s - loss: 0.0281 - acc: 0.9911 - val_loss: 0.0863 - val_acc: 0.9809\n"
     ]
    }
   ],
   "source": [
    "model4 = Sequential()\n",
    "model4.add(Dense(512, input_shape=(784,)))\n",
    "model4.add(Activation('relu'))\n",
    "model4.add(Dropout(0.3))\n",
    "model4.add(Dense(512))\n",
    "model4.add(Activation('relu'))\n",
    "model4.add(Dropout(0.3))\n",
    "model4.add(Dense(10))\n",
    "model4.add(Activation('softmax'))\n",
    "model4.summary()\n",
    "\n",
    "OPTIMIZER = Adam()\n",
    "model4.compile(loss='categorical_crossentropy', optimizer=OPTIMIZER, metrics=['accuracy'])\n",
    "history4 = model4.fit(X_train, Y_train,batch_size=64, epochs=20,verbose=1, validation_split=0.2)"
   ]
  },
  {
   "cell_type": "code",
   "execution_count": 21,
   "metadata": {},
   "outputs": [
    {
     "name": "stdout",
     "output_type": "stream",
     "text": [
      " 9664/10000 [===========================>..] - ETA: 0s\n",
      "Loss: 0.07, Accuracy: 98.37%\n"
     ]
    }
   ],
   "source": [
    "# evaluate the network\n",
    "loss, accuracy = model4.evaluate(X_test, Y_test)\n",
    "print(\"\\nLoss: %.2f, Accuracy: %.2f%%\" % (loss, accuracy*100))\n",
    "accuracies.append(accuracy)"
   ]
  },
  {
   "cell_type": "code",
   "execution_count": 22,
   "metadata": {},
   "outputs": [
    {
     "name": "stdout",
     "output_type": "stream",
     "text": [
      "_________________________________________________________________\n",
      "Layer (type)                 Output Shape              Param #   \n",
      "=================================================================\n",
      "dense_22 (Dense)             (None, 1024)              803840    \n",
      "_________________________________________________________________\n",
      "activation_22 (Activation)   (None, 1024)              0         \n",
      "_________________________________________________________________\n",
      "dropout_15 (Dropout)         (None, 1024)              0         \n",
      "_________________________________________________________________\n",
      "dense_23 (Dense)             (None, 1024)              1049600   \n",
      "_________________________________________________________________\n",
      "activation_23 (Activation)   (None, 1024)              0         \n",
      "_________________________________________________________________\n",
      "dropout_16 (Dropout)         (None, 1024)              0         \n",
      "_________________________________________________________________\n",
      "dense_24 (Dense)             (None, 10)                10250     \n",
      "_________________________________________________________________\n",
      "activation_24 (Activation)   (None, 10)                0         \n",
      "=================================================================\n",
      "Total params: 1,863,690.0\n",
      "Trainable params: 1,863,690.0\n",
      "Non-trainable params: 0.0\n",
      "_________________________________________________________________\n",
      "Train on 48000 samples, validate on 12000 samples\n",
      "Epoch 1/20\n",
      "48000/48000 [==============================] - 64s - loss: 0.2384 - acc: 0.9273 - val_loss: 0.1197 - val_acc: 0.9630\n",
      "Epoch 2/20\n",
      "48000/48000 [==============================] - 63s - loss: 0.1126 - acc: 0.9654 - val_loss: 0.1196 - val_acc: 0.9643\n",
      "Epoch 3/20\n",
      "48000/48000 [==============================] - 62s - loss: 0.0867 - acc: 0.9723 - val_loss: 0.0960 - val_acc: 0.9694\n",
      "Epoch 4/20\n",
      "48000/48000 [==============================] - 62s - loss: 0.0703 - acc: 0.9776 - val_loss: 0.0896 - val_acc: 0.9754\n",
      "Epoch 5/20\n",
      "48000/48000 [==============================] - 63s - loss: 0.0605 - acc: 0.9810 - val_loss: 0.0848 - val_acc: 0.9763\n",
      "Epoch 6/20\n",
      "48000/48000 [==============================] - 64s - loss: 0.0566 - acc: 0.9825 - val_loss: 0.0799 - val_acc: 0.9771\n",
      "Epoch 7/20\n",
      "48000/48000 [==============================] - 62s - loss: 0.0506 - acc: 0.9844 - val_loss: 0.0987 - val_acc: 0.9744\n",
      "Epoch 8/20\n",
      "48000/48000 [==============================] - 62s - loss: 0.0449 - acc: 0.9858 - val_loss: 0.1225 - val_acc: 0.9708\n",
      "Epoch 9/20\n",
      "48000/48000 [==============================] - 62s - loss: 0.0418 - acc: 0.9867 - val_loss: 0.0898 - val_acc: 0.9777\n",
      "Epoch 10/20\n",
      "48000/48000 [==============================] - 62s - loss: 0.0376 - acc: 0.9878 - val_loss: 0.0936 - val_acc: 0.9793\n",
      "Epoch 11/20\n",
      "48000/48000 [==============================] - 61s - loss: 0.0392 - acc: 0.9879 - val_loss: 0.1042 - val_acc: 0.9762\n",
      "Epoch 12/20\n",
      "48000/48000 [==============================] - 62s - loss: 0.0352 - acc: 0.9893 - val_loss: 0.1007 - val_acc: 0.9786\n",
      "Epoch 13/20\n",
      "48000/48000 [==============================] - 61s - loss: 0.0294 - acc: 0.9909 - val_loss: 0.1118 - val_acc: 0.9782\n",
      "Epoch 14/20\n",
      "48000/48000 [==============================] - 61s - loss: 0.0351 - acc: 0.9897 - val_loss: 0.0978 - val_acc: 0.9792\n",
      "Epoch 15/20\n",
      "48000/48000 [==============================] - 61s - loss: 0.0350 - acc: 0.9900 - val_loss: 0.0928 - val_acc: 0.9812\n",
      "Epoch 16/20\n",
      "48000/48000 [==============================] - 61s - loss: 0.0309 - acc: 0.9912 - val_loss: 0.0989 - val_acc: 0.9794\n",
      "Epoch 17/20\n",
      "48000/48000 [==============================] - 61s - loss: 0.0346 - acc: 0.9899 - val_loss: 0.0978 - val_acc: 0.9804\n",
      "Epoch 18/20\n",
      "48000/48000 [==============================] - 61s - loss: 0.0247 - acc: 0.9922 - val_loss: 0.0998 - val_acc: 0.9789\n",
      "Epoch 19/20\n",
      "48000/48000 [==============================] - 61s - loss: 0.0307 - acc: 0.9913 - val_loss: 0.1119 - val_acc: 0.9802\n",
      "Epoch 20/20\n",
      "48000/48000 [==============================] - 60s - loss: 0.0271 - acc: 0.9921 - val_loss: 0.1207 - val_acc: 0.9786\n"
     ]
    }
   ],
   "source": [
    "model5 = Sequential()\n",
    "model5.add(Dense(1024, input_shape=(784,)))\n",
    "model5.add(Activation('relu'))\n",
    "model5.add(Dropout(0.3))\n",
    "model5.add(Dense(1024))\n",
    "model5.add(Activation('relu'))\n",
    "model5.add(Dropout(0.3))\n",
    "model5.add(Dense(10))\n",
    "model5.add(Activation('softmax'))\n",
    "model5.summary()\n",
    "\n",
    "OPTIMIZER = Adam()\n",
    "model5.compile(loss='categorical_crossentropy', optimizer=OPTIMIZER, metrics=['accuracy'])\n",
    "history5 = model5.fit(X_train, Y_train,batch_size=64, epochs=20,verbose=1, validation_split=0.2)"
   ]
  },
  {
   "cell_type": "code",
   "execution_count": 23,
   "metadata": {},
   "outputs": [
    {
     "name": "stdout",
     "output_type": "stream",
     "text": [
      "10000/10000 [==============================] - 3s     \n",
      "\n",
      "Loss: 0.10, Accuracy: 98.06%\n"
     ]
    }
   ],
   "source": [
    "# evaluate the network\n",
    "loss, accuracy = model5.evaluate(X_test, Y_test)\n",
    "print(\"\\nLoss: %.2f, Accuracy: %.2f%%\" % (loss, accuracy*100))\n",
    "accuracies.append(accuracy)"
   ]
  },
  {
   "cell_type": "code",
   "execution_count": 24,
   "metadata": {},
   "outputs": [
    {
     "data": {
      "text/plain": [
       "[0.95679999999999998,\n",
       " 0.97250000000000003,\n",
       " 0.97819999999999996,\n",
       " 0.98370000000000002,\n",
       " 0.98060000000000003]"
      ]
     },
     "execution_count": 24,
     "metadata": {},
     "output_type": "execute_result"
    }
   ],
   "source": [
    "accuracies"
   ]
  },
  {
   "cell_type": "code",
   "execution_count": 25,
   "metadata": {
    "collapsed": true
   },
   "outputs": [],
   "source": [
    "hidden_units=[32,64,128,512,1024]"
   ]
  },
  {
   "cell_type": "code",
   "execution_count": 26,
   "metadata": {},
   "outputs": [
    {
     "data": {
      "image/png": "[encoded data removed]",
      "text/plain": [
       "<matplotlib.figure.Figure at 0x263762a518>"
      ]
     },
     "metadata": {},
     "output_type": "display_data"
    }
   ],
   "source": [
    "# summarize history for accuracy\n",
    "plt.plot(hidden_units,accuracies)\n",
    "\n",
    "plt.title('hidden units accuracy')\n",
    "plt.ylabel('accuracy')\n",
    "plt.xlabel('hidden units')\n",
    "plt.show()"
   ]
  },
  {
   "cell_type": "code",
   "execution_count": null,
   "metadata": {
    "collapsed": true
   },
   "outputs": [],
   "source": []
  }
 ],
 "metadata": {
  "kernelspec": {
   "display_name": "Python 3",
   "language": "python",
   "name": "python3"
  },
  "language_info": {
   "codemirror_mode": {
    "name": "ipython",
    "version": 3
   },
   "file_extension": ".py",
   "mimetype": "text/x-python",
   "name": "python",
   "nbconvert_exporter": "python",
   "pygments_lexer": "ipython3",
   "version": "3.6.1"
  }
 },
 "nbformat": 4,
 "nbformat_minor": 2
}
